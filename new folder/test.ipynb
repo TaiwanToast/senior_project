{
 "cells": [
  {
   "cell_type": "code",
   "execution_count": 3,
   "metadata": {},
   "outputs": [],
   "source": [
    "import pandas as pd\n",
    "from sentence_transformers import SentenceTransformer\n",
    "\n",
    "# 讀取 CSV\n",
    "df = pd.read_csv(\"data.csv\")\n",
    "\n",
    "# 初始化中文向量化模型\n",
    "model = SentenceTransformer('shibing624/text2vec-base-chinese')\n",
    "\n",
    "# 合併重要字段成檢索文本\n",
    "df['search_text'] = df['商品名稱'] + \" \" + df['描述'] + \" \" + df['商品標籤']\n",
    "df['search_text'] = df['search_text'].fillna(\"\")  # 將 NaN 替換為空字串\n",
    "df['search_text'] = df['search_text'].astype(str)\n",
    "\n",
    "\n",
    "# 向量化處理\n",
    "embeddings = model.encode(df['search_text'].tolist())\n"
   ]
  },
  {
   "cell_type": "code",
   "execution_count": 4,
   "metadata": {},
   "outputs": [],
   "source": [
    "import faiss\n",
    "import numpy as np\n",
    "\n",
    "# 建立向量索引\n",
    "dimension = embeddings.shape[1]\n",
    "index = faiss.IndexFlatL2(dimension)\n",
    "index.add(np.array(embeddings))  # 加入商品向量\n",
    "\n",
    "# 保存索引 (可選)\n",
    "faiss.write_index(index, \"product_index.faiss\")\n"
   ]
  },
  {
   "cell_type": "code",
   "execution_count": 26,
   "metadata": {},
   "outputs": [
    {
     "name": "stdout",
     "output_type": "stream",
     "text": [
      "query_embedding: (1, 768)\n",
      "(     分類                                   商品名稱  \\\n",
      "100  滑鼠                            羅技 M90 光學滑鼠   \n",
      "94   滑鼠                         羅技 G102 炫彩遊戲滑鼠   \n",
      "97   滑鼠                         羅技 M190 無線滑鼠-黑   \n",
      "96   滑鼠  羅技 M100r 光學滑鼠 有線設計 雙手均適用 1000 dpi高解析度   \n",
      "99   滑鼠                         羅技 M190 無線滑鼠-紅   \n",
      "\n",
      "                                                    描述     價格  \n",
      "100              ['◆羅技 logi M90', '◆全尺寸左右手皆適用', '◆有線']  189 元  \n",
      "94   ['◆七彩光學效果，讓遊戲更充滿樂趣', '◆高達8000DPI遊戲等級感應器', '◆機械...  499 元  \n",
      "97           ['◆全尺寸的舒適感', '◆無延遲的無線連線。', '◆精確追蹤/輕鬆捲動。']  349 元  \n",
      "96   ['◆有線設計，免除更換電池的過程', '◆雙手均適用的舒適設計', '◆1000 dpi高...  299 元  \n",
      "99           ['◆全尺寸的舒適感', '◆無延遲的無線連線。', '◆精確追蹤/輕鬆捲動。']  349 元  , array([[347.71057, 356.52734, 371.08612, 383.7093 , 384.15964]],\n",
      "      dtype=float32))\n"
     ]
    }
   ],
   "source": [
    "def search_products(query, top_k=5):\n",
    "    # 查詢向量化\n",
    "    query_embedding = model.encode([query])\n",
    "    \n",
    "    print('query_embedding: ', end='')\n",
    "    print(query_embedding.shape)\n",
    "\n",
    "    # 檢索最近的商品\n",
    "    distances, indices = index.search(np.array(query_embedding), top_k)\n",
    "    \n",
    "    # 返回結果\n",
    "    results = df.iloc[indices[0]]\n",
    "    return results[['分類', '商品名稱', '描述', '價格']], distances\n",
    "\n",
    "# 測試查詢\n",
    "query = \"滑鼠\"\n",
    "results = search_products(query)\n",
    "print(results)\n"
   ]
  },
  {
   "cell_type": "code",
   "execution_count": 11,
   "metadata": {},
   "outputs": [
    {
     "data": {
      "text/html": [
       "<div>\n",
       "<style scoped>\n",
       "    .dataframe tbody tr th:only-of-type {\n",
       "        vertical-align: middle;\n",
       "    }\n",
       "\n",
       "    .dataframe tbody tr th {\n",
       "        vertical-align: top;\n",
       "    }\n",
       "\n",
       "    .dataframe thead th {\n",
       "        text-align: right;\n",
       "    }\n",
       "</style>\n",
       "<table border=\"1\" class=\"dataframe\">\n",
       "  <thead>\n",
       "    <tr style=\"text-align: right;\">\n",
       "      <th></th>\n",
       "      <th>分類</th>\n",
       "      <th>商品名稱</th>\n",
       "      <th>描述</th>\n",
       "      <th>價格</th>\n",
       "    </tr>\n",
       "  </thead>\n",
       "  <tbody>\n",
       "    <tr>\n",
       "      <th>94</th>\n",
       "      <td>滑鼠</td>\n",
       "      <td>羅技 G102 炫彩遊戲滑鼠</td>\n",
       "      <td>['◆七彩光學效果，讓遊戲更充滿樂趣', '◆高達8000DPI遊戲等級感應器', '◆機械...</td>\n",
       "      <td>499 元</td>\n",
       "    </tr>\n",
       "    <tr>\n",
       "      <th>2794</th>\n",
       "      <td>電腦應用週邊</td>\n",
       "      <td>MS-G2 電擊新安洲遊戲滑鼠</td>\n",
       "      <td>['', '', '']</td>\n",
       "      <td>價格須至店內詢問</td>\n",
       "    </tr>\n",
       "    <tr>\n",
       "      <th>100</th>\n",
       "      <td>滑鼠</td>\n",
       "      <td>羅技 M90 光學滑鼠</td>\n",
       "      <td>['◆羅技 logi M90', '◆全尺寸左右手皆適用', '◆有線']</td>\n",
       "      <td>189 元</td>\n",
       "    </tr>\n",
       "    <tr>\n",
       "      <th>95</th>\n",
       "      <td>滑鼠</td>\n",
       "      <td>羅技 G304 無線電競滑鼠-黑</td>\n",
       "      <td>['◆高效能 HERO 感應器，高達10倍省電效能', '◆超疾速 LIGHTSPEED 無...</td>\n",
       "      <td>1090 元</td>\n",
       "    </tr>\n",
       "    <tr>\n",
       "      <th>2795</th>\n",
       "      <td>電腦應用週邊</td>\n",
       "      <td>MS-G3 電擊剎帝利遊戲滑鼠</td>\n",
       "      <td>['', '', '']</td>\n",
       "      <td>價格須至店內詢問</td>\n",
       "    </tr>\n",
       "  </tbody>\n",
       "</table>\n",
       "</div>"
      ],
      "text/plain": [
       "          分類              商品名稱  \\\n",
       "94        滑鼠    羅技 G102 炫彩遊戲滑鼠   \n",
       "2794  電腦應用週邊   MS-G2 電擊新安洲遊戲滑鼠   \n",
       "100       滑鼠       羅技 M90 光學滑鼠   \n",
       "95        滑鼠  羅技 G304 無線電競滑鼠-黑   \n",
       "2795  電腦應用週邊   MS-G3 電擊剎帝利遊戲滑鼠   \n",
       "\n",
       "                                                     描述        價格  \n",
       "94    ['◆七彩光學效果，讓遊戲更充滿樂趣', '◆高達8000DPI遊戲等級感應器', '◆機械...     499 元  \n",
       "2794                                       ['', '', '']  價格須至店內詢問  \n",
       "100               ['◆羅技 logi M90', '◆全尺寸左右手皆適用', '◆有線']     189 元  \n",
       "95    ['◆高效能 HERO 感應器，高達10倍省電效能', '◆超疾速 LIGHTSPEED 無...    1090 元  \n",
       "2795                                       ['', '', '']  價格須至店內詢問  "
      ]
     },
     "execution_count": 11,
     "metadata": {},
     "output_type": "execute_result"
    }
   ],
   "source": [
    "query = \"電競滑鼠\"\n",
    "results, distances = search_products(query)\n",
    "results"
   ]
  },
  {
   "cell_type": "code",
   "execution_count": 12,
   "metadata": {},
   "outputs": [
    {
     "data": {
      "text/plain": [
       "array([[227.5427 , 250.2357 , 254.87384, 258.8756 , 260.0652 ]],\n",
       "      dtype=float32)"
      ]
     },
     "execution_count": 12,
     "metadata": {},
     "output_type": "execute_result"
    }
   ],
   "source": [
    "distances"
   ]
  },
  {
   "cell_type": "code",
   "execution_count": 13,
   "metadata": {},
   "outputs": [
    {
     "data": {
      "text/html": [
       "<div>\n",
       "<style scoped>\n",
       "    .dataframe tbody tr th:only-of-type {\n",
       "        vertical-align: middle;\n",
       "    }\n",
       "\n",
       "    .dataframe tbody tr th {\n",
       "        vertical-align: top;\n",
       "    }\n",
       "\n",
       "    .dataframe thead th {\n",
       "        text-align: right;\n",
       "    }\n",
       "</style>\n",
       "<table border=\"1\" class=\"dataframe\">\n",
       "  <thead>\n",
       "    <tr style=\"text-align: right;\">\n",
       "      <th></th>\n",
       "      <th>分類</th>\n",
       "      <th>商品名稱</th>\n",
       "      <th>描述</th>\n",
       "      <th>價格</th>\n",
       "    </tr>\n",
       "  </thead>\n",
       "  <tbody>\n",
       "    <tr>\n",
       "      <th>2673</th>\n",
       "      <td>電子套件</td>\n",
       "      <td>MTLAPC16128 邏輯分析儀(數位電子乙級技能檢定)LAP-C(16128)</td>\n",
       "      <td>['', '', '']</td>\n",
       "      <td>價格須至店內詢問</td>\n",
       "    </tr>\n",
       "    <tr>\n",
       "      <th>3241</th>\n",
       "      <td>電腦產品</td>\n",
       "      <td>【A4 TECH 】BLOODY V7+B2-5 血手系列+血手寶典(含特血核心三/四）/光學滑鼠</td>\n",
       "      <td>['◆BLOODY 血手令 血手幽靈 V7 智能多核 左三槍 USB 有線 電競遊戲滑鼠',...</td>\n",
       "      <td>899 元</td>\n",
       "    </tr>\n",
       "    <tr>\n",
       "      <th>1219</th>\n",
       "      <td>通訊電子產品</td>\n",
       "      <td>CP-376M 4/6/8P三用壓接工具</td>\n",
       "      <td>['', '', '']</td>\n",
       "      <td>價格須至店內詢問</td>\n",
       "    </tr>\n",
       "    <tr>\n",
       "      <th>1338</th>\n",
       "      <td>通訊電子產品</td>\n",
       "      <td>LS-920E UY接續子</td>\n",
       "      <td>['', '', '']</td>\n",
       "      <td>價格須至店內詢問</td>\n",
       "    </tr>\n",
       "    <tr>\n",
       "      <th>1081</th>\n",
       "      <td>一般電子零件</td>\n",
       "      <td>AS001 MINI 轉接頭 15公15母 三排 90度</td>\n",
       "      <td>['', '', '']</td>\n",
       "      <td>價格須至店內詢問</td>\n",
       "    </tr>\n",
       "  </tbody>\n",
       "</table>\n",
       "</div>"
      ],
      "text/plain": [
       "          分類                                               商品名稱  \\\n",
       "2673    電子套件          MTLAPC16128 邏輯分析儀(數位電子乙級技能檢定)LAP-C(16128)   \n",
       "3241    電腦產品  【A4 TECH 】BLOODY V7+B2-5 血手系列+血手寶典(含特血核心三/四）/光學滑鼠   \n",
       "1219  通訊電子產品                               CP-376M 4/6/8P三用壓接工具   \n",
       "1338  通訊電子產品                                      LS-920E UY接續子   \n",
       "1081  一般電子零件                       AS001 MINI 轉接頭 15公15母 三排 90度   \n",
       "\n",
       "                                                     描述        價格  \n",
       "2673                                       ['', '', '']  價格須至店內詢問  \n",
       "3241  ['◆BLOODY 血手令 血手幽靈 V7 智能多核 左三槍 USB 有線 電競遊戲滑鼠',...     899 元  \n",
       "1219                                       ['', '', '']  價格須至店內詢問  \n",
       "1338                                       ['', '', '']  價格須至店內詢問  \n",
       "1081                                       ['', '', '']  價格須至店內詢問  "
      ]
     },
     "execution_count": 13,
     "metadata": {},
     "output_type": "execute_result"
    }
   ],
   "source": [
    "query = \"王益文\"\n",
    "results, distances = search_products(query)\n",
    "results"
   ]
  },
  {
   "cell_type": "code",
   "execution_count": 14,
   "metadata": {},
   "outputs": [
    {
     "data": {
      "text/plain": [
       "array([[340.2034 , 341.17004, 344.2594 , 345.12506, 345.16287]],\n",
       "      dtype=float32)"
      ]
     },
     "execution_count": 14,
     "metadata": {},
     "output_type": "execute_result"
    }
   ],
   "source": [
    "distances"
   ]
  },
  {
   "cell_type": "code",
   "execution_count": 19,
   "metadata": {},
   "outputs": [
    {
     "data": {
      "text/html": [
       "<div>\n",
       "<style scoped>\n",
       "    .dataframe tbody tr th:only-of-type {\n",
       "        vertical-align: middle;\n",
       "    }\n",
       "\n",
       "    .dataframe tbody tr th {\n",
       "        vertical-align: top;\n",
       "    }\n",
       "\n",
       "    .dataframe thead th {\n",
       "        text-align: right;\n",
       "    }\n",
       "</style>\n",
       "<table border=\"1\" class=\"dataframe\">\n",
       "  <thead>\n",
       "    <tr style=\"text-align: right;\">\n",
       "      <th></th>\n",
       "      <th>分類</th>\n",
       "      <th>商品名稱</th>\n",
       "      <th>描述</th>\n",
       "      <th>價格</th>\n",
       "    </tr>\n",
       "  </thead>\n",
       "  <tbody>\n",
       "    <tr>\n",
       "      <th>2713</th>\n",
       "      <td>電腦應用週邊</td>\n",
       "      <td>EMS102BK E-BLUE藍光鯊魚鼠(黑)</td>\n",
       "      <td>['', '', '']</td>\n",
       "      <td>價格須至店內詢問</td>\n",
       "    </tr>\n",
       "    <tr>\n",
       "      <th>2715</th>\n",
       "      <td>電腦應用週邊</td>\n",
       "      <td>EMS102GR E-BLUE藍光鯊魚鼠(綠)</td>\n",
       "      <td>['', '', '']</td>\n",
       "      <td>價格須至店內詢問</td>\n",
       "    </tr>\n",
       "    <tr>\n",
       "      <th>2717</th>\n",
       "      <td>電腦應用週邊</td>\n",
       "      <td>EMS102WH E-BLUE藍光鯊魚鼠(白)</td>\n",
       "      <td>['', '', '']</td>\n",
       "      <td>價格須至店內詢問</td>\n",
       "    </tr>\n",
       "    <tr>\n",
       "      <th>3016</th>\n",
       "      <td>汽機車用品</td>\n",
       "      <td>8093A 1156-18食人魚LED 12V</td>\n",
       "      <td>['顏色:紅.黃.綠.藍.白色', '', '']</td>\n",
       "      <td>價格須至店內詢問</td>\n",
       "    </tr>\n",
       "    <tr>\n",
       "      <th>3018</th>\n",
       "      <td>汽機車用品</td>\n",
       "      <td>8094A 1157-18食人魚LED 12V</td>\n",
       "      <td>['顏色:紅.黃.綠.藍.白色', '', '']</td>\n",
       "      <td>價格須至店內詢問</td>\n",
       "    </tr>\n",
       "  </tbody>\n",
       "</table>\n",
       "</div>"
      ],
      "text/plain": [
       "          分類                     商品名稱                         描述        價格\n",
       "2713  電腦應用週邊  EMS102BK E-BLUE藍光鯊魚鼠(黑)               ['', '', '']  價格須至店內詢問\n",
       "2715  電腦應用週邊  EMS102GR E-BLUE藍光鯊魚鼠(綠)               ['', '', '']  價格須至店內詢問\n",
       "2717  電腦應用週邊  EMS102WH E-BLUE藍光鯊魚鼠(白)               ['', '', '']  價格須至店內詢問\n",
       "3016   汽機車用品  8093A 1156-18食人魚LED 12V  ['顏色:紅.黃.綠.藍.白色', '', '']  價格須至店內詢問\n",
       "3018   汽機車用品  8094A 1157-18食人魚LED 12V  ['顏色:紅.黃.綠.藍.白色', '', '']  價格須至店內詢問"
      ]
     },
     "execution_count": 19,
     "metadata": {},
     "output_type": "execute_result"
    }
   ],
   "source": [
    "query = \"神奇海螺\"\n",
    "results, distances = search_products(query)\n",
    "results"
   ]
  },
  {
   "cell_type": "code",
   "execution_count": 20,
   "metadata": {},
   "outputs": [
    {
     "data": {
      "text/plain": [
       "array([[312.02997, 316.02222, 320.35962, 335.82098, 340.3968 ]],\n",
       "      dtype=float32)"
      ]
     },
     "execution_count": 20,
     "metadata": {},
     "output_type": "execute_result"
    }
   ],
   "source": [
    "distances"
   ]
  },
  {
   "cell_type": "code",
   "execution_count": 21,
   "metadata": {},
   "outputs": [
    {
     "data": {
      "text/html": [
       "<div>\n",
       "<style scoped>\n",
       "    .dataframe tbody tr th:only-of-type {\n",
       "        vertical-align: middle;\n",
       "    }\n",
       "\n",
       "    .dataframe tbody tr th {\n",
       "        vertical-align: top;\n",
       "    }\n",
       "\n",
       "    .dataframe thead th {\n",
       "        text-align: right;\n",
       "    }\n",
       "</style>\n",
       "<table border=\"1\" class=\"dataframe\">\n",
       "  <thead>\n",
       "    <tr style=\"text-align: right;\">\n",
       "      <th></th>\n",
       "      <th>分類</th>\n",
       "      <th>商品名稱</th>\n",
       "      <th>描述</th>\n",
       "      <th>價格</th>\n",
       "    </tr>\n",
       "  </thead>\n",
       "  <tbody>\n",
       "    <tr>\n",
       "      <th>94</th>\n",
       "      <td>滑鼠</td>\n",
       "      <td>羅技 G102 炫彩遊戲滑鼠</td>\n",
       "      <td>['◆七彩光學效果，讓遊戲更充滿樂趣', '◆高達8000DPI遊戲等級感應器', '◆機械...</td>\n",
       "      <td>499 元</td>\n",
       "    </tr>\n",
       "    <tr>\n",
       "      <th>100</th>\n",
       "      <td>滑鼠</td>\n",
       "      <td>羅技 M90 光學滑鼠</td>\n",
       "      <td>['◆羅技 logi M90', '◆全尺寸左右手皆適用', '◆有線']</td>\n",
       "      <td>189 元</td>\n",
       "    </tr>\n",
       "    <tr>\n",
       "      <th>97</th>\n",
       "      <td>滑鼠</td>\n",
       "      <td>羅技 M190 無線滑鼠-黑</td>\n",
       "      <td>['◆全尺寸的舒適感', '◆無延遲的無線連線。', '◆精確追蹤/輕鬆捲動。']</td>\n",
       "      <td>349 元</td>\n",
       "    </tr>\n",
       "    <tr>\n",
       "      <th>99</th>\n",
       "      <td>滑鼠</td>\n",
       "      <td>羅技 M190 無線滑鼠-紅</td>\n",
       "      <td>['◆全尺寸的舒適感', '◆無延遲的無線連線。', '◆精確追蹤/輕鬆捲動。']</td>\n",
       "      <td>349 元</td>\n",
       "    </tr>\n",
       "    <tr>\n",
       "      <th>98</th>\n",
       "      <td>滑鼠</td>\n",
       "      <td>羅技 M190 無線滑鼠-藍</td>\n",
       "      <td>['◆全尺寸的舒適感。', '◆無延遲的無線連線。', '◆精確追蹤/輕鬆捲動。']</td>\n",
       "      <td>349 元</td>\n",
       "    </tr>\n",
       "  </tbody>\n",
       "</table>\n",
       "</div>"
      ],
      "text/plain": [
       "     分類            商品名稱                                                 描述  \\\n",
       "94   滑鼠  羅技 G102 炫彩遊戲滑鼠  ['◆七彩光學效果，讓遊戲更充滿樂趣', '◆高達8000DPI遊戲等級感應器', '◆機械...   \n",
       "100  滑鼠     羅技 M90 光學滑鼠              ['◆羅技 logi M90', '◆全尺寸左右手皆適用', '◆有線']   \n",
       "97   滑鼠  羅技 M190 無線滑鼠-黑          ['◆全尺寸的舒適感', '◆無延遲的無線連線。', '◆精確追蹤/輕鬆捲動。']   \n",
       "99   滑鼠  羅技 M190 無線滑鼠-紅          ['◆全尺寸的舒適感', '◆無延遲的無線連線。', '◆精確追蹤/輕鬆捲動。']   \n",
       "98   滑鼠  羅技 M190 無線滑鼠-藍         ['◆全尺寸的舒適感。', '◆無延遲的無線連線。', '◆精確追蹤/輕鬆捲動。']   \n",
       "\n",
       "        價格  \n",
       "94   499 元  \n",
       "100  189 元  \n",
       "97   349 元  \n",
       "99   349 元  \n",
       "98   349 元  "
      ]
     },
     "execution_count": 21,
     "metadata": {},
     "output_type": "execute_result"
    }
   ],
   "source": [
    "query = \"羅技滑鼠\"\n",
    "results, distances = search_products(query)\n",
    "results"
   ]
  },
  {
   "cell_type": "code",
   "execution_count": 22,
   "metadata": {},
   "outputs": [
    {
     "data": {
      "text/plain": [
       "array([[183.30498, 191.29105, 215.88385, 221.04794, 236.49658]],\n",
       "      dtype=float32)"
      ]
     },
     "execution_count": 22,
     "metadata": {},
     "output_type": "execute_result"
    }
   ],
   "source": [
    "distances"
   ]
  },
  {
   "cell_type": "code",
   "execution_count": 23,
   "metadata": {},
   "outputs": [
    {
     "data": {
      "text/html": [
       "<div>\n",
       "<style scoped>\n",
       "    .dataframe tbody tr th:only-of-type {\n",
       "        vertical-align: middle;\n",
       "    }\n",
       "\n",
       "    .dataframe tbody tr th {\n",
       "        vertical-align: top;\n",
       "    }\n",
       "\n",
       "    .dataframe thead th {\n",
       "        text-align: right;\n",
       "    }\n",
       "</style>\n",
       "<table border=\"1\" class=\"dataframe\">\n",
       "  <thead>\n",
       "    <tr style=\"text-align: right;\">\n",
       "      <th></th>\n",
       "      <th>分類</th>\n",
       "      <th>商品名稱</th>\n",
       "      <th>描述</th>\n",
       "      <th>價格</th>\n",
       "    </tr>\n",
       "  </thead>\n",
       "  <tbody>\n",
       "    <tr>\n",
       "      <th>94</th>\n",
       "      <td>滑鼠</td>\n",
       "      <td>羅技 G102 炫彩遊戲滑鼠</td>\n",
       "      <td>['◆七彩光學效果，讓遊戲更充滿樂趣', '◆高達8000DPI遊戲等級感應器', '◆機械...</td>\n",
       "      <td>499 元</td>\n",
       "    </tr>\n",
       "    <tr>\n",
       "      <th>100</th>\n",
       "      <td>滑鼠</td>\n",
       "      <td>羅技 M90 光學滑鼠</td>\n",
       "      <td>['◆羅技 logi M90', '◆全尺寸左右手皆適用', '◆有線']</td>\n",
       "      <td>189 元</td>\n",
       "    </tr>\n",
       "    <tr>\n",
       "      <th>96</th>\n",
       "      <td>滑鼠</td>\n",
       "      <td>羅技 M100r 光學滑鼠 有線設計 雙手均適用 1000 dpi高解析度</td>\n",
       "      <td>['◆有線設計，免除更換電池的過程', '◆雙手均適用的舒適設計', '◆1000 dpi高...</td>\n",
       "      <td>299 元</td>\n",
       "    </tr>\n",
       "    <tr>\n",
       "      <th>102</th>\n",
       "      <td>滑鼠墊</td>\n",
       "      <td>darkFlash Flex800滑鼠墊 產品尺寸：80*30 cm 厚度：4mm 厚度舒適...</td>\n",
       "      <td>['◆darkFlash Flex800 mousepad', '◆天然橡膠材質加厚，兼具外...</td>\n",
       "      <td>499 元</td>\n",
       "    </tr>\n",
       "    <tr>\n",
       "      <th>97</th>\n",
       "      <td>滑鼠</td>\n",
       "      <td>羅技 M190 無線滑鼠-黑</td>\n",
       "      <td>['◆全尺寸的舒適感', '◆無延遲的無線連線。', '◆精確追蹤/輕鬆捲動。']</td>\n",
       "      <td>349 元</td>\n",
       "    </tr>\n",
       "  </tbody>\n",
       "</table>\n",
       "</div>"
      ],
      "text/plain": [
       "      分類                                               商品名稱  \\\n",
       "94    滑鼠                                     羅技 G102 炫彩遊戲滑鼠   \n",
       "100   滑鼠                                        羅技 M90 光學滑鼠   \n",
       "96    滑鼠              羅技 M100r 光學滑鼠 有線設計 雙手均適用 1000 dpi高解析度   \n",
       "102  滑鼠墊  darkFlash Flex800滑鼠墊 產品尺寸：80*30 cm 厚度：4mm 厚度舒適...   \n",
       "97    滑鼠                                     羅技 M190 無線滑鼠-黑   \n",
       "\n",
       "                                                    描述     價格  \n",
       "94   ['◆七彩光學效果，讓遊戲更充滿樂趣', '◆高達8000DPI遊戲等級感應器', '◆機械...  499 元  \n",
       "100              ['◆羅技 logi M90', '◆全尺寸左右手皆適用', '◆有線']  189 元  \n",
       "96   ['◆有線設計，免除更換電池的過程', '◆雙手均適用的舒適設計', '◆1000 dpi高...  299 元  \n",
       "102  ['◆darkFlash Flex800 mousepad', '◆天然橡膠材質加厚，兼具外...  499 元  \n",
       "97           ['◆全尺寸的舒適感', '◆無延遲的無線連線。', '◆精確追蹤/輕鬆捲動。']  349 元  "
      ]
     },
     "execution_count": 23,
     "metadata": {},
     "output_type": "execute_result"
    }
   ],
   "source": [
    "query = \"200元內的羅技滑鼠\"\n",
    "results, distances = search_products(query)\n",
    "results"
   ]
  },
  {
   "cell_type": "code",
   "execution_count": 24,
   "metadata": {},
   "outputs": [
    {
     "data": {
      "text/plain": [
       "array([[230.57358, 245.57944, 251.47884, 254.30429, 256.75046]],\n",
       "      dtype=float32)"
      ]
     },
     "execution_count": 24,
     "metadata": {},
     "output_type": "execute_result"
    }
   ],
   "source": [
    "distances"
   ]
  },
  {
   "cell_type": "code",
   "execution_count": null,
   "metadata": {},
   "outputs": [],
   "source": []
  }
 ],
 "metadata": {
  "kernelspec": {
   "display_name": "Python 3",
   "language": "python",
   "name": "python3"
  },
  "language_info": {
   "codemirror_mode": {
    "name": "ipython",
    "version": 3
   },
   "file_extension": ".py",
   "mimetype": "text/x-python",
   "name": "python",
   "nbconvert_exporter": "python",
   "pygments_lexer": "ipython3",
   "version": "3.11.7"
  }
 },
 "nbformat": 4,
 "nbformat_minor": 2
}
