{
 "cells": [
  {
   "cell_type": "code",
   "execution_count": 8,
   "metadata": {},
   "outputs": [],
   "source": [
    "import os\n",
    "import pypdf\n",
    "\n",
    "def extract_text_from_pdf(pdf_path):\n",
    "    \"\"\" 從 PDF 提取文本內容 \"\"\"\n",
    "    text = \"\"\n",
    "    with open(pdf_path, \"rb\") as file:\n",
    "        reader = pypdf.PdfReader(file)\n",
    "        for page in reader.pages:\n",
    "            text += page.extract_text() + \"\\n\"\n",
    "    return text\n"
   ]
  },
  {
   "cell_type": "code",
   "execution_count": 9,
   "metadata": {},
   "outputs": [],
   "source": [
    "# Load model directly\n",
    "# from transformers import AutoTokenizer, AutoModel\n",
    "from sentence_transformers import SentenceTransformer\n",
    "\n",
    "model = SentenceTransformer(\"sentence-transformers/paraphrase-multilingual-MiniLM-L12-v2\")\n",
    "\n",
    "def text_to_vector(text):\n",
    "    \"\"\" 將文本轉換為向量 \"\"\"\n",
    "    return model.encode(text)\n"
   ]
  },
  {
   "cell_type": "code",
   "execution_count": 10,
   "metadata": {},
   "outputs": [],
   "source": [
    "import chromadb\n",
    "\n",
    "# 初始化 ChromaDB 並創建 Collection\n",
    "chroma_client = chromadb.PersistentClient(path=\"./chroma_db\")\n",
    "collection = chroma_client.get_or_create_collection(name=\"pdf_documents\")\n"
   ]
  },
  {
   "cell_type": "code",
   "execution_count": 11,
   "metadata": {},
   "outputs": [
    {
     "name": "stderr",
     "output_type": "stream",
     "text": [
      "Add of existing embedding ID: doc_0\n",
      "Insert of existing embedding ID: doc_0\n",
      "Add of existing embedding ID: doc_1\n",
      "Insert of existing embedding ID: doc_1\n",
      "Add of existing embedding ID: doc_2\n",
      "Insert of existing embedding ID: doc_2\n",
      "Add of existing embedding ID: doc_3\n",
      "Insert of existing embedding ID: doc_3\n",
      "Add of existing embedding ID: doc_4\n",
      "Insert of existing embedding ID: doc_4\n"
     ]
    }
   ],
   "source": [
    "def store_pdf_in_chroma(pdf_path, doc_id):\n",
    "    \"\"\" 讀取 PDF、轉換為向量並存儲到 ChromaDB \"\"\"\n",
    "    text = extract_text_from_pdf(pdf_path)\n",
    "    vector = text_to_vector(text)\n",
    "\n",
    "    collection.add(\n",
    "        ids=[doc_id],  # 唯一識別碼\n",
    "        embeddings=[vector.tolist()],  # 向量化結果\n",
    "        metadatas=[{\"filename\": os.path.basename(pdf_path), \"text\": text}]  # 儲存部分文字內容\n",
    "    )\n",
    "\n",
    "# 批量處理多個 PDF 文件\n",
    "pdf_folder = \"..\\\\product infomation\"\n",
    "pdf_files = [f for f in os.listdir(pdf_folder) if f.endswith(\".pdf\")]\n",
    "\n",
    "for idx, pdf_file in enumerate(pdf_files):\n",
    "    store_pdf_in_chroma(os.path.join(pdf_folder, pdf_file), doc_id=f\"doc_{idx}\")\n"
   ]
  },
  {
   "cell_type": "code",
   "execution_count": 12,
   "metadata": {},
   "outputs": [
    {
     "name": "stdout",
     "output_type": "stream",
     "text": [
      "文件: 羅技 Logitech H340 USB耳機麥克風.pdf (相似度: -9.4967)\n",
      "內容預覽: 商品名稱羅技 Logitech H340 USB耳機麥克風 店家名稱筑蒂資訊有限公司\n",
      "商品售價945 店家電話04-22216131\n",
      "店家地址台灣省台中市中山路49巷11-2號\n",
      "商品描述\n",
      "商品資料表\n",
      "H340 USB Computer Headset\n",
      "UBS隨插即用\n",
      "H340 USB 耳機麥克風具有簡易隨插即用 USB-A \n",
      "連線功能，是完美的日常工作耳機麥克風。隔噪麥克風可減少背景噪音，為 VO\n",
      "\n",
      "文件: SADES DIABLO 暗黑鬥狼RGB REALTEK 電競耳麥 7.1 (USB) SA-916.pdf (相似度: -13.7832)\n",
      "內容預覽: 商品名稱SADES DIABLO 暗黑鬥狼RGB REALTEK 電競耳麥 7.1 (USB) SA-916店家名稱筑蒂資訊有限公司\n",
      "商品售價2,390 店家電話04-22216131\n",
      "店家地址台灣省台中市中山路49巷11-2號\n",
      "商品描述\n",
      "商品資料表\n",
      "<<黑暗中閃耀的不只是我的利爪 還有你即將流下的眼淚>> \n",
      "• 全球首發Realtek瑞昱電競耳機音效系統 \n",
      "• 電競音效功能：擴闊音場/強化通話/\n",
      "\n",
      "文件: W202 人體工學椅.pdf (相似度: -18.9989)\n",
      "內容預覽: 商品名稱W202 人體工學椅 店家名稱Xpanse旗艦店\n",
      "商品售價1,460 店家電話未提供\n",
      "店家地址未提供\n",
      "商品描述\n",
      "商品資料表\n",
      "耐重粗鐵管腳+強化塑料框架 結構穩實乘坐安全可靠\n",
      "椅背採優選透氣網布，韌性高易拉伸不易斯裂\n",
      "高密度定型棉坐墊，柔軟舒適久坐\n",
      "當空間較小時或需搬動時可以瞬間收納，不佔空間\n",
      "㇐體式折合桌椅輕便重量只有8KG,收納移動簡單便利 \n",
      "已投保1000萬-產品責任險~讓您安心使用多\n",
      "\n"
     ]
    }
   ],
   "source": [
    "def search_similar_pdfs(query_text, top_k=3):\n",
    "    \"\"\" 搜尋與輸入文本最相似的 PDF 文件 \"\"\"\n",
    "    query_vector = text_to_vector(query_text)\n",
    "    \n",
    "    results = collection.query(\n",
    "        query_embeddings=[query_vector.tolist()],\n",
    "        n_results=top_k\n",
    "    )\n",
    "    \n",
    "    return results[\"documents\"], results[\"metadatas\"], results[\"distances\"]\n",
    "\n",
    "# 測試檢索\n",
    "query = \"耳機\"\n",
    "docs, metas, dists = search_similar_pdfs(query)\n",
    "\n",
    "for doc, meta, dist in zip(docs[0], metas[0], dists[0]):\n",
    "    print(f\"文件: {meta['filename']} (相似度: {1 - dist:.4f})\\n內容預覽: {meta['text']}\\n\")\n"
   ]
  },
  {
   "cell_type": "code",
   "execution_count": 14,
   "metadata": {},
   "outputs": [
    {
     "name": "stdout",
     "output_type": "stream",
     "text": [
      "文件: [折疊收納]懶人折疊桌.pdf (相似度: -19.9151)\n",
      "內容預覽: 商品名稱[折疊收納]懶人折疊桌 店家名稱吉來小舖\n",
      "商品售價95 店家電話未提供\n",
      "店家地址未提供\n",
      "商品描述\n",
      "商品資料表\n",
      "產品名稱：懶人折疊桌\n",
      "產品顏色：木紋\n",
      "展開尺寸：50x30x23cm\n",
      "折疊尺寸：50x30x5cm\n",
      "產品重量：約1290克\n",
      "產品材質：密度板+鋼管+塑料\n",
      "產品用途：折疊桌\n",
      "組裝需求：無\n",
      "使用方法：展開即可使用\n",
      "產品產地：中國\n",
      "產品貨源：原廠公司貨\n",
      "保存方法：本產品請避光陰涼處存放。\n",
      "\n",
      "文件: W202 人體工學椅.pdf (相似度: -21.8566)\n",
      "內容預覽: 商品名稱W202 人體工學椅 店家名稱Xpanse旗艦店\n",
      "商品售價1,460 店家電話未提供\n",
      "店家地址未提供\n",
      "商品描述\n",
      "商品資料表\n",
      "耐重粗鐵管腳+強化塑料框架 結構穩實乘坐安全可靠\n",
      "椅背採優選透氣網布，韌性高易拉伸不易斯裂\n",
      "高密度定型棉坐墊，柔軟舒適久坐\n",
      "當空間較小時或需搬動時可以瞬間收納，不佔空間\n",
      "㇐體式折合桌椅輕便重量只有8KG,收納移動簡單便利 \n",
      "已投保1000萬-產品責任險~讓您安心使用多\n",
      "\n",
      "文件: 羅技 Logitech H340 USB耳機麥克風.pdf (相似度: -23.5981)\n",
      "內容預覽: 商品名稱羅技 Logitech H340 USB耳機麥克風 店家名稱筑蒂資訊有限公司\n",
      "商品售價945 店家電話04-22216131\n",
      "店家地址台灣省台中市中山路49巷11-2號\n",
      "商品描述\n",
      "商品資料表\n",
      "H340 USB Computer Headset\n",
      "UBS隨插即用\n",
      "H340 USB 耳機麥克風具有簡易隨插即用 USB-A \n",
      "連線功能，是完美的日常工作耳機麥克風。隔噪麥克風可減少背景噪音，為 VO\n",
      "\n"
     ]
    }
   ],
   "source": [
    "query = \"辦公桌\"\n",
    "docs, metas, dists = search_similar_pdfs(query)\n",
    "\n",
    "for doc, meta, dist in zip(docs[0], metas[0], dists[0]):\n",
    "    print(f\"文件: {meta['filename']} (相似度: {1 - dist:.4f})\\n內容預覽: {meta['text']}\\n\")"
   ]
  },
  {
   "cell_type": "code",
   "execution_count": 15,
   "metadata": {},
   "outputs": [
    {
     "name": "stdout",
     "output_type": "stream",
     "text": [
      "文件: [折疊收納]懶人折疊桌.pdf (相似度: -18.0205)\n",
      "內容預覽: 商品名稱[折疊收納]懶人折疊桌 店家名稱吉來小舖\n",
      "商品售價95 店家電話未提供\n",
      "店家地址未提供\n",
      "商品描述\n",
      "商品資料表\n",
      "產品名稱：懶人折疊桌\n",
      "產品顏色：木紋\n",
      "展開尺寸：50x30x23cm\n",
      "折疊尺寸：50x30x5cm\n",
      "產品重量：約1290克\n",
      "產品材質：密度板+鋼管+塑料\n",
      "產品用途：折疊桌\n",
      "組裝需求：無\n",
      "使用方法：展開即可使用\n",
      "產品產地：中國\n",
      "產品貨源：原廠公司貨\n",
      "保存方法：本產品請避光陰涼處存放。\n",
      "\n",
      "文件: W202 人體工學椅.pdf (相似度: -19.8583)\n",
      "內容預覽: 商品名稱W202 人體工學椅 店家名稱Xpanse旗艦店\n",
      "商品售價1,460 店家電話未提供\n",
      "店家地址未提供\n",
      "商品描述\n",
      "商品資料表\n",
      "耐重粗鐵管腳+強化塑料框架 結構穩實乘坐安全可靠\n",
      "椅背採優選透氣網布，韌性高易拉伸不易斯裂\n",
      "高密度定型棉坐墊，柔軟舒適久坐\n",
      "當空間較小時或需搬動時可以瞬間收納，不佔空間\n",
      "㇐體式折合桌椅輕便重量只有8KG,收納移動簡單便利 \n",
      "已投保1000萬-產品責任險~讓您安心使用多\n",
      "\n",
      "文件: 羅技 Logitech H340 USB耳機麥克風.pdf (相似度: -21.5987)\n",
      "內容預覽: 商品名稱羅技 Logitech H340 USB耳機麥克風 店家名稱筑蒂資訊有限公司\n",
      "商品售價945 店家電話04-22216131\n",
      "店家地址台灣省台中市中山路49巷11-2號\n",
      "商品描述\n",
      "商品資料表\n",
      "H340 USB Computer Headset\n",
      "UBS隨插即用\n",
      "H340 USB 耳機麥克風具有簡易隨插即用 USB-A \n",
      "連線功能，是完美的日常工作耳機麥克風。隔噪麥克風可減少背景噪音，為 VO\n",
      "\n"
     ]
    }
   ],
   "source": [
    "query = \"工作桌\"\n",
    "docs, metas, dists = search_similar_pdfs(query)\n",
    "\n",
    "for doc, meta, dist in zip(docs[0], metas[0], dists[0]):\n",
    "    print(f\"文件: {meta['filename']} (相似度: {1 - dist:.4f})\\n內容預覽: {meta['text']}\\n\")"
   ]
  },
  {
   "cell_type": "code",
   "execution_count": null,
   "metadata": {},
   "outputs": [
    {
     "name": "stdout",
     "output_type": "stream",
     "text": [
      "文件: 羅技 Logitech H340 USB耳機麥克風.pdf (相似度: -6.9175)\n",
      "內容預覽: 商品名稱羅技 Logitech H340 USB耳機麥克風 店家名稱筑蒂資訊有限公司\n",
      "商品售價945 店家電話04-22216131\n",
      "店家地址台灣省台中市中山路49巷11-2號\n",
      "商品描述\n",
      "商品資料表\n",
      "H340 USB Computer Headset\n",
      "UBS隨插即用\n",
      "H340 USB 耳機麥克風具有簡易隨插即用 USB-A \n",
      "連線功能，是完美的日常工作耳機麥克風。隔噪麥克風可減少背景噪音，為 VO\n",
      "\n",
      "文件: SADES DIABLO 暗黑鬥狼RGB REALTEK 電競耳麥 7.1 (USB) SA-916.pdf (相似度: -7.6960)\n",
      "內容預覽: 商品名稱SADES DIABLO 暗黑鬥狼RGB REALTEK 電競耳麥 7.1 (USB) SA-916店家名稱筑蒂資訊有限公司\n",
      "商品售價2,390 店家電話04-22216131\n",
      "店家地址台灣省台中市中山路49巷11-2號\n",
      "商品描述\n",
      "商品資料表\n",
      "<<黑暗中閃耀的不只是我的利爪 還有你即將流下的眼淚>> \n",
      "• 全球首發Realtek瑞昱電競耳機音效系統 \n",
      "• 電競音效功能：擴闊音場/強化通話/\n",
      "\n",
      "文件: [折疊收納]懶人折疊桌.pdf (相似度: -11.5355)\n",
      "內容預覽: 商品名稱[折疊收納]懶人折疊桌 店家名稱吉來小舖\n",
      "商品售價95 店家電話未提供\n",
      "店家地址未提供\n",
      "商品描述\n",
      "商品資料表\n",
      "產品名稱：懶人折疊桌\n",
      "產品顏色：木紋\n",
      "展開尺寸：50x30x23cm\n",
      "折疊尺寸：50x30x5cm\n",
      "產品重量：約1290克\n",
      "產品材質：密度板+鋼管+塑料\n",
      "產品用途：折疊桌\n",
      "組裝需求：無\n",
      "使用方法：展開即可使用\n",
      "產品產地：中國\n",
      "產品貨源：原廠公司貨\n",
      "保存方法：本產品請避光陰涼處存放。\n",
      "\n",
      "文件: W202 人體工學椅.pdf (相似度: -11.7959)\n",
      "內容預覽: 商品名稱W202 人體工學椅 店家名稱Xpanse旗艦店\n",
      "商品售價1,460 店家電話未提供\n",
      "店家地址未提供\n",
      "商品描述\n",
      "商品資料表\n",
      "耐重粗鐵管腳+強化塑料框架 結構穩實乘坐安全可靠\n",
      "椅背採優選透氣網布，韌性高易拉伸不易斯裂\n",
      "高密度定型棉坐墊，柔軟舒適久坐\n",
      "當空間較小時或需搬動時可以瞬間收納，不佔空間\n",
      "㇐體式折合桌椅輕便重量只有8KG,收納移動簡單便利 \n",
      "已投保1000萬-產品責任險~讓您安心使用多\n",
      "\n",
      "文件: DE-291-1 DE-293 工作桌.pdf (相似度: -13.0403)\n",
      "內容預覽: 商品名稱DE-291-1 DE-293 工作桌 店家名稱家昀國際暢貨中心\n",
      "商品售價1,299 店家電話04-25651960\n",
      "店家地址台中市大雅區龍善二街22號\n",
      "商品描述\n",
      "商品資料表\n",
      "商品型號：I-R-DE291-1胡桃色/I-R-DE293胡桃搭黑色\n",
      "商品尺寸：W120×D60×H121.5CM\n",
      "商品顏色：胡桃木色/胡桃搭黑色\n",
      "商品材質：厚1.5cm塑合板貼美耐皿+2*2cm烤漆鐵管\n",
      "組裝方式：\n",
      "\n"
     ]
    }
   ],
   "source": [
    "query = \"電競的耳麥\"\n",
    "docs, metas, dists = search_similar_pdfs(query, 5)\n",
    "\n",
    "for doc, meta, dist in zip(docs[0], metas[0], dists[0]):\n",
    "    print(f\"文件: {meta['filename']} (相似度: {1 - dist:.4f})\\n內容預覽: {meta['text']}\\n\")"
   ]
  },
  {
   "cell_type": "code",
   "execution_count": 22,
   "metadata": {},
   "outputs": [],
   "source": [
    "with open(\"a.txt\", \"w\", encoding=\"utf-8\") as f:\n",
    "    for doc, meta, dist in zip(docs[0], metas[0], dists[0]):\n",
    "        f.write(f\"文件: {meta['filename']} (相似度: {1 - dist:.4f})\\n內容預覽:\\n{meta['text']}\\n\\n\")"
   ]
  },
  {
   "cell_type": "code",
   "execution_count": 23,
   "metadata": {},
   "outputs": [],
   "source": [
    "query = \"工作桌\"\n",
    "docs, metas, dists = search_similar_pdfs(query, 5)\n",
    "\n",
    "with open(\"a.txt\", \"w\", encoding=\"utf-8\") as f:\n",
    "    for doc, meta, dist in zip(docs[0], metas[0], dists[0]):\n",
    "        f.write(f\"文件: {meta['filename']} (相似度: {1 - dist:.4f})\\n內容預覽:\\n{meta['text']}\\n\\n\")"
   ]
  },
  {
   "cell_type": "code",
   "execution_count": null,
   "metadata": {},
   "outputs": [],
   "source": []
  }
 ],
 "metadata": {
  "kernelspec": {
   "display_name": "Python 3",
   "language": "python",
   "name": "python3"
  },
  "language_info": {
   "codemirror_mode": {
    "name": "ipython",
    "version": 3
   },
   "file_extension": ".py",
   "mimetype": "text/x-python",
   "name": "python",
   "nbconvert_exporter": "python",
   "pygments_lexer": "ipython3",
   "version": "3.11.7"
  }
 },
 "nbformat": 4,
 "nbformat_minor": 2
}
