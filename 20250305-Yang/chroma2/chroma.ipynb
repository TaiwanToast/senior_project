{
 "cells": [
  {
   "cell_type": "code",
   "execution_count": 1,
   "metadata": {},
   "outputs": [
    {
     "name": "stderr",
     "output_type": "stream",
     "text": [
      "d:\\Python3\\Lib\\site-packages\\tqdm\\auto.py:21: TqdmWarning: IProgress not found. Please update jupyter and ipywidgets. See https://ipywidgets.readthedocs.io/en/stable/user_install.html\n",
      "  from .autonotebook import tqdm as notebook_tqdm\n"
     ]
    }
   ],
   "source": [
    "import os\n",
    "import chromadb\n",
    "import pypdf\n",
    "import numpy as np\n",
    "from langchain.text_splitter import RecursiveCharacterTextSplitter\n",
    "from sentence_transformers import SentenceTransformer\n"
   ]
  },
  {
   "cell_type": "code",
   "execution_count": 2,
   "metadata": {},
   "outputs": [],
   "source": [
    "# 初始化 ChromaDB\n",
    "chroma_client = chromadb.PersistentClient(path=\"./chroma_db\")\n",
    "collection = chroma_client.get_or_create_collection(name=\"pdf_documents\")\n",
    "\n",
    "# 選擇適合中文的語意檢索模型\n",
    "model = SentenceTransformer(\"sentence-transformers/paraphrase-multilingual-MiniLM-L12-v2\")"
   ]
  },
  {
   "cell_type": "code",
   "execution_count": 3,
   "metadata": {},
   "outputs": [],
   "source": [
    "def extract_text_from_pdf(pdf_path):\n",
    "    \"\"\" 從 PDF 提取文字內容 \"\"\"\n",
    "    text = \"\"\n",
    "    with open(pdf_path, \"rb\") as file:\n",
    "        reader = pypdf.PdfReader(file)\n",
    "        for page in reader.pages:\n",
    "            text += page.extract_text() + \"\\n\"\n",
    "    return text"
   ]
  },
  {
   "cell_type": "code",
   "execution_count": 4,
   "metadata": {},
   "outputs": [],
   "source": [
    "def split_text(text, chunk_size=500, chunk_overlap=50):\n",
    "    \"\"\" 切分文本為小段落 \"\"\"\n",
    "    splitter = RecursiveCharacterTextSplitter(chunk_size=chunk_size, chunk_overlap=chunk_overlap)\n",
    "    return splitter.split_text(text)"
   ]
  },
  {
   "cell_type": "code",
   "execution_count": 5,
   "metadata": {},
   "outputs": [],
   "source": [
    "def text_to_vector(text):\n",
    "    \"\"\" 將文本轉換為向量 \"\"\"\n",
    "    return model.encode(text).tolist()"
   ]
  },
  {
   "cell_type": "code",
   "execution_count": 6,
   "metadata": {},
   "outputs": [],
   "source": [
    "def store_vectors_in_chroma(text_chunks, file_name):\n",
    "    \"\"\" 儲存文本向量到 ChromaDB，並包含文件名稱 \"\"\"\n",
    "    for idx, chunk in enumerate(text_chunks):\n",
    "        collection.add(\n",
    "            ids=[f\"{file_name}_{idx}\"],\n",
    "            embeddings=[text_to_vector(chunk)],\n",
    "            metadatas=[{\"text\": chunk, \"file_name\": file_name}]\n",
    "        )"
   ]
  },
  {
   "cell_type": "code",
   "execution_count": null,
   "metadata": {},
   "outputs": [],
   "source": [
    "def process_pdfs(pdf_folder):\n",
    "    \"\"\" 處理指定資料夾內的所有 PDF，並存入向量資料庫 \"\"\"\n",
    "    chroma_client.clear_system_cache()\n",
    "    chroma_client.reset()\n",
    "    for file in os.listdir(pdf_folder):\n",
    "        if file.endswith(\".pdf\"):\n",
    "            pdf_path = os.path.join(pdf_folder, file)\n",
    "            print(f\"處理文件: {file}\")\n",
    "            pdf_text = extract_text_from_pdf(pdf_path)\n",
    "            text_chunks = split_text(pdf_text)\n",
    "            store_vectors_in_chroma(text_chunks, file)"
   ]
  },
  {
   "cell_type": "code",
   "execution_count": 8,
   "metadata": {},
   "outputs": [],
   "source": [
    "def search_chroma(query, top_k=3):\n",
    "    \"\"\" 使用 ChromaDB 查詢相似文本，並回傳對應的 PDF 文件名稱 \"\"\"\n",
    "    query_vector = text_to_vector(query)\n",
    "    results = collection.query(query_embeddings=[query_vector], n_results=top_k)\n",
    "    \n",
    "    matched_texts = [r[\"text\"] for r in results[\"metadatas\"][0]]\n",
    "    file_names = [r[\"file_name\"] for r in results[\"metadatas\"][0]]\n",
    "    \n",
    "    return list(zip(file_names, matched_texts))"
   ]
  },
  {
   "cell_type": "code",
   "execution_count": null,
   "metadata": {},
   "outputs": [
    {
     "name": "stdout",
     "output_type": "stream",
     "text": [
      "處理文件: DE-291-1 DE-293 工作桌.pdf\n",
      "處理文件: SADES DIABLO 暗黑鬥狼RGB REALTEK 電競耳麥 7.1 (USB) SA-916.pdf\n",
      "處理文件: W202 人體工學椅.pdf\n",
      "處理文件: [折疊收納]懶人折疊桌.pdf\n",
      "處理文件: 世界上最透明的故事（日本出版界話題作，只有紙本書可以體驗的感動）.pdf\n",
      "處理文件: 羅技 Logitech H340 USB耳機麥克風.pdf\n"
     ]
    }
   ],
   "source": [
    "# 🔹 處理多個 PDF 文件\n",
    "process_pdfs(\"D:\\.vscode\\專題\\product infomation\")  # 你的 PDF 資料夾路徑"
   ]
  },
  {
   "cell_type": "code",
   "execution_count": null,
   "metadata": {},
   "outputs": [],
   "source": [
    "# 🔹 測試查詢\n",
    "query = \"\"\n",
    "search_results = search_chroma(query, 5)\n",
    "with open('a.txt', 'w', encoding='utf-8') as f:\n",
    "    for i, (file_name, result) in enumerate(search_results):\n",
    "        f.write(f\"來自文件: {file_name}\\n相關段落 {i+1}: {result}\\n\\n\")"
   ]
  },
  {
   "cell_type": "markdown",
   "metadata": {},
   "source": []
  },
  {
   "cell_type": "code",
   "execution_count": null,
   "metadata": {},
   "outputs": [],
   "source": []
  }
 ],
 "metadata": {
  "kernelspec": {
   "display_name": "Python 3",
   "language": "python",
   "name": "python3"
  },
  "language_info": {
   "codemirror_mode": {
    "name": "ipython",
    "version": 3
   },
   "file_extension": ".py",
   "mimetype": "text/x-python",
   "name": "python",
   "nbconvert_exporter": "python",
   "pygments_lexer": "ipython3",
   "version": "3.11.7"
  }
 },
 "nbformat": 4,
 "nbformat_minor": 2
}
