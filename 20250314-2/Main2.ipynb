{
 "cells": [
  {
   "cell_type": "code",
   "execution_count": null,
   "metadata": {},
   "outputs": [
    {
     "name": "stderr",
     "output_type": "stream",
     "text": [
      "d:\\Python3\\Lib\\site-packages\\tqdm\\auto.py:21: TqdmWarning: IProgress not found. Please update jupyter and ipywidgets. See https://ipywidgets.readthedocs.io/en/stable/user_install.html\n",
      "  from .autonotebook import tqdm as notebook_tqdm\n"
     ]
    }
   ],
   "source": [
    "import numpy as np\n",
    "from myTFIDFModel import MyTFIDFModel\n",
    "from myChromaDB import MyChromaDB\n",
    "from myProcesser import Processer\n",
    "\n",
    "def hybridSearch(quary: str, db: MyChromaDB, tfidf: MyTFIDFModel, chroma_weight: float = 0.4, tfidf_weight: float = 0.6, top_n: int = 10):\n",
    "    dbResults = db.search(quary, top_k=top_n)\n",
    "    tfidfResults = tfidf.search(quary, top_k=top_n)\n",
    "\n",
    "    dbScores = {\n",
    "        i['fileName']: i['score']\n",
    "        for i in dbResults\n",
    "    }\n",
    "\n",
    "    tfidfScores = {\n",
    "        i['file_name']: i['cosine_similarity']\n",
    "        for i in tfidfResults\n",
    "    }\n",
    "\n",
    "    combinedScores = {}\n",
    "    for file in set(dbScores.keys()).union(tfidfScores.keys()):\n",
    "        dbScore = dbScores.get(file, 0)\n",
    "        tfidfScore = tfidfScores.get(file, 0)\n",
    "        combinedScores[file] = dbScore * chroma_weight + tfidfScore * tfidf_weight\n",
    "\n",
    "    sorted_result = sorted(combinedScores.items(), key=lambda x: x[1], reverse=True)[:top_n]\n",
    "\n",
    "    print('dbScores:')\n",
    "    for i in dbScores.keys():\n",
    "        print(f'{i}: {dbScores[i]}')\n",
    "    print()\n",
    "    print('tfidfScores:')\n",
    "    for i in tfidfScores.keys():\n",
    "        print(f'{i}: {tfidfScores[i]}')\n",
    "    print()\n",
    "\n",
    "    print('combinedScores:')\n",
    "    for i in sorted_result:\n",
    "        print(f'{i[0]}, {i[1]}')\n",
    "    # return sorted_result\n"
   ]
  },
  {
   "cell_type": "code",
   "execution_count": 2,
   "metadata": {},
   "outputs": [],
   "source": [
    "db = MyChromaDB()\n",
    "tfidf = MyTFIDFModel()\n",
    "p = Processer('sentence-transformers/paraphrase-multilingual-MiniLM-L12-v2')"
   ]
  },
  {
   "cell_type": "code",
   "execution_count": 3,
   "metadata": {},
   "outputs": [
    {
     "name": "stderr",
     "output_type": "stream",
     "text": [
      "Tokenization: 100%|██████████| 1/1 [00:00<00:00, 965.98it/s]\n",
      "Inference: 100%|██████████| 1/1 [00:00<00:00,  1.98it/s]\n",
      "Tokenization: 100%|██████████| 1/1 [00:00<00:00, 954.55it/s]\n",
      "Inference: 100%|██████████| 1/1 [00:07<00:00,  7.18s/it]\n",
      "Add of existing embedding ID: DE-291-1 DE-293 工作桌.pdf_0\n",
      "Add of existing embedding ID: DE-291-1 DE-293 工作桌.pdf_1\n",
      "Add of existing embedding ID: SADES DIABLO 暗黑鬥狼RGB REALTEK 電競耳麥 7.1 (USB) SA-916.pdf_0\n",
      "Add of existing embedding ID: SADES DIABLO 暗黑鬥狼RGB REALTEK 電競耳麥 7.1 (USB) SA-916.pdf_1\n",
      "Add of existing embedding ID: DE-291-1 DE-293 工作桌.pdf_0\n",
      "Add of existing embedding ID: DE-291-1 DE-293 工作桌.pdf_1\n",
      "Add of existing embedding ID: SADES DIABLO 暗黑鬥狼RGB REALTEK 電競耳麥 7.1 (USB) SA-916.pdf_0\n",
      "Add of existing embedding ID: SADES DIABLO 暗黑鬥狼RGB REALTEK 電競耳麥 7.1 (USB) SA-916.pdf_1\n",
      "Add of existing embedding ID: DE-291-1 DE-293 工作桌.pdf_0\n",
      "Add of existing embedding ID: DE-291-1 DE-293 工作桌.pdf_1\n",
      "Add of existing embedding ID: SADES DIABLO 暗黑鬥狼RGB REALTEK 電競耳麥 7.1 (USB) SA-916.pdf_0\n",
      "Add of existing embedding ID: SADES DIABLO 暗黑鬥狼RGB REALTEK 電競耳麥 7.1 (USB) SA-916.pdf_1\n",
      "Add of existing embedding ID: W202 人體工學椅.pdf_0\n",
      "Add of existing embedding ID: W202 人體工學椅.pdf_1\n",
      "Add of existing embedding ID: [折疊收納]懶人折疊桌.pdf_0\n",
      "Add of existing embedding ID: 世界上最透明的故事（日本出版界話題作，只有紙本書可以體驗的感動）.pdf_0\n",
      "Add of existing embedding ID: 世界上最透明的故事（日本出版界話題作，只有紙本書可以體驗的感動）.pdf_1\n",
      "Add of existing embedding ID: 世界上最透明的故事（日本出版界話題作，只有紙本書可以體驗的感動）.pdf_2\n",
      "Add of existing embedding ID: 世界上最透明的故事（日本出版界話題作，只有紙本書可以體驗的感動）.pdf_3\n",
      "Add of existing embedding ID: 世界上最透明的故事（日本出版界話題作，只有紙本書可以體驗的感動）.pdf_4\n",
      "Add of existing embedding ID: 世界上最透明的故事（日本出版界話題作，只有紙本書可以體驗的感動）.pdf_5\n",
      "Add of existing embedding ID: 世界上最透明的故事（日本出版界話題作，只有紙本書可以體驗的感動）.pdf_6\n",
      "Add of existing embedding ID: 世界上最透明的故事（日本出版界話題作，只有紙本書可以體驗的感動）.pdf_7\n",
      "Add of existing embedding ID: 世界上最透明的故事（日本出版界話題作，只有紙本書可以體驗的感動）.pdf_8\n",
      "Add of existing embedding ID: 世界上最透明的故事（日本出版界話題作，只有紙本書可以體驗的感動）.pdf_9\n",
      "Add of existing embedding ID: 世界上最透明的故事（日本出版界話題作，只有紙本書可以體驗的感動）.pdf_10\n",
      "Add of existing embedding ID: 世界上最透明的故事（日本出版界話題作，只有紙本書可以體驗的感動）.pdf_11\n",
      "Add of existing embedding ID: DE-291-1 DE-293 工作桌.pdf_0\n",
      "Add of existing embedding ID: DE-291-1 DE-293 工作桌.pdf_1\n",
      "Add of existing embedding ID: SADES DIABLO 暗黑鬥狼RGB REALTEK 電競耳麥 7.1 (USB) SA-916.pdf_0\n",
      "Add of existing embedding ID: SADES DIABLO 暗黑鬥狼RGB REALTEK 電競耳麥 7.1 (USB) SA-916.pdf_1\n",
      "Add of existing embedding ID: W202 人體工學椅.pdf_0\n",
      "Add of existing embedding ID: W202 人體工學椅.pdf_1\n",
      "Add of existing embedding ID: [折疊收納]懶人折疊桌.pdf_0\n",
      "Add of existing embedding ID: 世界上最透明的故事（日本出版界話題作，只有紙本書可以體驗的感動）.pdf_0\n",
      "Add of existing embedding ID: 世界上最透明的故事（日本出版界話題作，只有紙本書可以體驗的感動）.pdf_1\n",
      "Add of existing embedding ID: 世界上最透明的故事（日本出版界話題作，只有紙本書可以體驗的感動）.pdf_2\n",
      "Add of existing embedding ID: 世界上最透明的故事（日本出版界話題作，只有紙本書可以體驗的感動）.pdf_3\n",
      "Add of existing embedding ID: 世界上最透明的故事（日本出版界話題作，只有紙本書可以體驗的感動）.pdf_4\n",
      "Add of existing embedding ID: 世界上最透明的故事（日本出版界話題作，只有紙本書可以體驗的感動）.pdf_5\n",
      "Add of existing embedding ID: 世界上最透明的故事（日本出版界話題作，只有紙本書可以體驗的感動）.pdf_6\n",
      "Add of existing embedding ID: 世界上最透明的故事（日本出版界話題作，只有紙本書可以體驗的感動）.pdf_7\n",
      "Add of existing embedding ID: 世界上最透明的故事（日本出版界話題作，只有紙本書可以體驗的感動）.pdf_8\n",
      "Add of existing embedding ID: 世界上最透明的故事（日本出版界話題作，只有紙本書可以體驗的感動）.pdf_9\n",
      "Add of existing embedding ID: 世界上最透明的故事（日本出版界話題作，只有紙本書可以體驗的感動）.pdf_10\n",
      "Add of existing embedding ID: 世界上最透明的故事（日本出版界話題作，只有紙本書可以體驗的感動）.pdf_11\n",
      "Add of existing embedding ID: 羅技 Logitech H340 USB耳機麥克風.pdf_0\n",
      "Add of existing embedding ID: 羅技 Logitech H340 USB耳機麥克風.pdf_1\n",
      "Add of existing embedding ID: DE-291-1 DE-293 工作桌.pdf_0\n",
      "Add of existing embedding ID: SADES DIABLO 暗黑鬥狼RGB REALTEK 電競耳麥 7.1 (USB) SA-916.pdf_0\n",
      "Add of existing embedding ID: W202 人體工學椅.pdf_0\n",
      "Add of existing embedding ID: [折疊收納]懶人折疊桌.pdf_0\n",
      "Add of existing embedding ID: 世界上最透明的故事（日本出版界話題作，只有紙本書可以體驗的感動）.pdf_0\n",
      "Add of existing embedding ID: 羅技 Logitech H340 USB耳機麥克風.pdf_0\n",
      "Add of existing embedding ID: DE-291-1 DE-293 工作桌.pdf_0\n",
      "Add of existing embedding ID: SADES DIABLO 暗黑鬥狼RGB REALTEK 電競耳麥 7.1 (USB) SA-916.pdf_0\n",
      "Add of existing embedding ID: W202 人體工學椅.pdf_0\n",
      "Add of existing embedding ID: [折疊收納]懶人折疊桌.pdf_0\n",
      "Add of existing embedding ID: 世界上最透明的故事（日本出版界話題作，只有紙本書可以體驗的感動）.pdf_0\n",
      "Add of existing embedding ID: 羅技 Logitech H340 USB耳機麥克風.pdf_0\n",
      "Add of existing embedding ID: DE-291-1 DE-293 工作桌.pdf_0\n",
      "Add of existing embedding ID: DE-291-1 DE-293 工作桌.pdf_1\n",
      "Add of existing embedding ID: SADES DIABLO 暗黑鬥狼RGB REALTEK 電競耳麥 7.1 (USB) SA-916.pdf_0\n",
      "Add of existing embedding ID: SADES DIABLO 暗黑鬥狼RGB REALTEK 電競耳麥 7.1 (USB) SA-916.pdf_1\n",
      "Add of existing embedding ID: W202 人體工學椅.pdf_0\n",
      "Add of existing embedding ID: W202 人體工學椅.pdf_1\n",
      "Add of existing embedding ID: [折疊收納]懶人折疊桌.pdf_0\n",
      "Add of existing embedding ID: 世界上最透明的故事（日本出版界話題作，只有紙本書可以體驗的感動）.pdf_0\n",
      "Add of existing embedding ID: 世界上最透明的故事（日本出版界話題作，只有紙本書可以體驗的感動）.pdf_1\n",
      "Add of existing embedding ID: 世界上最透明的故事（日本出版界話題作，只有紙本書可以體驗的感動）.pdf_2\n",
      "Add of existing embedding ID: 世界上最透明的故事（日本出版界話題作，只有紙本書可以體驗的感動）.pdf_3\n",
      "Add of existing embedding ID: 世界上最透明的故事（日本出版界話題作，只有紙本書可以體驗的感動）.pdf_4\n",
      "Add of existing embedding ID: 世界上最透明的故事（日本出版界話題作，只有紙本書可以體驗的感動）.pdf_5\n",
      "Add of existing embedding ID: 世界上最透明的故事（日本出版界話題作，只有紙本書可以體驗的感動）.pdf_6\n",
      "Add of existing embedding ID: 世界上最透明的故事（日本出版界話題作，只有紙本書可以體驗的感動）.pdf_7\n",
      "Add of existing embedding ID: 世界上最透明的故事（日本出版界話題作，只有紙本書可以體驗的感動）.pdf_8\n",
      "Add of existing embedding ID: 世界上最透明的故事（日本出版界話題作，只有紙本書可以體驗的感動）.pdf_9\n",
      "Add of existing embedding ID: 世界上最透明的故事（日本出版界話題作，只有紙本書可以體驗的感動）.pdf_10\n",
      "Add of existing embedding ID: 世界上最透明的故事（日本出版界話題作，只有紙本書可以體驗的感動）.pdf_11\n",
      "Add of existing embedding ID: 羅技 Logitech H340 USB耳機麥克風.pdf_0\n",
      "Add of existing embedding ID: 羅技 Logitech H340 USB耳機麥克風.pdf_1\n",
      "Insert of existing embedding ID: DE-291-1 DE-293 工作桌.pdf_0\n",
      "Add of existing embedding ID: DE-291-1 DE-293 工作桌.pdf_0\n",
      "Insert of existing embedding ID: DE-291-1 DE-293 工作桌.pdf_1\n"
     ]
    },
    {
     "name": "stdout",
     "output_type": "stream",
     "text": [
      "Processing ..\\product infomation\\DE-291-1 DE-293 工作桌.pdf...\n"
     ]
    },
    {
     "name": "stderr",
     "output_type": "stream",
     "text": [
      "Add of existing embedding ID: DE-291-1 DE-293 工作桌.pdf_1\n"
     ]
    },
    {
     "name": "stdout",
     "output_type": "stream",
     "text": [
      "Processing ..\\product infomation\\DE-291-1 DE-293 工作桌.pdf...\n",
      "Added DE-291-1 DE-293 工作桌.pdf\n"
     ]
    },
    {
     "name": "stderr",
     "output_type": "stream",
     "text": [
      "Tokenization: 100%|██████████| 1/1 [00:00<00:00, 491.83it/s]\n",
      "Inference: 100%|██████████| 1/1 [00:03<00:00,  3.34s/it]\n",
      "Tokenization: 100%|██████████| 1/1 [00:00<00:00, 1005.11it/s]\n",
      "Inference: 100%|██████████| 1/1 [00:09<00:00,  9.36s/it]\n",
      "Insert of existing embedding ID: SADES DIABLO 暗黑鬥狼RGB REALTEK 電競耳麥 7.1 (USB) SA-916.pdf_0\n",
      "Add of existing embedding ID: SADES DIABLO 暗黑鬥狼RGB REALTEK 電競耳麥 7.1 (USB) SA-916.pdf_0\n",
      "Insert of existing embedding ID: SADES DIABLO 暗黑鬥狼RGB REALTEK 電競耳麥 7.1 (USB) SA-916.pdf_1\n",
      "Add of existing embedding ID: SADES DIABLO 暗黑鬥狼RGB REALTEK 電競耳麥 7.1 (USB) SA-916.pdf_1\n"
     ]
    },
    {
     "name": "stdout",
     "output_type": "stream",
     "text": [
      "Processing ..\\product infomation\\SADES DIABLO 暗黑鬥狼RGB REALTEK 電競耳麥 7.1 (USB) SA-916.pdf...\n",
      "Processing ..\\product infomation\\SADES DIABLO 暗黑鬥狼RGB REALTEK 電競耳麥 7.1 (USB) SA-916.pdf...\n",
      "Added SADES DIABLO 暗黑鬥狼RGB REALTEK 電競耳麥 7.1 (USB) SA-916.pdf\n"
     ]
    },
    {
     "name": "stderr",
     "output_type": "stream",
     "text": [
      "Tokenization: 100%|██████████| 1/1 [00:00<00:00, 962.00it/s]\n",
      "Inference: 100%|██████████| 1/1 [00:00<00:00,  3.91it/s]\n",
      "Tokenization: 100%|██████████| 1/1 [00:00<00:00, 660.83it/s]\n",
      "Inference: 100%|██████████| 1/1 [00:02<00:00,  2.41s/it]\n",
      "Insert of existing embedding ID: W202 人體工學椅.pdf_0\n",
      "Add of existing embedding ID: W202 人體工學椅.pdf_0\n",
      "Insert of existing embedding ID: W202 人體工學椅.pdf_1\n",
      "Add of existing embedding ID: W202 人體工學椅.pdf_1\n"
     ]
    },
    {
     "name": "stdout",
     "output_type": "stream",
     "text": [
      "Processing ..\\product infomation\\W202 人體工學椅.pdf...\n",
      "Processing ..\\product infomation\\W202 人體工學椅.pdf...\n",
      "Added W202 人體工學椅.pdf\n"
     ]
    },
    {
     "name": "stderr",
     "output_type": "stream",
     "text": [
      "Tokenization: 100%|██████████| 1/1 [00:00<?, ?it/s]\n",
      "Inference: 100%|██████████| 1/1 [00:00<00:00,  8.26it/s]\n",
      "Tokenization: 100%|██████████| 1/1 [00:00<00:00, 999.36it/s]\n",
      "Inference: 100%|██████████| 1/1 [00:02<00:00,  2.98s/it]\n",
      "Insert of existing embedding ID: [折疊收納]懶人折疊桌.pdf_0\n",
      "Add of existing embedding ID: [折疊收納]懶人折疊桌.pdf_0\n"
     ]
    },
    {
     "name": "stdout",
     "output_type": "stream",
     "text": [
      "Processing ..\\product infomation\\[折疊收納]懶人折疊桌.pdf...\n",
      "Processing ..\\product infomation\\[折疊收納]懶人折疊桌.pdf...\n",
      "Added [折疊收納]懶人折疊桌.pdf\n"
     ]
    },
    {
     "name": "stderr",
     "output_type": "stream",
     "text": [
      "Tokenization: 100%|██████████| 1/1 [00:00<00:00, 180.32it/s]\n",
      "Inference: 100%|██████████| 1/1 [00:21<00:00, 21.51s/it]\n",
      "Tokenization: 100%|██████████| 1/1 [00:00<00:00, 141.31it/s]\n",
      "Inference: 100%|██████████| 1/1 [01:52<00:00, 112.14s/it]\n",
      "Insert of existing embedding ID: 世界上最透明的故事（日本出版界話題作，只有紙本書可以體驗的感動）.pdf_0\n",
      "Add of existing embedding ID: 世界上最透明的故事（日本出版界話題作，只有紙本書可以體驗的感動）.pdf_0\n",
      "Insert of existing embedding ID: 世界上最透明的故事（日本出版界話題作，只有紙本書可以體驗的感動）.pdf_1\n",
      "Add of existing embedding ID: 世界上最透明的故事（日本出版界話題作，只有紙本書可以體驗的感動）.pdf_1\n",
      "Insert of existing embedding ID: 世界上最透明的故事（日本出版界話題作，只有紙本書可以體驗的感動）.pdf_2\n",
      "Add of existing embedding ID: 世界上最透明的故事（日本出版界話題作，只有紙本書可以體驗的感動）.pdf_2\n",
      "Insert of existing embedding ID: 世界上最透明的故事（日本出版界話題作，只有紙本書可以體驗的感動）.pdf_3\n",
      "Add of existing embedding ID: 世界上最透明的故事（日本出版界話題作，只有紙本書可以體驗的感動）.pdf_3\n",
      "Insert of existing embedding ID: 世界上最透明的故事（日本出版界話題作，只有紙本書可以體驗的感動）.pdf_4\n",
      "Add of existing embedding ID: 世界上最透明的故事（日本出版界話題作，只有紙本書可以體驗的感動）.pdf_4\n",
      "Insert of existing embedding ID: 世界上最透明的故事（日本出版界話題作，只有紙本書可以體驗的感動）.pdf_5\n",
      "Add of existing embedding ID: 世界上最透明的故事（日本出版界話題作，只有紙本書可以體驗的感動）.pdf_5\n"
     ]
    },
    {
     "name": "stdout",
     "output_type": "stream",
     "text": [
      "Processing ..\\product infomation\\世界上最透明的故事（日本出版界話題作，只有紙本書可以體驗的感動）.pdf...\n"
     ]
    },
    {
     "name": "stderr",
     "output_type": "stream",
     "text": [
      "Insert of existing embedding ID: 世界上最透明的故事（日本出版界話題作，只有紙本書可以體驗的感動）.pdf_6\n",
      "Add of existing embedding ID: 世界上最透明的故事（日本出版界話題作，只有紙本書可以體驗的感動）.pdf_6\n",
      "Insert of existing embedding ID: 世界上最透明的故事（日本出版界話題作，只有紙本書可以體驗的感動）.pdf_7\n",
      "Add of existing embedding ID: 世界上最透明的故事（日本出版界話題作，只有紙本書可以體驗的感動）.pdf_7\n",
      "Insert of existing embedding ID: 世界上最透明的故事（日本出版界話題作，只有紙本書可以體驗的感動）.pdf_8\n",
      "Add of existing embedding ID: 世界上最透明的故事（日本出版界話題作，只有紙本書可以體驗的感動）.pdf_8\n",
      "Insert of existing embedding ID: 世界上最透明的故事（日本出版界話題作，只有紙本書可以體驗的感動）.pdf_9\n",
      "Add of existing embedding ID: 世界上最透明的故事（日本出版界話題作，只有紙本書可以體驗的感動）.pdf_9\n",
      "Insert of existing embedding ID: 世界上最透明的故事（日本出版界話題作，只有紙本書可以體驗的感動）.pdf_10\n",
      "Add of existing embedding ID: 世界上最透明的故事（日本出版界話題作，只有紙本書可以體驗的感動）.pdf_10\n",
      "Insert of existing embedding ID: 世界上最透明的故事（日本出版界話題作，只有紙本書可以體驗的感動）.pdf_11\n",
      "Add of existing embedding ID: 世界上最透明的故事（日本出版界話題作，只有紙本書可以體驗的感動）.pdf_11\n"
     ]
    },
    {
     "name": "stdout",
     "output_type": "stream",
     "text": [
      "Processing ..\\product infomation\\世界上最透明的故事（日本出版界話題作，只有紙本書可以體驗的感動）.pdf...\n",
      "Added 世界上最透明的故事（日本出版界話題作，只有紙本書可以體驗的感動）.pdf\n"
     ]
    },
    {
     "name": "stderr",
     "output_type": "stream",
     "text": [
      "Tokenization: 100%|██████████| 1/1 [00:00<00:00, 663.76it/s]\n",
      "Inference: 100%|██████████| 1/1 [00:03<00:00,  3.30s/it]\n",
      "Tokenization: 100%|██████████| 1/1 [00:00<00:00, 499.44it/s]\n",
      "Inference: 100%|██████████| 1/1 [00:12<00:00, 12.43s/it]\n",
      "Insert of existing embedding ID: 羅技 Logitech H340 USB耳機麥克風.pdf_0\n",
      "Add of existing embedding ID: 羅技 Logitech H340 USB耳機麥克風.pdf_0\n",
      "Insert of existing embedding ID: 羅技 Logitech H340 USB耳機麥克風.pdf_1\n",
      "Add of existing embedding ID: 羅技 Logitech H340 USB耳機麥克風.pdf_1\n"
     ]
    },
    {
     "name": "stdout",
     "output_type": "stream",
     "text": [
      "Processing ..\\product infomation\\羅技 Logitech H340 USB耳機麥克風.pdf...\n",
      "Processing ..\\product infomation\\羅技 Logitech H340 USB耳機麥克風.pdf...\n",
      "Added 羅技 Logitech H340 USB耳機麥克風.pdf\n"
     ]
    }
   ],
   "source": [
    "folder = '..\\\\product infomation'\n",
    "\n",
    "import os\n",
    "files = [f for f in os.listdir(folder) if f.endswith('.pdf')]\n",
    "\n",
    "for pdf_file in files:\n",
    "    text = p.extractTextFromPdf(os.path.join(folder, pdf_file))\n",
    "    tokenizedText = p.ckip_tokenize(text)\n",
    "    db.addPDF(os.path.join(folder, pdf_file), tokenizedText)\n",
    "    tfidf.addPDF(os.path.join(folder, pdf_file), tokenizedText)"
   ]
  },
  {
   "cell_type": "code",
   "execution_count": 4,
   "metadata": {},
   "outputs": [
    {
     "name": "stderr",
     "output_type": "stream",
     "text": [
      "Tokenization: 100%|██████████| 1/1 [00:00<?, ?it/s]\n",
      "Inference: 100%|██████████| 1/1 [00:00<00:00, 45.29it/s]\n",
      "Tokenization: 100%|██████████| 1/1 [00:00<?, ?it/s]\n",
      "Inference: 100%|██████████| 1/1 [00:00<00:00, 37.72it/s]\n",
      "Tokenization: 100%|██████████| 1/1 [00:00<?, ?it/s]\n",
      "Inference: 100%|██████████| 1/1 [00:00<00:00, 79.64it/s]\n",
      "Tokenization: 100%|██████████| 1/1 [00:00<?, ?it/s]\n",
      "Inference: 100%|██████████| 1/1 [00:00<00:00, 68.75it/s]"
     ]
    },
    {
     "name": "stdout",
     "output_type": "stream",
     "text": [
      "dbScores:\n",
      "世界上最透明的故事（日本出版界話題作，只有紙本書可以體驗的感動）.pdf: -6.807390213012695\n",
      "DE-291-1 DE-293 工作桌.pdf: -13.920890808105469\n",
      "SADES DIABLO 暗黑鬥狼RGB REALTEK 電競耳麥 7.1 (USB) SA-916.pdf: -14.737447738647461\n",
      "[折疊收納]懶人折疊桌.pdf: -15.786331176757812\n",
      "W202 人體工學椅.pdf: -16.527477264404297\n",
      "羅技 Logitech H340 USB耳機麥克風.pdf: -16.5573787689209\n",
      "\n",
      "tfidfScores:\n",
      "世界上最透明的故事（日本出版界話題作，只有紙本書可以體驗的感動）.pdf: 0.44134082769879823\n",
      "羅技 Logitech H340 USB耳機麥克風.pdf: 0.0\n",
      "[折疊收納]懶人折疊桌.pdf: 0.0\n",
      "W202 人體工學椅.pdf: 0.0\n",
      "SADES DIABLO 暗黑鬥狼RGB REALTEK 電競耳麥 7.1 (USB) SA-916.pdf: 0.0\n",
      "DE-291-1 DE-293 工作桌.pdf: 0.0\n",
      "\n",
      "combinedScores:\n",
      "世界上最透明的故事（日本出版界話題作，只有紙本書可以體驗的感動）.pdf, -2.4581515885857996\n",
      "DE-291-1 DE-293 工作桌.pdf, -5.568356323242188\n",
      "SADES DIABLO 暗黑鬥狼RGB REALTEK 電競耳麥 7.1 (USB) SA-916.pdf, -5.894979095458985\n",
      "[折疊收納]懶人折疊桌.pdf, -6.314532470703125\n",
      "W202 人體工學椅.pdf, -6.610990905761719\n",
      "羅技 Logitech H340 USB耳機麥克風.pdf, -6.622951507568359\n"
     ]
    },
    {
     "name": "stderr",
     "output_type": "stream",
     "text": [
      "\n"
     ]
    }
   ],
   "source": [
    "qaury = '推理小說'\n",
    "\n",
    "hybridSearch(qaury, db, tfidf)"
   ]
  },
  {
   "cell_type": "code",
   "execution_count": 5,
   "metadata": {},
   "outputs": [
    {
     "name": "stderr",
     "output_type": "stream",
     "text": [
      "Tokenization: 100%|██████████| 1/1 [00:00<?, ?it/s]\n",
      "Inference: 100%|██████████| 1/1 [00:00<00:00, 64.22it/s]\n",
      "Tokenization: 100%|██████████| 1/1 [00:00<?, ?it/s]\n",
      "Inference: 100%|██████████| 1/1 [00:00<00:00, 71.08it/s]\n",
      "Tokenization: 100%|██████████| 1/1 [00:00<00:00, 1004.38it/s]\n",
      "Inference: 100%|██████████| 1/1 [00:00<00:00, 73.46it/s]\n",
      "Tokenization: 100%|██████████| 1/1 [00:00<?, ?it/s]\n",
      "Inference: 100%|██████████| 1/1 [00:00<00:00, 80.74it/s]"
     ]
    },
    {
     "name": "stdout",
     "output_type": "stream",
     "text": [
      "dbScores:\n",
      "DE-291-1 DE-293 工作桌.pdf: -12.769920349121094\n",
      "W202 人體工學椅.pdf: -21.260570526123047\n",
      "羅技 Logitech H340 USB耳機麥克風.pdf: -21.392242431640625\n",
      "[折疊收納]懶人折疊桌.pdf: -22.2435302734375\n",
      "SADES DIABLO 暗黑鬥狼RGB REALTEK 電競耳麥 7.1 (USB) SA-916.pdf: -23.692646026611328\n",
      "世界上最透明的故事（日本出版界話題作，只有紙本書可以體驗的感動）.pdf: -24.02208709716797\n",
      "\n",
      "tfidfScores:\n",
      "DE-291-1 DE-293 工作桌.pdf: 0.09784881819805427\n",
      "羅技 Logitech H340 USB耳機麥克風.pdf: 0.0\n",
      "世界上最透明的故事（日本出版界話題作，只有紙本書可以體驗的感動）.pdf: 0.0\n",
      "[折疊收納]懶人折疊桌.pdf: 0.0\n",
      "W202 人體工學椅.pdf: 0.0\n",
      "SADES DIABLO 暗黑鬥狼RGB REALTEK 電競耳麥 7.1 (USB) SA-916.pdf: 0.0\n",
      "\n",
      "combinedScores:\n",
      "DE-291-1 DE-293 工作桌.pdf, -5.049258848729606\n",
      "W202 人體工學椅.pdf, -8.504228210449218\n",
      "羅技 Logitech H340 USB耳機麥克風.pdf, -8.55689697265625\n",
      "[折疊收納]懶人折疊桌.pdf, -8.897412109375\n",
      "SADES DIABLO 暗黑鬥狼RGB REALTEK 電競耳麥 7.1 (USB) SA-916.pdf, -9.477058410644531\n",
      "世界上最透明的故事（日本出版界話題作，只有紙本書可以體驗的感動）.pdf, -9.608834838867189\n"
     ]
    },
    {
     "name": "stderr",
     "output_type": "stream",
     "text": [
      "\n"
     ]
    }
   ],
   "source": [
    "qaury = '辦公桌'\n",
    "\n",
    "hybridSearch(qaury, db, tfidf)"
   ]
  },
  {
   "cell_type": "code",
   "execution_count": 6,
   "metadata": {},
   "outputs": [
    {
     "name": "stderr",
     "output_type": "stream",
     "text": [
      "Tokenization: 100%|██████████| 1/1 [00:00<?, ?it/s]\n",
      "Inference: 100%|██████████| 1/1 [00:00<00:00, 76.36it/s]\n",
      "Tokenization: 100%|██████████| 1/1 [00:00<?, ?it/s]\n",
      "Inference: 100%|██████████| 1/1 [00:00<00:00, 87.54it/s]\n",
      "Tokenization: 100%|██████████| 1/1 [00:00<?, ?it/s]\n",
      "Inference: 100%|██████████| 1/1 [00:00<00:00, 70.96it/s]\n",
      "Tokenization: 100%|██████████| 1/1 [00:00<?, ?it/s]\n",
      "Inference: 100%|██████████| 1/1 [00:00<00:00, 86.62it/s]"
     ]
    },
    {
     "name": "stdout",
     "output_type": "stream",
     "text": [
      "dbScores:\n",
      "SADES DIABLO 暗黑鬥狼RGB REALTEK 電競耳麥 7.1 (USB) SA-916.pdf: -10.976672172546387\n",
      "羅技 Logitech H340 USB耳機麥克風.pdf: -11.591678619384766\n",
      "DE-291-1 DE-293 工作桌.pdf: -12.203402519226074\n",
      "世界上最透明的故事（日本出版界話題作，只有紙本書可以體驗的感動）.pdf: -12.222576141357422\n",
      "[折疊收納]懶人折疊桌.pdf: -14.04564094543457\n",
      "W202 人體工學椅.pdf: -15.464284896850586\n",
      "\n",
      "tfidfScores:\n",
      "羅技 Logitech H340 USB耳機麥克風.pdf: 0.5795148218248016\n",
      "SADES DIABLO 暗黑鬥狼RGB REALTEK 電競耳麥 7.1 (USB) SA-916.pdf: 0.29771817979659054\n",
      "世界上最透明的故事（日本出版界話題作，只有紙本書可以體驗的感動）.pdf: 0.0\n",
      "[折疊收納]懶人折疊桌.pdf: 0.0\n",
      "W202 人體工學椅.pdf: 0.0\n",
      "DE-291-1 DE-293 工作桌.pdf: 0.0\n",
      "\n",
      "combinedScores:\n",
      "SADES DIABLO 暗黑鬥狼RGB REALTEK 電競耳麥 7.1 (USB) SA-916.pdf, -4.2120379611406005\n",
      "羅技 Logitech H340 USB耳機麥克風.pdf, -4.288962554659026\n",
      "DE-291-1 DE-293 工作桌.pdf, -4.88136100769043\n",
      "世界上最透明的故事（日本出版界話題作，只有紙本書可以體驗的感動）.pdf, -4.889030456542969\n",
      "[折疊收納]懶人折疊桌.pdf, -5.618256378173829\n",
      "W202 人體工學椅.pdf, -6.1857139587402346\n"
     ]
    },
    {
     "name": "stderr",
     "output_type": "stream",
     "text": [
      "\n"
     ]
    }
   ],
   "source": [
    "qaury = '麥克風'\n",
    "\n",
    "hybridSearch(qaury, db, tfidf)"
   ]
  },
  {
   "cell_type": "code",
   "execution_count": 7,
   "metadata": {},
   "outputs": [
    {
     "name": "stderr",
     "output_type": "stream",
     "text": [
      "Tokenization: 100%|██████████| 1/1 [00:00<?, ?it/s]\n",
      "Inference: 100%|██████████| 1/1 [00:00<00:00, 82.34it/s]\n",
      "Tokenization: 100%|██████████| 1/1 [00:00<?, ?it/s]\n",
      "Inference: 100%|██████████| 1/1 [00:00<00:00, 73.98it/s]\n",
      "Tokenization: 100%|██████████| 1/1 [00:00<?, ?it/s]\n",
      "Inference: 100%|██████████| 1/1 [00:00<00:00, 70.45it/s]\n",
      "Tokenization: 100%|██████████| 1/1 [00:00<?, ?it/s]\n",
      "Inference: 100%|██████████| 1/1 [00:00<00:00, 82.77it/s]"
     ]
    },
    {
     "name": "stdout",
     "output_type": "stream",
     "text": [
      "dbScores:\n",
      "羅技 Logitech H340 USB耳機麥克風.pdf: -9.5112943649292\n",
      "SADES DIABLO 暗黑鬥狼RGB REALTEK 電競耳麥 7.1 (USB) SA-916.pdf: -11.040901184082031\n",
      "DE-291-1 DE-293 工作桌.pdf: -20.463544845581055\n",
      "[折疊收納]懶人折疊桌.pdf: -21.069034576416016\n",
      "W202 人體工學椅.pdf: -21.329288482666016\n",
      "世界上最透明的故事（日本出版界話題作，只有紙本書可以體驗的感動）.pdf: -23.78929328918457\n",
      "\n",
      "tfidfScores:\n",
      "羅技 Logitech H340 USB耳機麥克風.pdf: 0.2897574109124008\n",
      "SADES DIABLO 暗黑鬥狼RGB REALTEK 電競耳麥 7.1 (USB) SA-916.pdf: 0.1190872719186362\n",
      "世界上最透明的故事（日本出版界話題作，只有紙本書可以體驗的感動）.pdf: 0.0\n",
      "[折疊收納]懶人折疊桌.pdf: 0.0\n",
      "W202 人體工學椅.pdf: 0.0\n",
      "DE-291-1 DE-293 工作桌.pdf: 0.0\n",
      "\n",
      "combinedScores:\n",
      "羅技 Logitech H340 USB耳機麥克風.pdf, -3.6306632994242394\n",
      "SADES DIABLO 暗黑鬥狼RGB REALTEK 電競耳麥 7.1 (USB) SA-916.pdf, -4.344908110481631\n",
      "DE-291-1 DE-293 工作桌.pdf, -8.185417938232423\n",
      "[折疊收納]懶人折疊桌.pdf, -8.427613830566406\n",
      "W202 人體工學椅.pdf, -8.531715393066406\n",
      "世界上最透明的故事（日本出版界話題作，只有紙本書可以體驗的感動）.pdf, -9.515717315673829\n"
     ]
    },
    {
     "name": "stderr",
     "output_type": "stream",
     "text": [
      "\n"
     ]
    }
   ],
   "source": [
    "qaury = '耳機'\n",
    "\n",
    "hybridSearch(qaury, db, tfidf)"
   ]
  },
  {
   "cell_type": "code",
   "execution_count": 8,
   "metadata": {},
   "outputs": [
    {
     "name": "stderr",
     "output_type": "stream",
     "text": [
      "Tokenization: 100%|██████████| 1/1 [00:00<?, ?it/s]\n",
      "Inference: 100%|██████████| 1/1 [00:00<00:00, 73.74it/s]\n",
      "Tokenization: 100%|██████████| 1/1 [00:00<?, ?it/s]\n",
      "Inference: 100%|██████████| 1/1 [00:00<00:00, 57.97it/s]\n",
      "Tokenization: 100%|██████████| 1/1 [00:00<?, ?it/s]\n",
      "Inference: 100%|██████████| 1/1 [00:00<00:00, 66.37it/s]\n",
      "Tokenization: 100%|██████████| 1/1 [00:00<?, ?it/s]\n",
      "Inference: 100%|██████████| 1/1 [00:00<00:00, 74.67it/s]"
     ]
    },
    {
     "name": "stdout",
     "output_type": "stream",
     "text": [
      "dbScores:\n",
      "W202 人體工學椅.pdf: -14.415148735046387\n",
      "羅技 Logitech H340 USB耳機麥克風.pdf: -16.0592041015625\n",
      "DE-291-1 DE-293 工作桌.pdf: -17.852933883666992\n",
      "[折疊收納]懶人折疊桌.pdf: -18.216598510742188\n",
      "SADES DIABLO 暗黑鬥狼RGB REALTEK 電競耳麥 7.1 (USB) SA-916.pdf: -18.543582916259766\n",
      "世界上最透明的故事（日本出版界話題作，只有紙本書可以體驗的感動）.pdf: -19.36774253845215\n",
      "\n",
      "tfidfScores:\n",
      "W202 人體工學椅.pdf: 0.06985467283588159\n",
      "羅技 Logitech H340 USB耳機麥克風.pdf: 0.05795148218248016\n",
      "世界上最透明的故事（日本出版界話題作，只有紙本書可以體驗的感動）.pdf: 0.0\n",
      "[折疊收納]懶人折疊桌.pdf: 0.0\n",
      "SADES DIABLO 暗黑鬥狼RGB REALTEK 電競耳麥 7.1 (USB) SA-916.pdf: 0.0\n",
      "DE-291-1 DE-293 工作桌.pdf: 0.0\n",
      "\n",
      "combinedScores:\n",
      "W202 人體工學椅.pdf, -5.724146690317026\n",
      "羅技 Logitech H340 USB耳機麥克風.pdf, -6.388910751315512\n",
      "DE-291-1 DE-293 工作桌.pdf, -7.141173553466797\n",
      "[折疊收納]懶人折疊桌.pdf, -7.286639404296875\n",
      "SADES DIABLO 暗黑鬥狼RGB REALTEK 電競耳麥 7.1 (USB) SA-916.pdf, -7.417433166503907\n",
      "世界上最透明的故事（日本出版界話題作，只有紙本書可以體驗的感動）.pdf, -7.747097015380859\n"
     ]
    },
    {
     "name": "stderr",
     "output_type": "stream",
     "text": [
      "\n"
     ]
    }
   ],
   "source": [
    "qaury = '最近肩頸痠痛，想買一張舒適的椅子'\n",
    "\n",
    "hybridSearch(qaury, db, tfidf)"
   ]
  },
  {
   "cell_type": "code",
   "execution_count": null,
   "metadata": {},
   "outputs": [],
   "source": []
  }
 ],
 "metadata": {
  "kernelspec": {
   "display_name": "Python 3",
   "language": "python",
   "name": "python3"
  },
  "language_info": {
   "codemirror_mode": {
    "name": "ipython",
    "version": 3
   },
   "file_extension": ".py",
   "mimetype": "text/x-python",
   "name": "python",
   "nbconvert_exporter": "python",
   "pygments_lexer": "ipython3",
   "version": "3.11.7"
  }
 },
 "nbformat": 4,
 "nbformat_minor": 2
}
