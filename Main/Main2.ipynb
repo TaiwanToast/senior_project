{
 "cells": [
  {
   "cell_type": "code",
   "execution_count": 1,
   "metadata": {},
   "outputs": [
    {
     "name": "stderr",
     "output_type": "stream",
     "text": [
      "d:\\Python3\\Lib\\site-packages\\tqdm\\auto.py:21: TqdmWarning: IProgress not found. Please update jupyter and ipywidgets. See https://ipywidgets.readthedocs.io/en/stable/user_install.html\n",
      "  from .autonotebook import tqdm as notebook_tqdm\n"
     ]
    }
   ],
   "source": [
    "import numpy as np\n",
    "from myTFIDFModel import MyTFIDFModel\n",
    "from myChromaDB import MyChromaDB\n",
    "from myProcesser import Processer\n",
    "\n",
    "def hybridSearch(quary: str, db: MyChromaDB, tfidf: MyTFIDFModel, chroma_weight: float = 0.4, tfidf_weight: float = 0.6, top_n: int = 10):\n",
    "    dbResults = db.search(quary, top_k=top_n)\n",
    "    tfidfResults = tfidf.search(quary, top_k=top_n)\n",
    "\n",
    "    # dbScores = {\n",
    "    #     i['fileName']: i['score']\n",
    "    #     for i in dbResults\n",
    "    # }\n",
    "    dbScores = dict()\n",
    "    for i in dbResults:\n",
    "        while i['score'] > 1:\n",
    "            i['score'] /= 10\n",
    "        dbScores[i['fileName']] = i['score']\n",
    "    tfidfScores = {\n",
    "        i['file_name']: i['cosine_similarity']\n",
    "        for i in tfidfResults\n",
    "    }\n",
    "\n",
    "    combinedScores = {}\n",
    "    for file in set(dbScores.keys()).union(tfidfScores.keys()):\n",
    "        dbScore = dbScores.get(file, 0)\n",
    "        tfidfScore = tfidfScores.get(file, 0)\n",
    "        combinedScores[file] = dbScore * chroma_weight + tfidfScore * tfidf_weight\n",
    "\n",
    "    sorted_result = sorted(combinedScores.items(), key=lambda x: x[1], reverse=True)[:top_n]\n",
    "\n",
    "    print('dbScores:')\n",
    "    for i in dbScores.keys():\n",
    "        print(f'{i}: {dbScores[i]}')\n",
    "    print()\n",
    "    print('tfidfScores:')\n",
    "    for i in tfidfScores.keys():\n",
    "        print(f'{i}: {tfidfScores[i]}')\n",
    "    print()\n",
    "\n",
    "    print('combinedScores:')\n",
    "    for i in sorted_result:\n",
    "        print(f'{i[0]}, {i[1]}')\n",
    "    # return sorted_result\n"
   ]
  },
  {
   "cell_type": "code",
   "execution_count": 2,
   "metadata": {},
   "outputs": [],
   "source": [
    "db = MyChromaDB()\n",
    "tfidf = MyTFIDFModel()\n",
    "p = Processer('sentence-transformers/paraphrase-multilingual-MiniLM-L12-v2')"
   ]
  },
  {
   "cell_type": "code",
   "execution_count": null,
   "metadata": {},
   "outputs": [
    {
     "ename": "FileNotFoundError",
     "evalue": "[Errno 2] No such file or directory: '商品名稱DE-291-1 DE-293 工作桌 店家名稱家昀國際暢貨中心\\n商品售價1,299 店家電話04-25651960\\n店家地址台中市大雅區龍善二街22號\\n商品描述\\n商品資料表\\n商品型號：I-R-DE291-1胡桃色/I-R-DE293胡桃搭黑色\\n商品尺寸：W120×D60×H121.5CM\\n商品顏色：胡桃木色/胡桃搭黑色\\n商品材質：厚1.5cm塑合板貼美耐皿+2*2cm烤漆鐵管\\n組裝方式：需要自行組裝\\n商品特色：\\n加大桌面120公分寬60公分深.比市面120x48cm縮小版,作業更順手 .\\n書桌搭配書櫃的貼心設計   \\n簡約俐落設計，時尚具質感  \\n可當書桌、辦公桌、電腦桌 \\n美耐皿板，防水、防刮、耐磨，好整理,非市售貼紙/貼PVC不耐刮,易吸水膨脹,發霉.\\n配送說明：商品皆配送至同平面1樓\\n組裝方式：需DIY組裝，請按照說明書上定期檢查及維護。'",
     "output_type": "error",
     "traceback": [
      "\u001b[1;31m---------------------------------------------------------------------------\u001b[0m",
      "\u001b[1;31mFileNotFoundError\u001b[0m                         Traceback (most recent call last)",
      "Cell \u001b[1;32mIn[3], line 8\u001b[0m\n\u001b[0;32m      6\u001b[0m \u001b[38;5;28;01mfor\u001b[39;00m pdf_file \u001b[38;5;129;01min\u001b[39;00m files:\n\u001b[0;32m      7\u001b[0m     text \u001b[38;5;241m=\u001b[39m p\u001b[38;5;241m.\u001b[39mextractTextFromPdf(os\u001b[38;5;241m.\u001b[39mpath\u001b[38;5;241m.\u001b[39mjoin(folder, pdf_file))\n\u001b[1;32m----> 8\u001b[0m     tokenizedText \u001b[38;5;241m=\u001b[39m \u001b[43mp\u001b[49m\u001b[38;5;241;43m.\u001b[39;49m\u001b[43mextractTextFromPdf\u001b[49m\u001b[43m(\u001b[49m\u001b[43mtext\u001b[49m\u001b[43m)\u001b[49m\n\u001b[0;32m      9\u001b[0m     db\u001b[38;5;241m.\u001b[39maddPDF(os\u001b[38;5;241m.\u001b[39mpath\u001b[38;5;241m.\u001b[39mjoin(folder, pdf_file), tokenizedText)\n\u001b[0;32m     10\u001b[0m     tfidf\u001b[38;5;241m.\u001b[39maddPDF(os\u001b[38;5;241m.\u001b[39mpath\u001b[38;5;241m.\u001b[39mjoin(folder, pdf_file), tokenizedText)\n",
      "File \u001b[1;32md:\\.vscode\\專題\\20250314-2\\myProcesser.py:14\u001b[0m, in \u001b[0;36mProcesser.extractTextFromPdf\u001b[1;34m(self, pdf_path)\u001b[0m\n\u001b[0;32m     12\u001b[0m \u001b[38;5;28;01mdef\u001b[39;00m \u001b[38;5;21mextractTextFromPdf\u001b[39m(\u001b[38;5;28mself\u001b[39m, pdf_path: \u001b[38;5;28mstr\u001b[39m) \u001b[38;5;241m-\u001b[39m\u001b[38;5;241m>\u001b[39m \u001b[38;5;28mstr\u001b[39m:\n\u001b[0;32m     13\u001b[0m     text \u001b[38;5;241m=\u001b[39m \u001b[38;5;124m\"\u001b[39m\u001b[38;5;124m\"\u001b[39m\n\u001b[1;32m---> 14\u001b[0m     \u001b[38;5;28;01mwith\u001b[39;00m \u001b[38;5;28;43mopen\u001b[39;49m\u001b[43m(\u001b[49m\u001b[43mpdf_path\u001b[49m\u001b[43m,\u001b[49m\u001b[43m \u001b[49m\u001b[38;5;124;43m'\u001b[39;49m\u001b[38;5;124;43mrb\u001b[39;49m\u001b[38;5;124;43m'\u001b[39;49m\u001b[43m)\u001b[49m \u001b[38;5;28;01mas\u001b[39;00m file:\n\u001b[0;32m     15\u001b[0m         reader \u001b[38;5;241m=\u001b[39m pypdf\u001b[38;5;241m.\u001b[39mPdfReader(file)\n\u001b[0;32m     16\u001b[0m         \u001b[38;5;28;01mfor\u001b[39;00m page \u001b[38;5;129;01min\u001b[39;00m reader\u001b[38;5;241m.\u001b[39mpages:\n",
      "\u001b[1;31mFileNotFoundError\u001b[0m: [Errno 2] No such file or directory: '商品名稱DE-291-1 DE-293 工作桌 店家名稱家昀國際暢貨中心\\n商品售價1,299 店家電話04-25651960\\n店家地址台中市大雅區龍善二街22號\\n商品描述\\n商品資料表\\n商品型號：I-R-DE291-1胡桃色/I-R-DE293胡桃搭黑色\\n商品尺寸：W120×D60×H121.5CM\\n商品顏色：胡桃木色/胡桃搭黑色\\n商品材質：厚1.5cm塑合板貼美耐皿+2*2cm烤漆鐵管\\n組裝方式：需要自行組裝\\n商品特色：\\n加大桌面120公分寬60公分深.比市面120x48cm縮小版,作業更順手 .\\n書桌搭配書櫃的貼心設計   \\n簡約俐落設計，時尚具質感  \\n可當書桌、辦公桌、電腦桌 \\n美耐皿板，防水、防刮、耐磨，好整理,非市售貼紙/貼PVC不耐刮,易吸水膨脹,發霉.\\n配送說明：商品皆配送至同平面1樓\\n組裝方式：需DIY組裝，請按照說明書上定期檢查及維護。'"
     ]
    }
   ],
   "source": [
    "folder = '..\\\\product infomation'\n",
    "\n",
    "import os\n",
    "files = [f for f in os.listdir(folder) if f.endswith('.pdf')]\n",
    "\n",
    "for pdf_file in files:\n",
    "    text = p.extractTextFromPdf(os.path.join(folder, pdf_file))\n",
    "    tokenizedText = p.ckip_tokenize(text)\n",
    "    db.addPDF(os.path.join(folder, pdf_file), tokenizedText)\n",
    "    tfidf.addPDF(os.path.join(folder, pdf_file), tokenizedText)"
   ]
  },
  {
   "cell_type": "code",
   "execution_count": null,
   "metadata": {},
   "outputs": [
    {
     "ename": "AttributeError",
     "evalue": "'super' object has no attribute 'ckip_tokenize'",
     "output_type": "error",
     "traceback": [
      "\u001b[1;31m---------------------------------------------------------------------------\u001b[0m",
      "\u001b[1;31mAttributeError\u001b[0m                            Traceback (most recent call last)",
      "Cell \u001b[1;32mIn[4], line 3\u001b[0m\n\u001b[0;32m      1\u001b[0m qaury \u001b[38;5;241m=\u001b[39m \u001b[38;5;124m'\u001b[39m\u001b[38;5;124m推理小說\u001b[39m\u001b[38;5;124m'\u001b[39m\n\u001b[1;32m----> 3\u001b[0m \u001b[43mhybridSearch\u001b[49m\u001b[43m(\u001b[49m\u001b[43mqaury\u001b[49m\u001b[43m,\u001b[49m\u001b[43m \u001b[49m\u001b[43mdb\u001b[49m\u001b[43m,\u001b[49m\u001b[43m \u001b[49m\u001b[43mtfidf\u001b[49m\u001b[43m)\u001b[49m\n",
      "Cell \u001b[1;32mIn[1], line 7\u001b[0m, in \u001b[0;36mhybridSearch\u001b[1;34m(quary, db, tfidf, chroma_weight, tfidf_weight, top_n)\u001b[0m\n\u001b[0;32m      6\u001b[0m \u001b[38;5;28;01mdef\u001b[39;00m \u001b[38;5;21mhybridSearch\u001b[39m(quary: \u001b[38;5;28mstr\u001b[39m, db: MyChromaDB, tfidf: MyTFIDFModel, chroma_weight: \u001b[38;5;28mfloat\u001b[39m \u001b[38;5;241m=\u001b[39m \u001b[38;5;241m0.4\u001b[39m, tfidf_weight: \u001b[38;5;28mfloat\u001b[39m \u001b[38;5;241m=\u001b[39m \u001b[38;5;241m0.6\u001b[39m, top_n: \u001b[38;5;28mint\u001b[39m \u001b[38;5;241m=\u001b[39m \u001b[38;5;241m10\u001b[39m):\n\u001b[1;32m----> 7\u001b[0m     dbResults \u001b[38;5;241m=\u001b[39m \u001b[43mdb\u001b[49m\u001b[38;5;241;43m.\u001b[39;49m\u001b[43msearch\u001b[49m\u001b[43m(\u001b[49m\u001b[43mquary\u001b[49m\u001b[43m,\u001b[49m\u001b[43m \u001b[49m\u001b[43mtop_k\u001b[49m\u001b[38;5;241;43m=\u001b[39;49m\u001b[43mtop_n\u001b[49m\u001b[43m)\u001b[49m\n\u001b[0;32m      8\u001b[0m     tfidfResults \u001b[38;5;241m=\u001b[39m tfidf\u001b[38;5;241m.\u001b[39msearch(quary, top_k\u001b[38;5;241m=\u001b[39mtop_n)\n\u001b[0;32m     10\u001b[0m     \u001b[38;5;66;03m# dbScores = {\u001b[39;00m\n\u001b[0;32m     11\u001b[0m     \u001b[38;5;66;03m#     i['fileName']: i['score']\u001b[39;00m\n\u001b[0;32m     12\u001b[0m     \u001b[38;5;66;03m#     for i in dbResults\u001b[39;00m\n\u001b[0;32m     13\u001b[0m     \u001b[38;5;66;03m# }\u001b[39;00m\n",
      "File \u001b[1;32md:\\.vscode\\專題\\20250314-2\\myChromaDB.py:39\u001b[0m, in \u001b[0;36mMyChromaDB.search\u001b[1;34m(self, query, top_k)\u001b[0m\n\u001b[0;32m     38\u001b[0m \u001b[38;5;28;01mdef\u001b[39;00m \u001b[38;5;21msearch\u001b[39m(\u001b[38;5;28mself\u001b[39m, query: \u001b[38;5;28mstr\u001b[39m, top_k: \u001b[38;5;28mint\u001b[39m \u001b[38;5;241m=\u001b[39m \u001b[38;5;241m10\u001b[39m):\n\u001b[1;32m---> 39\u001b[0m     queryTokenized \u001b[38;5;241m=\u001b[39m \u001b[38;5;28;43msuper\u001b[39;49m\u001b[43m(\u001b[49m\u001b[43m)\u001b[49m\u001b[38;5;241;43m.\u001b[39;49m\u001b[43mckip_tokenize\u001b[49m(query)\n\u001b[0;32m     40\u001b[0m     queryVector \u001b[38;5;241m=\u001b[39m \u001b[38;5;28msuper\u001b[39m()\u001b[38;5;241m.\u001b[39m_textToVector(queryTokenized)\n\u001b[0;32m     41\u001b[0m     retrieved_files \u001b[38;5;241m=\u001b[39m \u001b[38;5;28mset\u001b[39m()\n",
      "\u001b[1;31mAttributeError\u001b[0m: 'super' object has no attribute 'ckip_tokenize'"
     ]
    }
   ],
   "source": [
    "qaury = '推理小說'\n",
    "\n",
    "hybridSearch(qaury, db, tfidf)"
   ]
  },
  {
   "cell_type": "code",
   "execution_count": null,
   "metadata": {},
   "outputs": [
    {
     "name": "stderr",
     "output_type": "stream",
     "text": [
      "Tokenization: 100%|██████████| 1/1 [00:00<00:00, 663.76it/s]\n",
      "Inference: 100%|██████████| 1/1 [00:00<00:00, 86.84it/s]\n",
      "Tokenization: 100%|██████████| 1/1 [00:00<?, ?it/s]\n",
      "Inference: 100%|██████████| 1/1 [00:00<00:00, 79.44it/s]\n",
      "Tokenization: 100%|██████████| 1/1 [00:00<?, ?it/s]\n",
      "Inference: 100%|██████████| 1/1 [00:00<00:00, 58.64it/s]\n",
      "Tokenization: 100%|██████████| 1/1 [00:00<00:00, 1001.51it/s]\n",
      "Inference: 100%|██████████| 1/1 [00:00<00:00, 76.81it/s]"
     ]
    },
    {
     "name": "stdout",
     "output_type": "stream",
     "text": [
      "dbScores:\n",
      "DE-291-1 DE-293 工作桌.pdf: -12.76992137261561\n",
      "W202 人體工學椅.pdf: -21.26057318224408\n",
      "羅技 Logitech H340 USB耳機麥克風.pdf: -21.392244867154474\n",
      "[折疊收納]懶人折疊桌.pdf: -22.24353385018338\n",
      "SADES DIABLO 暗黑鬥狼RGB REALTEK 電競耳麥 7.1 (USB) SA-916.pdf: -23.69264679550995\n",
      "世界上最透明的故事（日本出版界話題作，只有紙本書可以體驗的感動）.pdf: -24.02208945994217\n",
      "\n",
      "tfidfScores:\n",
      "\n",
      "combinedScores:\n",
      "DE-291-1 DE-293 工作桌.pdf, -5.1079685490462445\n",
      "W202 人體工學椅.pdf, -8.504229272897632\n",
      "羅技 Logitech H340 USB耳機麥克風.pdf, -8.55689794686179\n",
      "[折疊收納]懶人折疊桌.pdf, -8.897413540073352\n",
      "SADES DIABLO 暗黑鬥狼RGB REALTEK 電競耳麥 7.1 (USB) SA-916.pdf, -9.477058718203981\n",
      "世界上最透明的故事（日本出版界話題作，只有紙本書可以體驗的感動）.pdf, -9.608835783976868\n"
     ]
    },
    {
     "name": "stderr",
     "output_type": "stream",
     "text": [
      "\n"
     ]
    }
   ],
   "source": [
    "qaury = '辦公桌'\n",
    "\n",
    "hybridSearch(qaury, db, tfidf)"
   ]
  },
  {
   "cell_type": "code",
   "execution_count": null,
   "metadata": {},
   "outputs": [
    {
     "name": "stderr",
     "output_type": "stream",
     "text": [
      "Tokenization: 100%|██████████| 1/1 [00:00<00:00, 1000.31it/s]\n",
      "Inference: 100%|██████████| 1/1 [00:00<00:00, 64.47it/s]\n",
      "Tokenization: 100%|██████████| 1/1 [00:00<?, ?it/s]\n",
      "Inference: 100%|██████████| 1/1 [00:00<00:00, 62.37it/s]\n",
      "Tokenization: 100%|██████████| 1/1 [00:00<?, ?it/s]\n",
      "Inference: 100%|██████████| 1/1 [00:00<00:00, 70.12it/s]\n",
      "Tokenization: 100%|██████████| 1/1 [00:00<?, ?it/s]\n",
      "Inference: 100%|██████████| 1/1 [00:00<00:00, 78.68it/s]"
     ]
    },
    {
     "name": "stdout",
     "output_type": "stream",
     "text": [
      "dbScores:\n",
      "SADES DIABLO 暗黑鬥狼RGB REALTEK 電競耳麥 7.1 (USB) SA-916.pdf: -10.976673072350891\n",
      "羅技 Logitech H340 USB耳機麥克風.pdf: -11.5916784801745\n",
      "DE-291-1 DE-293 工作桌.pdf: -12.203403076875647\n",
      "世界上最透明的故事（日本出版界話題作，只有紙本書可以體驗的感動）.pdf: -12.222576283714577\n",
      "[折疊收納]懶人折疊桌.pdf: -14.045641763395933\n",
      "W202 人體工學椅.pdf: -15.46428643704579\n",
      "\n",
      "tfidfScores:\n",
      "\n",
      "combinedScores:\n",
      "SADES DIABLO 暗黑鬥狼RGB REALTEK 電競耳麥 7.1 (USB) SA-916.pdf, -4.390669228940356\n",
      "羅技 Logitech H340 USB耳機麥克風.pdf, -4.6366713920697995\n",
      "DE-291-1 DE-293 工作桌.pdf, -4.881361230750259\n",
      "世界上最透明的故事（日本出版界話題作，只有紙本書可以體驗的感動）.pdf, -4.889030513485832\n",
      "[折疊收納]懶人折疊桌.pdf, -5.618256705358373\n",
      "W202 人體工學椅.pdf, -6.185714574818316\n"
     ]
    },
    {
     "name": "stderr",
     "output_type": "stream",
     "text": [
      "\n"
     ]
    }
   ],
   "source": [
    "qaury = '麥克風'\n",
    "\n",
    "hybridSearch(qaury, db, tfidf)"
   ]
  },
  {
   "cell_type": "code",
   "execution_count": null,
   "metadata": {},
   "outputs": [
    {
     "name": "stderr",
     "output_type": "stream",
     "text": [
      "Tokenization: 100%|██████████| 1/1 [00:00<00:00, 1001.51it/s]\n",
      "Inference: 100%|██████████| 1/1 [00:00<00:00, 55.43it/s]\n",
      "Tokenization: 100%|██████████| 1/1 [00:00<?, ?it/s]\n",
      "Inference: 100%|██████████| 1/1 [00:00<00:00, 83.27it/s]\n",
      "Tokenization: 100%|██████████| 1/1 [00:00<?, ?it/s]\n",
      "Inference: 100%|██████████| 1/1 [00:00<00:00, 79.82it/s]\n",
      "Tokenization: 100%|██████████| 1/1 [00:00<?, ?it/s]\n",
      "Inference: 100%|██████████| 1/1 [00:00<00:00, 62.08it/s]"
     ]
    },
    {
     "name": "stdout",
     "output_type": "stream",
     "text": [
      "dbScores:\n",
      "羅技 Logitech H340 USB耳機麥克風.pdf: -9.511294550029747\n",
      "SADES DIABLO 暗黑鬥狼RGB REALTEK 電競耳麥 7.1 (USB) SA-916.pdf: -11.040900747954042\n",
      "DE-291-1 DE-293 工作桌.pdf: -20.46354480934308\n",
      "[折疊收納]懶人折疊桌.pdf: -21.06903613347773\n",
      "W202 人體工學椅.pdf: -21.32928564074964\n",
      "世界上最透明的故事（日本出版界話題作，只有紙本書可以體驗的感動）.pdf: -23.789294481988247\n",
      "\n",
      "tfidfScores:\n",
      "\n",
      "combinedScores:\n",
      "羅技 Logitech H340 USB耳機麥克風.pdf, -3.804517820011899\n",
      "SADES DIABLO 暗黑鬥狼RGB REALTEK 電競耳麥 7.1 (USB) SA-916.pdf, -4.416360299181617\n",
      "DE-291-1 DE-293 工作桌.pdf, -8.185417923737232\n",
      "[折疊收納]懶人折疊桌.pdf, -8.427614453391092\n",
      "W202 人體工學椅.pdf, -8.531714256299855\n",
      "世界上最透明的故事（日本出版界話題作，只有紙本書可以體驗的感動）.pdf, -9.515717792795298\n"
     ]
    },
    {
     "name": "stderr",
     "output_type": "stream",
     "text": [
      "\n"
     ]
    }
   ],
   "source": [
    "qaury = '耳機'\n",
    "\n",
    "hybridSearch(qaury, db, tfidf)"
   ]
  },
  {
   "cell_type": "code",
   "execution_count": null,
   "metadata": {},
   "outputs": [
    {
     "name": "stderr",
     "output_type": "stream",
     "text": [
      "Tokenization: 100%|██████████| 1/1 [00:00<00:00, 1017.79it/s]\n",
      "Inference: 100%|██████████| 1/1 [00:00<00:00, 68.34it/s]\n",
      "Tokenization: 100%|██████████| 1/1 [00:00<?, ?it/s]\n",
      "Inference: 100%|██████████| 1/1 [00:00<00:00, 73.65it/s]\n",
      "Tokenization: 100%|██████████| 1/1 [00:00<?, ?it/s]\n",
      "Inference: 100%|██████████| 1/1 [00:00<00:00, 86.82it/s]\n",
      "Tokenization: 100%|██████████| 1/1 [00:00<?, ?it/s]\n",
      "Inference: 100%|██████████| 1/1 [00:00<00:00, 53.77it/s]"
     ]
    },
    {
     "name": "stdout",
     "output_type": "stream",
     "text": [
      "dbScores:\n",
      "W202 人體工學椅.pdf: -14.415148405822402\n",
      "羅技 Logitech H340 USB耳機麥克風.pdf: -16.05920319567249\n",
      "DE-291-1 DE-293 工作桌.pdf: -17.852934251779928\n",
      "[折疊收納]懶人折疊桌.pdf: -18.216598281248316\n",
      "SADES DIABLO 暗黑鬥狼RGB REALTEK 電競耳麥 7.1 (USB) SA-916.pdf: -18.54358414769552\n",
      "世界上最透明的故事（日本出版界話題作，只有紙本書可以體驗的感動）.pdf: -19.367739873899385\n",
      "\n",
      "tfidfScores:\n",
      "\n",
      "combinedScores:\n",
      "W202 人體工學椅.pdf, -5.766059362328961\n",
      "羅技 Logitech H340 USB耳機麥克風.pdf, -6.423681278268997\n",
      "DE-291-1 DE-293 工作桌.pdf, -7.141173700711971\n",
      "[折疊收納]懶人折疊桌.pdf, -7.286639312499327\n",
      "SADES DIABLO 暗黑鬥狼RGB REALTEK 電競耳麥 7.1 (USB) SA-916.pdf, -7.417433659078208\n",
      "世界上最透明的故事（日本出版界話題作，只有紙本書可以體驗的感動）.pdf, -7.747095949559754\n"
     ]
    },
    {
     "name": "stderr",
     "output_type": "stream",
     "text": [
      "\n"
     ]
    }
   ],
   "source": [
    "qaury = '最近肩頸痠痛，想買一張舒適的椅子'\n",
    "\n",
    "hybridSearch(qaury, db, tfidf)"
   ]
  },
  {
   "cell_type": "code",
   "execution_count": null,
   "metadata": {},
   "outputs": [],
   "source": []
  }
 ],
 "metadata": {
  "kernelspec": {
   "display_name": "Python 3",
   "language": "python",
   "name": "python3"
  },
  "language_info": {
   "codemirror_mode": {
    "name": "ipython",
    "version": 3
   },
   "file_extension": ".py",
   "mimetype": "text/x-python",
   "name": "python",
   "nbconvert_exporter": "python",
   "pygments_lexer": "ipython3",
   "version": "3.11.7"
  }
 },
 "nbformat": 4,
 "nbformat_minor": 2
}
