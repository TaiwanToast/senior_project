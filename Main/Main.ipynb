{
 "cells": [
  {
   "cell_type": "code",
   "execution_count": 1,
   "metadata": {},
   "outputs": [
    {
     "name": "stderr",
     "output_type": "stream",
     "text": [
      "d:\\Python3\\Lib\\site-packages\\tqdm\\auto.py:21: TqdmWarning: IProgress not found. Please update jupyter and ipywidgets. See https://ipywidgets.readthedocs.io/en/stable/user_install.html\n",
      "  from .autonotebook import tqdm as notebook_tqdm\n"
     ]
    }
   ],
   "source": [
    "from myCromaDB import MyCromaDB"
   ]
  },
  {
   "cell_type": "code",
   "execution_count": 2,
   "metadata": {},
   "outputs": [],
   "source": [
    "folder = '..\\\\product infomation'\n",
    "db = MyCromaDB()"
   ]
  },
  {
   "cell_type": "code",
   "execution_count": 3,
   "metadata": {},
   "outputs": [
    {
     "name": "stdout",
     "output_type": "stream",
     "text": [
      "Processing ..\\product infomation\\DE-291-1 DE-293 工作桌.pdf...\n"
     ]
    },
    {
     "name": "stderr",
     "output_type": "stream",
     "text": [
      "Tokenization: 100%|██████████| 1/1 [00:00<00:00, 497.37it/s]\n",
      "Inference: 100%|██████████| 1/1 [00:00<00:00,  5.52it/s]\n",
      "Tokenization: 100%|██████████| 1/1 [00:00<?, ?it/s]\n",
      "Inference: 100%|██████████| 1/1 [00:00<00:00,  4.24it/s]\n",
      "Add of existing embedding ID: DE-291-1 DE-293 工作桌.pdf_0\n",
      "Add of existing embedding ID: SADES DIABLO 暗黑鬥狼RGB REALTEK 電競耳麥 7.1 (USB) SA-916.pdf_0\n",
      "Add of existing embedding ID: SADES DIABLO 暗黑鬥狼RGB REALTEK 電競耳麥 7.1 (USB) SA-916.pdf_1\n",
      "Add of existing embedding ID: W202 人體工學椅.pdf_0\n",
      "Add of existing embedding ID: [折疊收納]懶人折疊桌.pdf_0\n",
      "Add of existing embedding ID: 世界上最透明的故事（日本出版界話題作，只有紙本書可以體驗的感動）.pdf_0\n",
      "Add of existing embedding ID: 世界上最透明的故事（日本出版界話題作，只有紙本書可以體驗的感動）.pdf_1\n",
      "Add of existing embedding ID: 世界上最透明的故事（日本出版界話題作，只有紙本書可以體驗的感動）.pdf_2\n",
      "Add of existing embedding ID: 世界上最透明的故事（日本出版界話題作，只有紙本書可以體驗的感動）.pdf_3\n",
      "Add of existing embedding ID: 世界上最透明的故事（日本出版界話題作，只有紙本書可以體驗的感動）.pdf_4\n",
      "Add of existing embedding ID: 世界上最透明的故事（日本出版界話題作，只有紙本書可以體驗的感動）.pdf_5\n",
      "Add of existing embedding ID: 世界上最透明的故事（日本出版界話題作，只有紙本書可以體驗的感動）.pdf_6\n",
      "Add of existing embedding ID: 世界上最透明的故事（日本出版界話題作，只有紙本書可以體驗的感動）.pdf_7\n",
      "Add of existing embedding ID: 世界上最透明的故事（日本出版界話題作，只有紙本書可以體驗的感動）.pdf_8\n",
      "Add of existing embedding ID: 羅技 Logitech H340 USB耳機麥克風.pdf_0\n",
      "Add of existing embedding ID: 羅技 Logitech H340 USB耳機麥克風.pdf_1\n",
      "Add of existing embedding ID: DE-291-1 DE-293 工作桌.pdf_0\n",
      "Add of existing embedding ID: SADES DIABLO 暗黑鬥狼RGB REALTEK 電競耳麥 7.1 (USB) SA-916.pdf_0\n",
      "Add of existing embedding ID: SADES DIABLO 暗黑鬥狼RGB REALTEK 電競耳麥 7.1 (USB) SA-916.pdf_1\n",
      "Add of existing embedding ID: W202 人體工學椅.pdf_0\n",
      "Add of existing embedding ID: [折疊收納]懶人折疊桌.pdf_0\n",
      "Add of existing embedding ID: 世界上最透明的故事（日本出版界話題作，只有紙本書可以體驗的感動）.pdf_0\n",
      "Add of existing embedding ID: 世界上最透明的故事（日本出版界話題作，只有紙本書可以體驗的感動）.pdf_1\n",
      "Add of existing embedding ID: 世界上最透明的故事（日本出版界話題作，只有紙本書可以體驗的感動）.pdf_2\n",
      "Add of existing embedding ID: 世界上最透明的故事（日本出版界話題作，只有紙本書可以體驗的感動）.pdf_3\n",
      "Add of existing embedding ID: 世界上最透明的故事（日本出版界話題作，只有紙本書可以體驗的感動）.pdf_4\n",
      "Add of existing embedding ID: 世界上最透明的故事（日本出版界話題作，只有紙本書可以體驗的感動）.pdf_5\n",
      "Add of existing embedding ID: 世界上最透明的故事（日本出版界話題作，只有紙本書可以體驗的感動）.pdf_6\n",
      "Add of existing embedding ID: 世界上最透明的故事（日本出版界話題作，只有紙本書可以體驗的感動）.pdf_7\n",
      "Add of existing embedding ID: 世界上最透明的故事（日本出版界話題作，只有紙本書可以體驗的感動）.pdf_8\n",
      "Add of existing embedding ID: 羅技 Logitech H340 USB耳機麥克風.pdf_0\n",
      "Add of existing embedding ID: 羅技 Logitech H340 USB耳機麥克風.pdf_1\n",
      "Add of existing embedding ID: DE-291-1 DE-293 工作桌.pdf_0\n",
      "Add of existing embedding ID: SADES DIABLO 暗黑鬥狼RGB REALTEK 電競耳麥 7.1 (USB) SA-916.pdf_0\n",
      "Add of existing embedding ID: SADES DIABLO 暗黑鬥狼RGB REALTEK 電競耳麥 7.1 (USB) SA-916.pdf_1\n",
      "Add of existing embedding ID: W202 人體工學椅.pdf_0\n",
      "Add of existing embedding ID: [折疊收納]懶人折疊桌.pdf_0\n",
      "Add of existing embedding ID: 世界上最透明的故事（日本出版界話題作，只有紙本書可以體驗的感動）.pdf_0\n",
      "Add of existing embedding ID: 世界上最透明的故事（日本出版界話題作，只有紙本書可以體驗的感動）.pdf_1\n",
      "Add of existing embedding ID: 世界上最透明的故事（日本出版界話題作，只有紙本書可以體驗的感動）.pdf_2\n",
      "Add of existing embedding ID: 世界上最透明的故事（日本出版界話題作，只有紙本書可以體驗的感動）.pdf_3\n",
      "Add of existing embedding ID: 世界上最透明的故事（日本出版界話題作，只有紙本書可以體驗的感動）.pdf_4\n",
      "Add of existing embedding ID: 世界上最透明的故事（日本出版界話題作，只有紙本書可以體驗的感動）.pdf_5\n",
      "Add of existing embedding ID: 世界上最透明的故事（日本出版界話題作，只有紙本書可以體驗的感動）.pdf_6\n",
      "Add of existing embedding ID: 世界上最透明的故事（日本出版界話題作，只有紙本書可以體驗的感動）.pdf_7\n",
      "Add of existing embedding ID: 世界上最透明的故事（日本出版界話題作，只有紙本書可以體驗的感動）.pdf_8\n",
      "Add of existing embedding ID: 羅技 Logitech H340 USB耳機麥克風.pdf_0\n",
      "Add of existing embedding ID: 羅技 Logitech H340 USB耳機麥克風.pdf_1\n",
      "Add of existing embedding ID: DE-291-1 DE-293 工作桌.pdf_0\n",
      "Add of existing embedding ID: SADES DIABLO 暗黑鬥狼RGB REALTEK 電競耳麥 7.1 (USB) SA-916.pdf_0\n",
      "Add of existing embedding ID: SADES DIABLO 暗黑鬥狼RGB REALTEK 電競耳麥 7.1 (USB) SA-916.pdf_1\n",
      "Add of existing embedding ID: W202 人體工學椅.pdf_0\n",
      "Add of existing embedding ID: [折疊收納]懶人折疊桌.pdf_0\n",
      "Add of existing embedding ID: 世界上最透明的故事（日本出版界話題作，只有紙本書可以體驗的感動）.pdf_0\n",
      "Add of existing embedding ID: 世界上最透明的故事（日本出版界話題作，只有紙本書可以體驗的感動）.pdf_1\n",
      "Add of existing embedding ID: 世界上最透明的故事（日本出版界話題作，只有紙本書可以體驗的感動）.pdf_2\n",
      "Add of existing embedding ID: 世界上最透明的故事（日本出版界話題作，只有紙本書可以體驗的感動）.pdf_3\n",
      "Add of existing embedding ID: 世界上最透明的故事（日本出版界話題作，只有紙本書可以體驗的感動）.pdf_4\n",
      "Add of existing embedding ID: 世界上最透明的故事（日本出版界話題作，只有紙本書可以體驗的感動）.pdf_5\n",
      "Add of existing embedding ID: 世界上最透明的故事（日本出版界話題作，只有紙本書可以體驗的感動）.pdf_6\n",
      "Add of existing embedding ID: 世界上最透明的故事（日本出版界話題作，只有紙本書可以體驗的感動）.pdf_7\n",
      "Add of existing embedding ID: 世界上最透明的故事（日本出版界話題作，只有紙本書可以體驗的感動）.pdf_8\n",
      "Add of existing embedding ID: 羅技 Logitech H340 USB耳機麥克風.pdf_0\n",
      "Add of existing embedding ID: 羅技 Logitech H340 USB耳機麥克風.pdf_1\n",
      "Add of existing embedding ID: DE-291-1 DE-293 工作桌.pdf_0\n",
      "Add of existing embedding ID: SADES DIABLO 暗黑鬥狼RGB REALTEK 電競耳麥 7.1 (USB) SA-916.pdf_0\n",
      "Add of existing embedding ID: SADES DIABLO 暗黑鬥狼RGB REALTEK 電競耳麥 7.1 (USB) SA-916.pdf_1\n",
      "Add of existing embedding ID: W202 人體工學椅.pdf_0\n",
      "Add of existing embedding ID: [折疊收納]懶人折疊桌.pdf_0\n",
      "Add of existing embedding ID: 世界上最透明的故事（日本出版界話題作，只有紙本書可以體驗的感動）.pdf_0\n",
      "Add of existing embedding ID: 世界上最透明的故事（日本出版界話題作，只有紙本書可以體驗的感動）.pdf_1\n",
      "Add of existing embedding ID: 世界上最透明的故事（日本出版界話題作，只有紙本書可以體驗的感動）.pdf_2\n",
      "Add of existing embedding ID: 世界上最透明的故事（日本出版界話題作，只有紙本書可以體驗的感動）.pdf_3\n",
      "Add of existing embedding ID: 世界上最透明的故事（日本出版界話題作，只有紙本書可以體驗的感動）.pdf_4\n",
      "Add of existing embedding ID: 世界上最透明的故事（日本出版界話題作，只有紙本書可以體驗的感動）.pdf_5\n",
      "Add of existing embedding ID: 世界上最透明的故事（日本出版界話題作，只有紙本書可以體驗的感動）.pdf_6\n",
      "Add of existing embedding ID: 世界上最透明的故事（日本出版界話題作，只有紙本書可以體驗的感動）.pdf_7\n",
      "Add of existing embedding ID: 世界上最透明的故事（日本出版界話題作，只有紙本書可以體驗的感動）.pdf_8\n",
      "Add of existing embedding ID: 羅技 Logitech H340 USB耳機麥克風.pdf_0\n",
      "Add of existing embedding ID: 羅技 Logitech H340 USB耳機麥克風.pdf_1\n",
      "Add of existing embedding ID: DE-291-1 DE-293 工作桌.pdf_0\n",
      "Add of existing embedding ID: SADES DIABLO 暗黑鬥狼RGB REALTEK 電競耳麥 7.1 (USB) SA-916.pdf_0\n",
      "Add of existing embedding ID: SADES DIABLO 暗黑鬥狼RGB REALTEK 電競耳麥 7.1 (USB) SA-916.pdf_1\n",
      "Add of existing embedding ID: W202 人體工學椅.pdf_0\n",
      "Add of existing embedding ID: [折疊收納]懶人折疊桌.pdf_0\n",
      "Add of existing embedding ID: 世界上最透明的故事（日本出版界話題作，只有紙本書可以體驗的感動）.pdf_0\n",
      "Add of existing embedding ID: 世界上最透明的故事（日本出版界話題作，只有紙本書可以體驗的感動）.pdf_1\n",
      "Add of existing embedding ID: 世界上最透明的故事（日本出版界話題作，只有紙本書可以體驗的感動）.pdf_2\n",
      "Add of existing embedding ID: 世界上最透明的故事（日本出版界話題作，只有紙本書可以體驗的感動）.pdf_3\n",
      "Add of existing embedding ID: 世界上最透明的故事（日本出版界話題作，只有紙本書可以體驗的感動）.pdf_4\n",
      "Add of existing embedding ID: 世界上最透明的故事（日本出版界話題作，只有紙本書可以體驗的感動）.pdf_5\n",
      "Add of existing embedding ID: 世界上最透明的故事（日本出版界話題作，只有紙本書可以體驗的感動）.pdf_6\n",
      "Add of existing embedding ID: 世界上最透明的故事（日本出版界話題作，只有紙本書可以體驗的感動）.pdf_7\n",
      "Add of existing embedding ID: 世界上最透明的故事（日本出版界話題作，只有紙本書可以體驗的感動）.pdf_8\n",
      "Add of existing embedding ID: 羅技 Logitech H340 USB耳機麥克風.pdf_0\n",
      "Add of existing embedding ID: 羅技 Logitech H340 USB耳機麥克風.pdf_1\n",
      "Add of existing embedding ID: DE-291-1 DE-293 工作桌.pdf_0\n",
      "Add of existing embedding ID: SADES DIABLO 暗黑鬥狼RGB REALTEK 電競耳麥 7.1 (USB) SA-916.pdf_0\n",
      "Add of existing embedding ID: SADES DIABLO 暗黑鬥狼RGB REALTEK 電競耳麥 7.1 (USB) SA-916.pdf_1\n",
      "Add of existing embedding ID: W202 人體工學椅.pdf_0\n",
      "Add of existing embedding ID: [折疊收納]懶人折疊桌.pdf_0\n",
      "Add of existing embedding ID: 世界上最透明的故事（日本出版界話題作，只有紙本書可以體驗的感動）.pdf_0\n",
      "Add of existing embedding ID: 世界上最透明的故事（日本出版界話題作，只有紙本書可以體驗的感動）.pdf_1\n",
      "Add of existing embedding ID: 世界上最透明的故事（日本出版界話題作，只有紙本書可以體驗的感動）.pdf_2\n",
      "Add of existing embedding ID: 世界上最透明的故事（日本出版界話題作，只有紙本書可以體驗的感動）.pdf_3\n",
      "Add of existing embedding ID: 世界上最透明的故事（日本出版界話題作，只有紙本書可以體驗的感動）.pdf_4\n",
      "Add of existing embedding ID: 世界上最透明的故事（日本出版界話題作，只有紙本書可以體驗的感動）.pdf_5\n",
      "Add of existing embedding ID: 世界上最透明的故事（日本出版界話題作，只有紙本書可以體驗的感動）.pdf_6\n",
      "Add of existing embedding ID: 世界上最透明的故事（日本出版界話題作，只有紙本書可以體驗的感動）.pdf_7\n",
      "Add of existing embedding ID: 世界上最透明的故事（日本出版界話題作，只有紙本書可以體驗的感動）.pdf_8\n",
      "Add of existing embedding ID: 羅技 Logitech H340 USB耳機麥克風.pdf_0\n",
      "Add of existing embedding ID: 羅技 Logitech H340 USB耳機麥克風.pdf_1\n",
      "Add of existing embedding ID: DE-291-1 DE-293 工作桌.pdf_0\n",
      "Add of existing embedding ID: SADES DIABLO 暗黑鬥狼RGB REALTEK 電競耳麥 7.1 (USB) SA-916.pdf_0\n",
      "Add of existing embedding ID: SADES DIABLO 暗黑鬥狼RGB REALTEK 電競耳麥 7.1 (USB) SA-916.pdf_1\n",
      "Add of existing embedding ID: W202 人體工學椅.pdf_0\n",
      "Add of existing embedding ID: [折疊收納]懶人折疊桌.pdf_0\n",
      "Add of existing embedding ID: 世界上最透明的故事（日本出版界話題作，只有紙本書可以體驗的感動）.pdf_0\n",
      "Add of existing embedding ID: 世界上最透明的故事（日本出版界話題作，只有紙本書可以體驗的感動）.pdf_1\n",
      "Add of existing embedding ID: 世界上最透明的故事（日本出版界話題作，只有紙本書可以體驗的感動）.pdf_2\n",
      "Add of existing embedding ID: 世界上最透明的故事（日本出版界話題作，只有紙本書可以體驗的感動）.pdf_3\n",
      "Add of existing embedding ID: 世界上最透明的故事（日本出版界話題作，只有紙本書可以體驗的感動）.pdf_4\n",
      "Add of existing embedding ID: 世界上最透明的故事（日本出版界話題作，只有紙本書可以體驗的感動）.pdf_5\n",
      "Add of existing embedding ID: 世界上最透明的故事（日本出版界話題作，只有紙本書可以體驗的感動）.pdf_6\n",
      "Add of existing embedding ID: 世界上最透明的故事（日本出版界話題作，只有紙本書可以體驗的感動）.pdf_7\n",
      "Add of existing embedding ID: 世界上最透明的故事（日本出版界話題作，只有紙本書可以體驗的感動）.pdf_8\n",
      "Add of existing embedding ID: 羅技 Logitech H340 USB耳機麥克風.pdf_0\n",
      "Add of existing embedding ID: 羅技 Logitech H340 USB耳機麥克風.pdf_1\n",
      "Add of existing embedding ID: DE-291-1 DE-293 工作桌.pdf_0\n",
      "Add of existing embedding ID: SADES DIABLO 暗黑鬥狼RGB REALTEK 電競耳麥 7.1 (USB) SA-916.pdf_0\n",
      "Add of existing embedding ID: SADES DIABLO 暗黑鬥狼RGB REALTEK 電競耳麥 7.1 (USB) SA-916.pdf_1\n",
      "Add of existing embedding ID: W202 人體工學椅.pdf_0\n",
      "Add of existing embedding ID: [折疊收納]懶人折疊桌.pdf_0\n",
      "Add of existing embedding ID: 世界上最透明的故事（日本出版界話題作，只有紙本書可以體驗的感動）.pdf_0\n",
      "Add of existing embedding ID: 世界上最透明的故事（日本出版界話題作，只有紙本書可以體驗的感動）.pdf_1\n",
      "Add of existing embedding ID: 世界上最透明的故事（日本出版界話題作，只有紙本書可以體驗的感動）.pdf_2\n",
      "Add of existing embedding ID: 世界上最透明的故事（日本出版界話題作，只有紙本書可以體驗的感動）.pdf_3\n",
      "Add of existing embedding ID: 世界上最透明的故事（日本出版界話題作，只有紙本書可以體驗的感動）.pdf_4\n",
      "Add of existing embedding ID: 世界上最透明的故事（日本出版界話題作，只有紙本書可以體驗的感動）.pdf_5\n",
      "Add of existing embedding ID: 世界上最透明的故事（日本出版界話題作，只有紙本書可以體驗的感動）.pdf_6\n",
      "Add of existing embedding ID: 世界上最透明的故事（日本出版界話題作，只有紙本書可以體驗的感動）.pdf_7\n",
      "Add of existing embedding ID: 世界上最透明的故事（日本出版界話題作，只有紙本書可以體驗的感動）.pdf_8\n",
      "Add of existing embedding ID: 羅技 Logitech H340 USB耳機麥克風.pdf_0\n",
      "Add of existing embedding ID: 羅技 Logitech H340 USB耳機麥克風.pdf_1\n",
      "Add of existing embedding ID: DE-291-1 DE-293 工作桌.pdf_0\n",
      "Add of existing embedding ID: SADES DIABLO 暗黑鬥狼RGB REALTEK 電競耳麥 7.1 (USB) SA-916.pdf_0\n",
      "Add of existing embedding ID: SADES DIABLO 暗黑鬥狼RGB REALTEK 電競耳麥 7.1 (USB) SA-916.pdf_1\n",
      "Add of existing embedding ID: W202 人體工學椅.pdf_0\n",
      "Add of existing embedding ID: [折疊收納]懶人折疊桌.pdf_0\n",
      "Add of existing embedding ID: 世界上最透明的故事（日本出版界話題作，只有紙本書可以體驗的感動）.pdf_0\n",
      "Add of existing embedding ID: 世界上最透明的故事（日本出版界話題作，只有紙本書可以體驗的感動）.pdf_1\n",
      "Add of existing embedding ID: 世界上最透明的故事（日本出版界話題作，只有紙本書可以體驗的感動）.pdf_2\n",
      "Add of existing embedding ID: 世界上最透明的故事（日本出版界話題作，只有紙本書可以體驗的感動）.pdf_3\n",
      "Add of existing embedding ID: 世界上最透明的故事（日本出版界話題作，只有紙本書可以體驗的感動）.pdf_4\n",
      "Add of existing embedding ID: 世界上最透明的故事（日本出版界話題作，只有紙本書可以體驗的感動）.pdf_5\n",
      "Add of existing embedding ID: 世界上最透明的故事（日本出版界話題作，只有紙本書可以體驗的感動）.pdf_6\n",
      "Add of existing embedding ID: 世界上最透明的故事（日本出版界話題作，只有紙本書可以體驗的感動）.pdf_7\n",
      "Add of existing embedding ID: 世界上最透明的故事（日本出版界話題作，只有紙本書可以體驗的感動）.pdf_8\n",
      "Add of existing embedding ID: 羅技 Logitech H340 USB耳機麥克風.pdf_0\n",
      "Add of existing embedding ID: 羅技 Logitech H340 USB耳機麥克風.pdf_1\n",
      "Add of existing embedding ID: DE-291-1 DE-293 工作桌.pdf_0\n",
      "Add of existing embedding ID: SADES DIABLO 暗黑鬥狼RGB REALTEK 電競耳麥 7.1 (USB) SA-916.pdf_0\n",
      "Add of existing embedding ID: SADES DIABLO 暗黑鬥狼RGB REALTEK 電競耳麥 7.1 (USB) SA-916.pdf_1\n",
      "Add of existing embedding ID: W202 人體工學椅.pdf_0\n",
      "Add of existing embedding ID: [折疊收納]懶人折疊桌.pdf_0\n",
      "Add of existing embedding ID: 世界上最透明的故事（日本出版界話題作，只有紙本書可以體驗的感動）.pdf_0\n",
      "Add of existing embedding ID: 世界上最透明的故事（日本出版界話題作，只有紙本書可以體驗的感動）.pdf_1\n",
      "Add of existing embedding ID: 世界上最透明的故事（日本出版界話題作，只有紙本書可以體驗的感動）.pdf_2\n",
      "Add of existing embedding ID: 世界上最透明的故事（日本出版界話題作，只有紙本書可以體驗的感動）.pdf_3\n",
      "Add of existing embedding ID: 世界上最透明的故事（日本出版界話題作，只有紙本書可以體驗的感動）.pdf_4\n",
      "Add of existing embedding ID: 世界上最透明的故事（日本出版界話題作，只有紙本書可以體驗的感動）.pdf_5\n",
      "Add of existing embedding ID: 世界上最透明的故事（日本出版界話題作，只有紙本書可以體驗的感動）.pdf_6\n",
      "Add of existing embedding ID: 世界上最透明的故事（日本出版界話題作，只有紙本書可以體驗的感動）.pdf_7\n",
      "Add of existing embedding ID: 世界上最透明的故事（日本出版界話題作，只有紙本書可以體驗的感動）.pdf_8\n",
      "Add of existing embedding ID: 羅技 Logitech H340 USB耳機麥克風.pdf_0\n",
      "Add of existing embedding ID: 羅技 Logitech H340 USB耳機麥克風.pdf_1\n",
      "Add of existing embedding ID: DE-291-1 DE-293 工作桌.pdf_0\n",
      "Add of existing embedding ID: SADES DIABLO 暗黑鬥狼RGB REALTEK 電競耳麥 7.1 (USB) SA-916.pdf_0\n",
      "Add of existing embedding ID: SADES DIABLO 暗黑鬥狼RGB REALTEK 電競耳麥 7.1 (USB) SA-916.pdf_1\n",
      "Add of existing embedding ID: W202 人體工學椅.pdf_0\n",
      "Add of existing embedding ID: [折疊收納]懶人折疊桌.pdf_0\n",
      "Add of existing embedding ID: 世界上最透明的故事（日本出版界話題作，只有紙本書可以體驗的感動）.pdf_0\n",
      "Add of existing embedding ID: 世界上最透明的故事（日本出版界話題作，只有紙本書可以體驗的感動）.pdf_1\n",
      "Add of existing embedding ID: 世界上最透明的故事（日本出版界話題作，只有紙本書可以體驗的感動）.pdf_2\n",
      "Add of existing embedding ID: 世界上最透明的故事（日本出版界話題作，只有紙本書可以體驗的感動）.pdf_3\n",
      "Add of existing embedding ID: 世界上最透明的故事（日本出版界話題作，只有紙本書可以體驗的感動）.pdf_4\n",
      "Add of existing embedding ID: 世界上最透明的故事（日本出版界話題作，只有紙本書可以體驗的感動）.pdf_5\n",
      "Add of existing embedding ID: 世界上最透明的故事（日本出版界話題作，只有紙本書可以體驗的感動）.pdf_6\n",
      "Add of existing embedding ID: 世界上最透明的故事（日本出版界話題作，只有紙本書可以體驗的感動）.pdf_7\n",
      "Add of existing embedding ID: 世界上最透明的故事（日本出版界話題作，只有紙本書可以體驗的感動）.pdf_8\n",
      "Add of existing embedding ID: 羅技 Logitech H340 USB耳機麥克風.pdf_0\n",
      "Add of existing embedding ID: 羅技 Logitech H340 USB耳機麥克風.pdf_1\n",
      "Add of existing embedding ID: DE-291-1 DE-293 工作桌.pdf_0\n",
      "Add of existing embedding ID: SADES DIABLO 暗黑鬥狼RGB REALTEK 電競耳麥 7.1 (USB) SA-916.pdf_0\n",
      "Add of existing embedding ID: SADES DIABLO 暗黑鬥狼RGB REALTEK 電競耳麥 7.1 (USB) SA-916.pdf_1\n",
      "Add of existing embedding ID: W202 人體工學椅.pdf_0\n",
      "Add of existing embedding ID: [折疊收納]懶人折疊桌.pdf_0\n",
      "Add of existing embedding ID: 世界上最透明的故事（日本出版界話題作，只有紙本書可以體驗的感動）.pdf_0\n",
      "Add of existing embedding ID: 世界上最透明的故事（日本出版界話題作，只有紙本書可以體驗的感動）.pdf_1\n",
      "Add of existing embedding ID: 世界上最透明的故事（日本出版界話題作，只有紙本書可以體驗的感動）.pdf_2\n",
      "Add of existing embedding ID: 世界上最透明的故事（日本出版界話題作，只有紙本書可以體驗的感動）.pdf_3\n",
      "Add of existing embedding ID: 世界上最透明的故事（日本出版界話題作，只有紙本書可以體驗的感動）.pdf_4\n",
      "Add of existing embedding ID: 世界上最透明的故事（日本出版界話題作，只有紙本書可以體驗的感動）.pdf_5\n",
      "Add of existing embedding ID: 世界上最透明的故事（日本出版界話題作，只有紙本書可以體驗的感動）.pdf_6\n",
      "Add of existing embedding ID: 世界上最透明的故事（日本出版界話題作，只有紙本書可以體驗的感動）.pdf_7\n",
      "Add of existing embedding ID: 世界上最透明的故事（日本出版界話題作，只有紙本書可以體驗的感動）.pdf_8\n",
      "Add of existing embedding ID: 羅技 Logitech H340 USB耳機麥克風.pdf_0\n",
      "Add of existing embedding ID: 羅技 Logitech H340 USB耳機麥克風.pdf_1\n",
      "Add of existing embedding ID: DE-291-1 DE-293 工作桌.pdf_0\n",
      "Add of existing embedding ID: SADES DIABLO 暗黑鬥狼RGB REALTEK 電競耳麥 7.1 (USB) SA-916.pdf_0\n",
      "Add of existing embedding ID: SADES DIABLO 暗黑鬥狼RGB REALTEK 電競耳麥 7.1 (USB) SA-916.pdf_1\n",
      "Add of existing embedding ID: W202 人體工學椅.pdf_0\n",
      "Add of existing embedding ID: [折疊收納]懶人折疊桌.pdf_0\n",
      "Add of existing embedding ID: 世界上最透明的故事（日本出版界話題作，只有紙本書可以體驗的感動）.pdf_0\n",
      "Add of existing embedding ID: 世界上最透明的故事（日本出版界話題作，只有紙本書可以體驗的感動）.pdf_1\n",
      "Add of existing embedding ID: 世界上最透明的故事（日本出版界話題作，只有紙本書可以體驗的感動）.pdf_2\n",
      "Add of existing embedding ID: 世界上最透明的故事（日本出版界話題作，只有紙本書可以體驗的感動）.pdf_3\n",
      "Add of existing embedding ID: 世界上最透明的故事（日本出版界話題作，只有紙本書可以體驗的感動）.pdf_4\n",
      "Add of existing embedding ID: 世界上最透明的故事（日本出版界話題作，只有紙本書可以體驗的感動）.pdf_5\n",
      "Add of existing embedding ID: 世界上最透明的故事（日本出版界話題作，只有紙本書可以體驗的感動）.pdf_6\n",
      "Add of existing embedding ID: 世界上最透明的故事（日本出版界話題作，只有紙本書可以體驗的感動）.pdf_7\n",
      "Add of existing embedding ID: 世界上最透明的故事（日本出版界話題作，只有紙本書可以體驗的感動）.pdf_8\n",
      "Add of existing embedding ID: 羅技 Logitech H340 USB耳機麥克風.pdf_0\n",
      "Add of existing embedding ID: 羅技 Logitech H340 USB耳機麥克風.pdf_1\n",
      "Add of existing embedding ID: DE-291-1 DE-293 工作桌.pdf_0\n",
      "Add of existing embedding ID: SADES DIABLO 暗黑鬥狼RGB REALTEK 電競耳麥 7.1 (USB) SA-916.pdf_0\n",
      "Add of existing embedding ID: SADES DIABLO 暗黑鬥狼RGB REALTEK 電競耳麥 7.1 (USB) SA-916.pdf_1\n",
      "Add of existing embedding ID: W202 人體工學椅.pdf_0\n",
      "Add of existing embedding ID: [折疊收納]懶人折疊桌.pdf_0\n",
      "Add of existing embedding ID: 世界上最透明的故事（日本出版界話題作，只有紙本書可以體驗的感動）.pdf_0\n",
      "Add of existing embedding ID: 世界上最透明的故事（日本出版界話題作，只有紙本書可以體驗的感動）.pdf_1\n",
      "Add of existing embedding ID: 世界上最透明的故事（日本出版界話題作，只有紙本書可以體驗的感動）.pdf_2\n",
      "Add of existing embedding ID: 世界上最透明的故事（日本出版界話題作，只有紙本書可以體驗的感動）.pdf_3\n",
      "Add of existing embedding ID: 世界上最透明的故事（日本出版界話題作，只有紙本書可以體驗的感動）.pdf_4\n",
      "Add of existing embedding ID: 世界上最透明的故事（日本出版界話題作，只有紙本書可以體驗的感動）.pdf_5\n",
      "Add of existing embedding ID: 世界上最透明的故事（日本出版界話題作，只有紙本書可以體驗的感動）.pdf_6\n",
      "Add of existing embedding ID: 世界上最透明的故事（日本出版界話題作，只有紙本書可以體驗的感動）.pdf_7\n",
      "Add of existing embedding ID: 世界上最透明的故事（日本出版界話題作，只有紙本書可以體驗的感動）.pdf_8\n",
      "Add of existing embedding ID: 羅技 Logitech H340 USB耳機麥克風.pdf_0\n",
      "Add of existing embedding ID: 羅技 Logitech H340 USB耳機麥克風.pdf_1\n",
      "Add of existing embedding ID: DE-291-1 DE-293 工作桌.pdf_0\n",
      "Add of existing embedding ID: SADES DIABLO 暗黑鬥狼RGB REALTEK 電競耳麥 7.1 (USB) SA-916.pdf_0\n",
      "Add of existing embedding ID: SADES DIABLO 暗黑鬥狼RGB REALTEK 電競耳麥 7.1 (USB) SA-916.pdf_1\n",
      "Add of existing embedding ID: W202 人體工學椅.pdf_0\n",
      "Add of existing embedding ID: [折疊收納]懶人折疊桌.pdf_0\n",
      "Add of existing embedding ID: 世界上最透明的故事（日本出版界話題作，只有紙本書可以體驗的感動）.pdf_0\n",
      "Add of existing embedding ID: 世界上最透明的故事（日本出版界話題作，只有紙本書可以體驗的感動）.pdf_1\n",
      "Add of existing embedding ID: 世界上最透明的故事（日本出版界話題作，只有紙本書可以體驗的感動）.pdf_2\n",
      "Add of existing embedding ID: 世界上最透明的故事（日本出版界話題作，只有紙本書可以體驗的感動）.pdf_3\n",
      "Add of existing embedding ID: 世界上最透明的故事（日本出版界話題作，只有紙本書可以體驗的感動）.pdf_4\n",
      "Add of existing embedding ID: 世界上最透明的故事（日本出版界話題作，只有紙本書可以體驗的感動）.pdf_5\n",
      "Add of existing embedding ID: 世界上最透明的故事（日本出版界話題作，只有紙本書可以體驗的感動）.pdf_6\n",
      "Add of existing embedding ID: 世界上最透明的故事（日本出版界話題作，只有紙本書可以體驗的感動）.pdf_7\n",
      "Add of existing embedding ID: 世界上最透明的故事（日本出版界話題作，只有紙本書可以體驗的感動）.pdf_8\n",
      "Add of existing embedding ID: 羅技 Logitech H340 USB耳機麥克風.pdf_0\n",
      "Add of existing embedding ID: 羅技 Logitech H340 USB耳機麥克風.pdf_1\n",
      "Insert of existing embedding ID: DE-291-1 DE-293 工作桌.pdf_0\n",
      "Add of existing embedding ID: DE-291-1 DE-293 工作桌.pdf_0\n"
     ]
    },
    {
     "name": "stdout",
     "output_type": "stream",
     "text": [
      "Processing ..\\product infomation\\SADES DIABLO 暗黑鬥狼RGB REALTEK 電競耳麥 7.1 (USB) SA-916.pdf...\n"
     ]
    },
    {
     "name": "stderr",
     "output_type": "stream",
     "text": [
      "Tokenization: 100%|██████████| 1/1 [00:00<00:00, 959.14it/s]\n",
      "Inference: 100%|██████████| 1/1 [00:00<00:00,  8.27it/s]\n",
      "Tokenization: 100%|██████████| 1/1 [00:00<00:00, 396.92it/s]\n",
      "Inference: 100%|██████████| 1/1 [00:00<00:00,  2.13it/s]\n",
      "Insert of existing embedding ID: SADES DIABLO 暗黑鬥狼RGB REALTEK 電競耳麥 7.1 (USB) SA-916.pdf_0\n",
      "Add of existing embedding ID: SADES DIABLO 暗黑鬥狼RGB REALTEK 電競耳麥 7.1 (USB) SA-916.pdf_0\n",
      "Insert of existing embedding ID: SADES DIABLO 暗黑鬥狼RGB REALTEK 電競耳麥 7.1 (USB) SA-916.pdf_1\n",
      "Add of existing embedding ID: SADES DIABLO 暗黑鬥狼RGB REALTEK 電競耳麥 7.1 (USB) SA-916.pdf_1\n"
     ]
    },
    {
     "name": "stdout",
     "output_type": "stream",
     "text": [
      "Processing ..\\product infomation\\W202 人體工學椅.pdf...\n"
     ]
    },
    {
     "name": "stderr",
     "output_type": "stream",
     "text": [
      "Tokenization: 100%|██████████| 1/1 [00:00<00:00, 664.92it/s]\n",
      "Inference: 100%|██████████| 1/1 [00:00<00:00, 20.23it/s]\n",
      "Tokenization: 100%|██████████| 1/1 [00:00<?, ?it/s]\n",
      "Inference: 100%|██████████| 1/1 [00:00<00:00,  4.62it/s]\n",
      "Insert of existing embedding ID: W202 人體工學椅.pdf_0\n",
      "Add of existing embedding ID: W202 人體工學椅.pdf_0\n"
     ]
    },
    {
     "name": "stdout",
     "output_type": "stream",
     "text": [
      "Processing ..\\product infomation\\[折疊收納]懶人折疊桌.pdf...\n"
     ]
    },
    {
     "name": "stderr",
     "output_type": "stream",
     "text": [
      "Tokenization: 100%|██████████| 1/1 [00:00<00:00, 994.62it/s]\n",
      "Inference: 100%|██████████| 1/1 [00:00<00:00, 31.79it/s]\n",
      "Tokenization: 100%|██████████| 1/1 [00:00<?, ?it/s]\n",
      "Inference: 100%|██████████| 1/1 [00:00<00:00,  8.73it/s]\n",
      "Insert of existing embedding ID: [折疊收納]懶人折疊桌.pdf_0\n",
      "Add of existing embedding ID: [折疊收納]懶人折疊桌.pdf_0\n"
     ]
    },
    {
     "name": "stdout",
     "output_type": "stream",
     "text": [
      "Processing ..\\product infomation\\世界上最透明的故事（日本出版界話題作，只有紙本書可以體驗的感動）.pdf...\n"
     ]
    },
    {
     "name": "stderr",
     "output_type": "stream",
     "text": [
      "Tokenization: 100%|██████████| 1/1 [00:00<00:00, 177.88it/s]\n",
      "Inference: 100%|██████████| 1/1 [00:00<00:00,  1.31it/s]\n",
      "Tokenization: 100%|██████████| 1/1 [00:00<00:00, 249.75it/s]\n",
      "Inference: 100%|██████████| 1/1 [00:27<00:00, 27.04s/it]\n",
      "Insert of existing embedding ID: 世界上最透明的故事（日本出版界話題作，只有紙本書可以體驗的感動）.pdf_0\n",
      "Add of existing embedding ID: 世界上最透明的故事（日本出版界話題作，只有紙本書可以體驗的感動）.pdf_0\n",
      "Insert of existing embedding ID: 世界上最透明的故事（日本出版界話題作，只有紙本書可以體驗的感動）.pdf_1\n",
      "Add of existing embedding ID: 世界上最透明的故事（日本出版界話題作，只有紙本書可以體驗的感動）.pdf_1\n",
      "Insert of existing embedding ID: 世界上最透明的故事（日本出版界話題作，只有紙本書可以體驗的感動）.pdf_2\n",
      "Add of existing embedding ID: 世界上最透明的故事（日本出版界話題作，只有紙本書可以體驗的感動）.pdf_2\n",
      "Insert of existing embedding ID: 世界上最透明的故事（日本出版界話題作，只有紙本書可以體驗的感動）.pdf_3\n",
      "Add of existing embedding ID: 世界上最透明的故事（日本出版界話題作，只有紙本書可以體驗的感動）.pdf_3\n",
      "Insert of existing embedding ID: 世界上最透明的故事（日本出版界話題作，只有紙本書可以體驗的感動）.pdf_4\n",
      "Add of existing embedding ID: 世界上最透明的故事（日本出版界話題作，只有紙本書可以體驗的感動）.pdf_4\n",
      "Insert of existing embedding ID: 世界上最透明的故事（日本出版界話題作，只有紙本書可以體驗的感動）.pdf_5\n",
      "Add of existing embedding ID: 世界上最透明的故事（日本出版界話題作，只有紙本書可以體驗的感動）.pdf_5\n",
      "Insert of existing embedding ID: 世界上最透明的故事（日本出版界話題作，只有紙本書可以體驗的感動）.pdf_6\n",
      "Add of existing embedding ID: 世界上最透明的故事（日本出版界話題作，只有紙本書可以體驗的感動）.pdf_6\n",
      "Insert of existing embedding ID: 世界上最透明的故事（日本出版界話題作，只有紙本書可以體驗的感動）.pdf_7\n",
      "Add of existing embedding ID: 世界上最透明的故事（日本出版界話題作，只有紙本書可以體驗的感動）.pdf_7\n",
      "Insert of existing embedding ID: 世界上最透明的故事（日本出版界話題作，只有紙本書可以體驗的感動）.pdf_8\n",
      "Add of existing embedding ID: 世界上最透明的故事（日本出版界話題作，只有紙本書可以體驗的感動）.pdf_8\n"
     ]
    },
    {
     "name": "stdout",
     "output_type": "stream",
     "text": [
      "Processing ..\\product infomation\\羅技 Logitech H340 USB耳機麥克風.pdf...\n"
     ]
    },
    {
     "name": "stderr",
     "output_type": "stream",
     "text": [
      "Tokenization: 100%|██████████| 1/1 [00:00<00:00, 962.22it/s]\n",
      "Inference: 100%|██████████| 1/1 [00:00<00:00,  8.19it/s]\n",
      "Tokenization: 100%|██████████| 1/1 [00:00<00:00, 958.70it/s]\n",
      "Inference: 100%|██████████| 1/1 [00:00<00:00,  1.57it/s]\n",
      "Insert of existing embedding ID: 羅技 Logitech H340 USB耳機麥克風.pdf_0\n",
      "Add of existing embedding ID: 羅技 Logitech H340 USB耳機麥克風.pdf_0\n",
      "Insert of existing embedding ID: 羅技 Logitech H340 USB耳機麥克風.pdf_1\n",
      "Add of existing embedding ID: 羅技 Logitech H340 USB耳機麥克風.pdf_1\n"
     ]
    }
   ],
   "source": [
    "import os\n",
    "\n",
    "files = [f for f in os.listdir(folder) if f.endswith('.pdf')]\n",
    "\n",
    "for file in files:\n",
    "    db.addPDF(folder + '\\\\' + file)"
   ]
  },
  {
   "cell_type": "code",
   "execution_count": 4,
   "metadata": {},
   "outputs": [
    {
     "name": "stderr",
     "output_type": "stream",
     "text": [
      "Tokenization: 100%|██████████| 1/1 [00:00<?, ?it/s]\n",
      "Inference: 100%|██████████| 1/1 [00:00<00:00, 47.00it/s]\n",
      "Tokenization: 100%|██████████| 1/1 [00:00<?, ?it/s]\n",
      "Inference: 100%|██████████| 1/1 [00:00<00:00, 86.52it/s]"
     ]
    },
    {
     "name": "stdout",
     "output_type": "stream",
     "text": [
      "<class 'list'>\n"
     ]
    },
    {
     "name": "stderr",
     "output_type": "stream",
     "text": [
      "\n"
     ]
    }
   ],
   "source": [
    "query = '推理小說'\n",
    "result = db.search(query)\n",
    "print(type(result))"
   ]
  },
  {
   "cell_type": "code",
   "execution_count": 5,
   "metadata": {},
   "outputs": [
    {
     "name": "stdout",
     "output_type": "stream",
     "text": [
      "[{'fileName': '世界上最透明的故事（日本出版界話題作，只有紙本書可以體驗的感動）.pdf', 'text': '界引起熱潮獨特作品如今繁中讀者帶來樂趣值得收藏書際探險家蛙蛙離奇尋父記世界沒有不顧家庭風流爸爸事情離奇奇怪迷陣可怕事不關己讀者涉身回頭一切細節作家過世作家私生子少年正妹編輯時代紙本媒材實現故事獻給紙本書情書出版職人禮讚中文版成書巨大奇蹟黃色臉孔譯者敘述性詭計本質內容形式結合所謂形式小說形式言語形式形式形式形式邊界推到感受到作家尋求邊界盡頭熱情準備好程度挑戰熱情推理作家世界透明故事驚人工藝品怎樣作者這樣故事怎樣出版社願意翻譯存在足以出版業獻上敬意看完讀者肯定明白小說家可觀塑造最多作家羡慕推理作家瘋狂戀態貶義驚天動地文字創作手法漏字文小說', 'score': 5.964242458343506}, {'fileName': 'DE-291-1 DE-293 工作桌.pdf', 'text': '商品名稱工作桌店家名稱國際暢貨中心商品售價1,299 店家電話04-25651960店家地址台中市大雅區龍善二街22號商品描述商品資料表商品型號胡桃色胡桃黑色商品尺寸商品顏色胡桃木色胡桃黑色商品材質1.5塑合板烤漆鐵管組裝方式需要組裝商品特色加大桌面120公分60公分市面120x48縮小版作業順手書桌搭配書櫃貼心設計簡約俐落設計時尚質感書桌辦公桌電腦桌美耐皿板防水耐磨整理貼紙吸水膨脹發霉配送說明商品配送平面1樓組裝方式組裝說明書檢查維護', 'score': 13.433932304382324}, {'fileName': 'SADES DIABLO 暗黑鬥狼RGB REALTEK 電競耳麥 7.1 (USB) SA-916.pdf', 'text': '商品名稱暗黑鬥狼電競耳麥店家名稱資訊有限公司商品售價2,390 店家電話04-22216131\\n店家地址台灣省台中市中山路49巷11-2號商品描述商品資料表黑暗閃耀利爪流下眼淚全球首發電競耳機音效系統電競音效功能擴闊音場強化通話高頻恢復自動音量調整炫光呼吸燈金屬伸縮軟管全向式降噪麥克風快速音量控制透氣美容級蛋白質耳罩拍下發票指定金額以上耳機序號私訊粉絲團時尚鋁合金耳機架價值790送完為止贈品活動範圍以上原廠活動消費者經銷商特殊方案範圍官方粉絲團擁有決策權產品型號揚聲器直徑傳真釹磁40單體頻率範圍', 'score': 15.071395874023438}, {'fileName': '[折疊收納]懶人折疊桌.pdf', 'text': '商品名稱折疊收納懶人折疊店家名稱小舖商品售價95 店家電話提供店家地址提供商品描述商品資料表產品名稱懶人折疊產品顏色木紋展開尺寸50x30折疊尺寸50x30x5產品重量1290產品材質密度板鋼管塑料產品用途折疊桌組裝需求使用方法展開使用產品產地中國產品貨源原廠公司貨保存方法產品陰涼處存放產品內容懶人折疊', 'score': 15.097444534301758}, {'fileName': 'W202 人體工學椅.pdf', 'text': '商品名稱人體工學椅店家名稱旗艦店商品售價1,460店家電話提供店家地址提供商品描述商品資料表鐵管腳強化塑料框架結構穩實乘坐安全可靠椅背優選透氣網布韌性拉伸不易斯裂\\n高密度定型坐墊柔軟舒適久坐空間搬動瞬間收納空間體式折合桌椅輕便重量8KG收納移動簡單便利投保1000萬產品責任險安心使用保障實體店面購買保障規格材質網布泡棉塑料鋼管收合尺寸62100厚度25詳細尺寸手量尺寸2CM)\\n展開尺寸詳細尺寸手量尺寸2CM商品重量8KG組裝組裝圖片組裝成品', 'score': 15.229875564575195}, {'fileName': '羅技 Logitech H340 USB耳機麥克風.pdf', 'text': '商品名稱耳機麥克風店家名稱資訊有限公司商品售價945店家電話04-22216131店家地址台灣省台中市中山路49巷11-2號商品描述商品資料表耳機麥克風具有簡易連線功能完美工作耳機麥克風隔噪麥克風減少背景噪音通話提供清晰音訊隔噪麥克風右側麥克風調整位置獲得收音效果隔離背景雜音麥克風桿使用折入頭帶調整配備旋轉安裝式泡棉耳墊輕盈頭帶時間使用享有舒適音訊聆聽感受連線提供簡單操作接頭插入電腦開始進行交談聆聽音樂遊玩遊戲尺寸高度公釐寬度公釐深度公釐重量公斤連接線⾧度公尺技術規格麥克風類型輸入阻抗歐姆耳機靈', 'score': 15.61604118347168}]\n"
     ]
    }
   ],
   "source": [
    "# print(result['metadatas'][0][0]['fileName'])\n",
    "print(result)"
   ]
  },
  {
   "cell_type": "code",
   "execution_count": null,
   "metadata": {},
   "outputs": [],
   "source": []
  }
 ],
 "metadata": {
  "kernelspec": {
   "display_name": "Python 3",
   "language": "python",
   "name": "python3"
  },
  "language_info": {
   "codemirror_mode": {
    "name": "ipython",
    "version": 3
   },
   "file_extension": ".py",
   "mimetype": "text/x-python",
   "name": "python",
   "nbconvert_exporter": "python",
   "pygments_lexer": "ipython3",
   "version": "3.11.7"
  }
 },
 "nbformat": 4,
 "nbformat_minor": 2
}
