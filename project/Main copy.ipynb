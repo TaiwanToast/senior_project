{
 "cells": [
  {
   "cell_type": "code",
   "execution_count": 1,
   "metadata": {},
   "outputs": [
    {
     "name": "stderr",
     "output_type": "stream",
     "text": [
      "d:\\Python3\\Lib\\site-packages\\tqdm\\auto.py:21: TqdmWarning: IProgress not found. Please update jupyter and ipywidgets. See https://ipywidgets.readthedocs.io/en/stable/user_install.html\n",
      "  from .autonotebook import tqdm as notebook_tqdm\n"
     ]
    },
    {
     "name": "stdout",
     "output_type": "stream",
     "text": [
      "MyChromaAndTFIDF initialized\n"
     ]
    }
   ],
   "source": [
    "from tools.myChromaAndTFIDF_copy import MyChromaAndTFIDF\n",
    "\n",
    "chromaAndTFIDF = MyChromaAndTFIDF()"
   ]
  },
  {
   "cell_type": "code",
   "execution_count": 2,
   "metadata": {},
   "outputs": [],
   "source": [
    "# import os\n",
    "# path = '..\\\\product infomation'\n",
    "# files = [file for file in os.listdir(path) if file.endswith('.pdf')]\n",
    "\n",
    "# for file in files:\n",
    "#     chromaAndTFIDF.addPDF(os.path.join(path, file))"
   ]
  },
  {
   "cell_type": "code",
   "execution_count": 3,
   "metadata": {},
   "outputs": [],
   "source": [
    "# query = '推理小說'\n",
    "\n",
    "# chromaResult, tfidfResult, hybridResult = chromaAndTFIDF.search(query=query, hybridSearch=True)\n",
    "\n",
    "# print('chroma result:')\n",
    "# for i in chromaResult:\n",
    "#     print(i['file_name'] + ' / ' + str(i['score']))\n",
    "# print()\n",
    "\n",
    "# print('tfidf result:')\n",
    "# for i in tfidfResult:\n",
    "#     print(i['file_name'] + ' / ' + str(i['cosine_similarity']))\n",
    "# print()\n",
    "\n",
    "# print('hybrid result:')\n",
    "# for i in hybridResult:\n",
    "#     print(i[0] + ' / ' + str(i[1]))"
   ]
  },
  {
   "cell_type": "code",
   "execution_count": 4,
   "metadata": {},
   "outputs": [],
   "source": [
    "# query = '推理小說 300塊以內'\n",
    "\n",
    "# chromaResult, tfidfResult, hybridResult = chromaAndTFIDF.search(query=query, hybridSearch=True)\n",
    "\n",
    "# print('chroma result:')\n",
    "# for i in chromaResult:\n",
    "#     print(i['file_name'] + ' / ' + str(i['score']))\n",
    "# print()\n",
    "\n",
    "# print('tfidf result:')\n",
    "# for i in tfidfResult:\n",
    "#     print(i['file_name'] + ' / ' + str(i['cosine_similarity']))\n",
    "# print()\n",
    "\n",
    "# print('hybrid result:')\n",
    "# for i in hybridResult:\n",
    "#     print(i[0] + ' / ' + str(i[1]))"
   ]
  },
  {
   "cell_type": "code",
   "execution_count": 5,
   "metadata": {},
   "outputs": [],
   "source": [
    "json_path = 'D:\\.vscode\\專題\\json_data\\json_data'"
   ]
  },
  {
   "cell_type": "code",
   "execution_count": 6,
   "metadata": {},
   "outputs": [],
   "source": [
    "chromaAndTFIDF.addFile(json_path)"
   ]
  },
  {
   "cell_type": "code",
   "execution_count": 7,
   "metadata": {},
   "outputs": [],
   "source": [
    "query = 'Wi-Fi 6E Wi-Fi adapter'\n",
    "\n",
    "chromaAndTFIDF.search(query=query)"
   ]
  },
  {
   "cell_type": "code",
   "execution_count": null,
   "metadata": {},
   "outputs": [],
   "source": []
  }
 ],
 "metadata": {
  "kernelspec": {
   "display_name": "Python 3",
   "language": "python",
   "name": "python3"
  },
  "language_info": {
   "codemirror_mode": {
    "name": "ipython",
    "version": 3
   },
   "file_extension": ".py",
   "mimetype": "text/x-python",
   "name": "python",
   "nbconvert_exporter": "python",
   "pygments_lexer": "ipython3",
   "version": "3.11.7"
  }
 },
 "nbformat": 4,
 "nbformat_minor": 2
}
