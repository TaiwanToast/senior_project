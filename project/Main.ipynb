{
 "cells": [
  {
   "cell_type": "code",
   "execution_count": 1,
   "metadata": {},
   "outputs": [
    {
     "name": "stderr",
     "output_type": "stream",
     "text": [
      "d:\\Python3\\Lib\\site-packages\\tqdm\\auto.py:21: TqdmWarning: IProgress not found. Please update jupyter and ipywidgets. See https://ipywidgets.readthedocs.io/en/stable/user_install.html\n",
      "  from .autonotebook import tqdm as notebook_tqdm\n"
     ]
    }
   ],
   "source": [
    "from myChromaAndTFIDF import MyChromaAndTFIDF\n",
    "\n",
    "chromaAndTFIDF = MyChromaAndTFIDF()"
   ]
  },
  {
   "cell_type": "code",
   "execution_count": 2,
   "metadata": {},
   "outputs": [
    {
     "name": "stdout",
     "output_type": "stream",
     "text": [
      "Processing ..\\product infomation\\adidas RUNFALCON 3.0 跑鞋 慢跑鞋 運動鞋.pdf...\n"
     ]
    },
    {
     "name": "stderr",
     "output_type": "stream",
     "text": [
      "Tokenization: 100%|██████████| 1/1 [00:00<00:00, 1000.31it/s]\n",
      "Inference: 100%|██████████| 1/1 [00:00<00:00,  6.47it/s]\n",
      "Tokenization: 100%|██████████| 1/1 [00:00<?, ?it/s]\n",
      "Inference: 100%|██████████| 1/1 [00:00<00:00,  4.34it/s]\n"
     ]
    },
    {
     "name": "stdout",
     "output_type": "stream",
     "text": [
      "Added adidas RUNFALCON 3.0 跑鞋 慢跑鞋 運動鞋.pdf\n",
      "Processing ..\\product infomation\\DE-291-1 DE-293 工作桌.pdf...\n"
     ]
    },
    {
     "name": "stderr",
     "output_type": "stream",
     "text": [
      "Tokenization: 100%|██████████| 1/1 [00:00<00:00, 1036.91it/s]\n",
      "Inference: 100%|██████████| 1/1 [00:00<00:00, 19.39it/s]\n",
      "Tokenization: 100%|██████████| 1/1 [00:00<00:00, 995.33it/s]\n",
      "Inference: 100%|██████████| 1/1 [00:00<00:00,  4.49it/s]\n",
      "Add of existing embedding ID: DE-291-1 DE-293 工作桌.pdf_0\n",
      "Insert of existing embedding ID: DE-291-1 DE-293 工作桌.pdf_0\n",
      "Add of existing embedding ID: DE-291-1 DE-293 工作桌.pdf_1\n",
      "Insert of existing embedding ID: DE-291-1 DE-293 工作桌.pdf_1\n"
     ]
    },
    {
     "name": "stdout",
     "output_type": "stream",
     "text": [
      "Added DE-291-1 DE-293 工作桌.pdf\n",
      "Processing ..\\product infomation\\Razer 雷蛇 BlackShark V2 X 黑鯊 電競耳機 3.5mm.pdf...\n"
     ]
    },
    {
     "name": "stderr",
     "output_type": "stream",
     "text": [
      "Tokenization: 100%|██████████| 1/1 [00:00<00:00, 181.71it/s]\n",
      "Inference: 100%|██████████| 1/1 [00:00<00:00,  2.03it/s]\n",
      "Tokenization: 100%|██████████| 1/1 [00:00<00:00, 193.75it/s]\n",
      "Inference: 100%|██████████| 1/1 [00:03<00:00,  3.07s/it]\n",
      "Add of existing embedding ID: Razer 雷蛇 BlackShark V2 X 黑鯊 電競耳機 3.5mm.pdf_0\n",
      "Insert of existing embedding ID: Razer 雷蛇 BlackShark V2 X 黑鯊 電競耳機 3.5mm.pdf_0\n",
      "Add of existing embedding ID: Razer 雷蛇 BlackShark V2 X 黑鯊 電競耳機 3.5mm.pdf_1\n",
      "Insert of existing embedding ID: Razer 雷蛇 BlackShark V2 X 黑鯊 電競耳機 3.5mm.pdf_1\n",
      "Add of existing embedding ID: Razer 雷蛇 BlackShark V2 X 黑鯊 電競耳機 3.5mm.pdf_2\n",
      "Insert of existing embedding ID: Razer 雷蛇 BlackShark V2 X 黑鯊 電競耳機 3.5mm.pdf_2\n",
      "Add of existing embedding ID: Razer 雷蛇 BlackShark V2 X 黑鯊 電競耳機 3.5mm.pdf_3\n",
      "Insert of existing embedding ID: Razer 雷蛇 BlackShark V2 X 黑鯊 電競耳機 3.5mm.pdf_3\n",
      "Add of existing embedding ID: Razer 雷蛇 BlackShark V2 X 黑鯊 電競耳機 3.5mm.pdf_4\n",
      "Insert of existing embedding ID: Razer 雷蛇 BlackShark V2 X 黑鯊 電競耳機 3.5mm.pdf_4\n",
      "Add of existing embedding ID: Razer 雷蛇 BlackShark V2 X 黑鯊 電競耳機 3.5mm.pdf_5\n",
      "Insert of existing embedding ID: Razer 雷蛇 BlackShark V2 X 黑鯊 電競耳機 3.5mm.pdf_5\n",
      "Add of existing embedding ID: Razer 雷蛇 BlackShark V2 X 黑鯊 電競耳機 3.5mm.pdf_6\n",
      "Insert of existing embedding ID: Razer 雷蛇 BlackShark V2 X 黑鯊 電競耳機 3.5mm.pdf_6\n",
      "Add of existing embedding ID: Razer 雷蛇 BlackShark V2 X 黑鯊 電競耳機 3.5mm.pdf_7\n",
      "Insert of existing embedding ID: Razer 雷蛇 BlackShark V2 X 黑鯊 電競耳機 3.5mm.pdf_7\n",
      "Add of existing embedding ID: Razer 雷蛇 BlackShark V2 X 黑鯊 電競耳機 3.5mm.pdf_8\n",
      "Insert of existing embedding ID: Razer 雷蛇 BlackShark V2 X 黑鯊 電競耳機 3.5mm.pdf_8\n"
     ]
    },
    {
     "name": "stdout",
     "output_type": "stream",
     "text": [
      "Added Razer 雷蛇 BlackShark V2 X 黑鯊 電競耳機 3.5mm.pdf\n",
      "Processing ..\\product infomation\\SADES DIABLO 暗黑鬥狼RGB REALTEK 電競耳麥 7.1 (USB) SA-916.pdf...\n"
     ]
    },
    {
     "name": "stderr",
     "output_type": "stream",
     "text": [
      "Tokenization: 100%|██████████| 1/1 [00:00<00:00, 499.02it/s]\n",
      "Inference: 100%|██████████| 1/1 [00:00<00:00,  8.17it/s]\n",
      "Tokenization: 100%|██████████| 1/1 [00:00<00:00, 1037.42it/s]\n",
      "Inference: 100%|██████████| 1/1 [00:00<00:00,  1.99it/s]\n",
      "Add of existing embedding ID: SADES DIABLO 暗黑鬥狼RGB REALTEK 電競耳麥 7.1 (USB) SA-916.pdf_0\n",
      "Insert of existing embedding ID: SADES DIABLO 暗黑鬥狼RGB REALTEK 電競耳麥 7.1 (USB) SA-916.pdf_0\n",
      "Add of existing embedding ID: SADES DIABLO 暗黑鬥狼RGB REALTEK 電競耳麥 7.1 (USB) SA-916.pdf_1\n",
      "Insert of existing embedding ID: SADES DIABLO 暗黑鬥狼RGB REALTEK 電競耳麥 7.1 (USB) SA-916.pdf_1\n"
     ]
    },
    {
     "name": "stdout",
     "output_type": "stream",
     "text": [
      "Added SADES DIABLO 暗黑鬥狼RGB REALTEK 電競耳麥 7.1 (USB) SA-916.pdf\n",
      "Processing ..\\product infomation\\W202 人體工學椅.pdf...\n"
     ]
    },
    {
     "name": "stderr",
     "output_type": "stream",
     "text": [
      "Tokenization: 100%|██████████| 1/1 [00:00<?, ?it/s]\n",
      "Inference: 100%|██████████| 1/1 [00:00<00:00, 20.69it/s]\n",
      "Tokenization: 100%|██████████| 1/1 [00:00<?, ?it/s]\n",
      "Inference: 100%|██████████| 1/1 [00:00<00:00,  4.59it/s]\n",
      "Add of existing embedding ID: W202 人體工學椅.pdf_0\n",
      "Insert of existing embedding ID: W202 人體工學椅.pdf_0\n",
      "Add of existing embedding ID: W202 人體工學椅.pdf_1\n",
      "Insert of existing embedding ID: W202 人體工學椅.pdf_1\n"
     ]
    },
    {
     "name": "stdout",
     "output_type": "stream",
     "text": [
      "Added W202 人體工學椅.pdf\n",
      "Processing ..\\product infomation\\[折疊收納]懶人折疊桌.pdf...\n"
     ]
    },
    {
     "name": "stderr",
     "output_type": "stream",
     "text": [
      "Tokenization: 100%|██████████| 1/1 [00:00<00:00, 1000.07it/s]\n",
      "Inference: 100%|██████████| 1/1 [00:00<00:00, 32.32it/s]\n",
      "Tokenization: 100%|██████████| 1/1 [00:00<00:00, 963.54it/s]\n",
      "Inference: 100%|██████████| 1/1 [00:00<00:00,  8.65it/s]\n",
      "Add of existing embedding ID: [折疊收納]懶人折疊桌.pdf_0\n",
      "Insert of existing embedding ID: [折疊收納]懶人折疊桌.pdf_0\n"
     ]
    },
    {
     "name": "stdout",
     "output_type": "stream",
     "text": [
      "Added [折疊收納]懶人折疊桌.pdf\n",
      "Processing ..\\product infomation\\世界上最透明的故事（日本出版界話題作，只有紙本書可以體驗的感動）.pdf...\n"
     ]
    },
    {
     "name": "stderr",
     "output_type": "stream",
     "text": [
      "Tokenization: 100%|██████████| 1/1 [00:00<00:00, 231.76it/s]\n",
      "Inference: 100%|██████████| 1/1 [00:00<00:00,  1.31it/s]\n",
      "Tokenization: 100%|██████████| 1/1 [00:00<00:00, 219.42it/s]\n",
      "Inference: 100%|██████████| 1/1 [00:26<00:00, 26.35s/it]\n",
      "Add of existing embedding ID: 世界上最透明的故事（日本出版界話題作，只有紙本書可以體驗的感動）.pdf_0\n",
      "Insert of existing embedding ID: 世界上最透明的故事（日本出版界話題作，只有紙本書可以體驗的感動）.pdf_0\n",
      "Add of existing embedding ID: 世界上最透明的故事（日本出版界話題作，只有紙本書可以體驗的感動）.pdf_1\n",
      "Insert of existing embedding ID: 世界上最透明的故事（日本出版界話題作，只有紙本書可以體驗的感動）.pdf_1\n",
      "Add of existing embedding ID: 世界上最透明的故事（日本出版界話題作，只有紙本書可以體驗的感動）.pdf_2\n",
      "Insert of existing embedding ID: 世界上最透明的故事（日本出版界話題作，只有紙本書可以體驗的感動）.pdf_2\n",
      "Add of existing embedding ID: 世界上最透明的故事（日本出版界話題作，只有紙本書可以體驗的感動）.pdf_3\n",
      "Insert of existing embedding ID: 世界上最透明的故事（日本出版界話題作，只有紙本書可以體驗的感動）.pdf_3\n",
      "Add of existing embedding ID: 世界上最透明的故事（日本出版界話題作，只有紙本書可以體驗的感動）.pdf_4\n",
      "Insert of existing embedding ID: 世界上最透明的故事（日本出版界話題作，只有紙本書可以體驗的感動）.pdf_4\n",
      "Add of existing embedding ID: 世界上最透明的故事（日本出版界話題作，只有紙本書可以體驗的感動）.pdf_5\n",
      "Insert of existing embedding ID: 世界上最透明的故事（日本出版界話題作，只有紙本書可以體驗的感動）.pdf_5\n",
      "Add of existing embedding ID: 世界上最透明的故事（日本出版界話題作，只有紙本書可以體驗的感動）.pdf_6\n",
      "Insert of existing embedding ID: 世界上最透明的故事（日本出版界話題作，只有紙本書可以體驗的感動）.pdf_6\n",
      "Add of existing embedding ID: 世界上最透明的故事（日本出版界話題作，只有紙本書可以體驗的感動）.pdf_7\n",
      "Insert of existing embedding ID: 世界上最透明的故事（日本出版界話題作，只有紙本書可以體驗的感動）.pdf_7\n",
      "Add of existing embedding ID: 世界上最透明的故事（日本出版界話題作，只有紙本書可以體驗的感動）.pdf_8\n",
      "Insert of existing embedding ID: 世界上最透明的故事（日本出版界話題作，只有紙本書可以體驗的感動）.pdf_8\n",
      "Add of existing embedding ID: 世界上最透明的故事（日本出版界話題作，只有紙本書可以體驗的感動）.pdf_9\n",
      "Insert of existing embedding ID: 世界上最透明的故事（日本出版界話題作，只有紙本書可以體驗的感動）.pdf_9\n",
      "Add of existing embedding ID: 世界上最透明的故事（日本出版界話題作，只有紙本書可以體驗的感動）.pdf_10\n",
      "Insert of existing embedding ID: 世界上最透明的故事（日本出版界話題作，只有紙本書可以體驗的感動）.pdf_10\n",
      "Add of existing embedding ID: 世界上最透明的故事（日本出版界話題作，只有紙本書可以體驗的感動）.pdf_11\n",
      "Insert of existing embedding ID: 世界上最透明的故事（日本出版界話題作，只有紙本書可以體驗的感動）.pdf_11\n"
     ]
    },
    {
     "name": "stdout",
     "output_type": "stream",
     "text": [
      "Added 世界上最透明的故事（日本出版界話題作，只有紙本書可以體驗的感動）.pdf\n",
      "Processing ..\\product infomation\\羅技 Logitech H340 USB耳機麥克風.pdf...\n"
     ]
    },
    {
     "name": "stderr",
     "output_type": "stream",
     "text": [
      "Tokenization: 100%|██████████| 1/1 [00:00<00:00, 992.26it/s]\n",
      "Inference: 100%|██████████| 1/1 [00:00<00:00,  8.08it/s]\n",
      "Tokenization: 100%|██████████| 1/1 [00:00<00:00, 966.65it/s]\n",
      "Inference: 100%|██████████| 1/1 [00:00<00:00,  1.60it/s]\n",
      "Add of existing embedding ID: 羅技 Logitech H340 USB耳機麥克風.pdf_0\n",
      "Insert of existing embedding ID: 羅技 Logitech H340 USB耳機麥克風.pdf_0\n",
      "Add of existing embedding ID: 羅技 Logitech H340 USB耳機麥克風.pdf_1\n",
      "Insert of existing embedding ID: 羅技 Logitech H340 USB耳機麥克風.pdf_1\n"
     ]
    },
    {
     "name": "stdout",
     "output_type": "stream",
     "text": [
      "Added 羅技 Logitech H340 USB耳機麥克風.pdf\n"
     ]
    }
   ],
   "source": [
    "import os\n",
    "path = '..\\\\product infomation'\n",
    "files = [file for file in os.listdir(path) if file.endswith('.pdf')]\n",
    "\n",
    "for file in files:\n",
    "    chromaAndTFIDF.addPDF(os.path.join(path, file))"
   ]
  },
  {
   "cell_type": "code",
   "execution_count": 3,
   "metadata": {},
   "outputs": [
    {
     "name": "stderr",
     "output_type": "stream",
     "text": [
      "Tokenization: 100%|██████████| 1/1 [00:00<?, ?it/s]\n",
      "Inference: 100%|██████████| 1/1 [00:00<00:00, 70.22it/s]\n",
      "Tokenization: 100%|██████████| 1/1 [00:00<00:00, 1000.55it/s]\n",
      "Inference: 100%|██████████| 1/1 [00:00<00:00, 76.27it/s]"
     ]
    },
    {
     "name": "stdout",
     "output_type": "stream",
     "text": [
      "chroma result:\n",
      "世界上最透明的故事（日本出版界話題作，只有紙本書可以體驗的感動）.pdf / 0.14689918109712044\n",
      "Razer 雷蛇 BlackShark V2 X 黑鯊 電競耳機 3.5mm.pdf / 0.07546264405259918\n",
      "DE-291-1 DE-293 工作桌.pdf / 0.07183448398840939\n",
      "SADES DIABLO 暗黑鬥狼RGB REALTEK 電競耳麥 7.1 (USB) SA-916.pdf / 0.06696068447674584\n",
      "[折疊收納]懶人折疊桌.pdf / 0.06334593949736794\n",
      "W202 人體工學椅.pdf / 0.06050530943644959\n",
      "羅技 Logitech H340 USB耳機麥克風.pdf / 0.05906767551573473\n",
      "adidas RUNFALCON 3.0 跑鞋 慢跑鞋 運動鞋.pdf / 0.05903285385112399\n",
      "\n",
      "tfidf result:\n",
      "世界上最透明的故事（日本出版界話題作，只有紙本書可以體驗的感動）.pdf / 0.4423933005411319\n",
      "adidas RUNFALCON 3.0 跑鞋 慢跑鞋 運動鞋.pdf / 0.0\n",
      "羅技 Logitech H340 USB耳機麥克風.pdf / 0.0\n",
      "[折疊收納]懶人折疊桌.pdf / 0.0\n",
      "W202 人體工學椅.pdf / 0.0\n",
      "SADES DIABLO 暗黑鬥狼RGB REALTEK 電競耳麥 7.1 (USB) SA-916.pdf / 0.0\n",
      "Razer 雷蛇 BlackShark V2 X 黑鯊 電競耳機 3.5mm.pdf / 0.0\n",
      "DE-291-1 DE-293 工作桌.pdf / 0.0\n",
      "\n",
      "hybrid result:\n",
      "世界上最透明的故事（日本出版界話題作，只有紙本書可以體驗的感動）.pdf / 0.3241956527635273\n",
      "Razer 雷蛇 BlackShark V2 X 黑鯊 電競耳機 3.5mm.pdf / 0.030185057621039676\n",
      "DE-291-1 DE-293 工作桌.pdf / 0.028733793595363755\n",
      "SADES DIABLO 暗黑鬥狼RGB REALTEK 電競耳麥 7.1 (USB) SA-916.pdf / 0.026784273790698337\n",
      "[折疊收納]懶人折疊桌.pdf / 0.02533837579894718\n",
      "W202 人體工學椅.pdf / 0.024202123774579837\n",
      "羅技 Logitech H340 USB耳機麥克風.pdf / 0.023627070206293895\n",
      "adidas RUNFALCON 3.0 跑鞋 慢跑鞋 運動鞋.pdf / 0.023613141540449595\n"
     ]
    },
    {
     "name": "stderr",
     "output_type": "stream",
     "text": [
      "\n"
     ]
    }
   ],
   "source": [
    "query = '推理小說'\n",
    "\n",
    "chromaResult, tfidfResult, hybridResult = chromaAndTFIDF.search(query=query, hybridSearch=True)\n",
    "\n",
    "print('chroma result:')\n",
    "for i in chromaResult:\n",
    "    print(i['file_name'] + ' / ' + str(i['score']))\n",
    "print()\n",
    "\n",
    "print('tfidf result:')\n",
    "for i in tfidfResult:\n",
    "    print(i['file_name'] + ' / ' + str(i['cosine_similarity']))\n",
    "print()\n",
    "\n",
    "print('hybrid result:')\n",
    "for i in hybridResult:\n",
    "    print(i[0] + ' / ' + str(i[1]))"
   ]
  },
  {
   "cell_type": "code",
   "execution_count": 4,
   "metadata": {},
   "outputs": [
    {
     "name": "stderr",
     "output_type": "stream",
     "text": [
      "Tokenization: 100%|██████████| 1/1 [00:00<?, ?it/s]\n",
      "Inference: 100%|██████████| 1/1 [00:00<00:00, 59.59it/s]\n",
      "Tokenization: 100%|██████████| 1/1 [00:00<?, ?it/s]\n",
      "Inference: 100%|██████████| 1/1 [00:00<00:00, 90.18it/s]\n"
     ]
    },
    {
     "name": "stdout",
     "output_type": "stream",
     "text": [
      "chroma result:\n",
      "世界上最透明的故事（日本出版界話題作，只有紙本書可以體驗的感動）.pdf / 0.18698485412484328\n",
      "Razer 雷蛇 BlackShark V2 X 黑鯊 電競耳機 3.5mm.pdf / 0.08042851005172402\n",
      "DE-291-1 DE-293 工作桌.pdf / 0.07090064900882746\n",
      "SADES DIABLO 暗黑鬥狼RGB REALTEK 電競耳麥 7.1 (USB) SA-916.pdf / 0.06742803839280079\n",
      "[折疊收納]懶人折疊桌.pdf / 0.06527378722084114\n",
      "羅技 Logitech H340 USB耳機麥克風.pdf / 0.06279367732144292\n",
      "W202 人體工學椅.pdf / 0.06251939241675061\n",
      "adidas RUNFALCON 3.0 跑鞋 慢跑鞋 運動鞋.pdf / 0.060846109164126846\n",
      "\n",
      "tfidf result:\n",
      "世界上最透明的故事（日本出版界話題作，只有紙本書可以體驗的感動）.pdf / 0.4423933005411319\n",
      "adidas RUNFALCON 3.0 跑鞋 慢跑鞋 運動鞋.pdf / 0.0\n",
      "羅技 Logitech H340 USB耳機麥克風.pdf / 0.0\n",
      "[折疊收納]懶人折疊桌.pdf / 0.0\n",
      "W202 人體工學椅.pdf / 0.0\n",
      "SADES DIABLO 暗黑鬥狼RGB REALTEK 電競耳麥 7.1 (USB) SA-916.pdf / 0.0\n",
      "Razer 雷蛇 BlackShark V2 X 黑鯊 電競耳機 3.5mm.pdf / 0.0\n",
      "DE-291-1 DE-293 工作桌.pdf / 0.0\n",
      "\n",
      "hybrid result:\n",
      "世界上最透明的故事（日本出版界話題作，只有紙本書可以體驗的感動）.pdf / 0.34022992197461643\n",
      "Razer 雷蛇 BlackShark V2 X 黑鯊 電競耳機 3.5mm.pdf / 0.03217140402068961\n",
      "DE-291-1 DE-293 工作桌.pdf / 0.028360259603530988\n",
      "SADES DIABLO 暗黑鬥狼RGB REALTEK 電競耳麥 7.1 (USB) SA-916.pdf / 0.026971215357120316\n",
      "[折疊收納]懶人折疊桌.pdf / 0.026109514888336457\n",
      "羅技 Logitech H340 USB耳機麥克風.pdf / 0.02511747092857717\n",
      "W202 人體工學椅.pdf / 0.025007756966700247\n",
      "adidas RUNFALCON 3.0 跑鞋 慢跑鞋 運動鞋.pdf / 0.02433844366565074\n"
     ]
    }
   ],
   "source": [
    "query = '推理小說 300塊以內'\n",
    "\n",
    "chromaResult, tfidfResult, hybridResult = chromaAndTFIDF.search(query=query, hybridSearch=True)\n",
    "\n",
    "print('chroma result:')\n",
    "for i in chromaResult:\n",
    "    print(i['file_name'] + ' / ' + str(i['score']))\n",
    "print()\n",
    "\n",
    "print('tfidf result:')\n",
    "for i in tfidfResult:\n",
    "    print(i['file_name'] + ' / ' + str(i['cosine_similarity']))\n",
    "print()\n",
    "\n",
    "print('hybrid result:')\n",
    "for i in hybridResult:\n",
    "    print(i[0] + ' / ' + str(i[1]))"
   ]
  },
  {
   "cell_type": "code",
   "execution_count": 7,
   "metadata": {},
   "outputs": [
    {
     "name": "stderr",
     "output_type": "stream",
     "text": [
      "Tokenization: 100%|██████████| 1/1 [00:00<?, ?it/s]\n",
      "Inference: 100%|██████████| 1/1 [00:00<00:00, 17.95it/s]\n",
      "Tokenization: 100%|██████████| 1/1 [00:00<?, ?it/s]\n",
      "Inference: 100%|██████████| 1/1 [00:00<00:00, 13.13it/s]\n"
     ]
    },
    {
     "name": "stdout",
     "output_type": "stream",
     "text": [
      "chroma result:\n",
      "adidas RUNFALCON 3.0 跑鞋 慢跑鞋 運動鞋.pdf / 0.14189042473724514\n",
      "W202 人體工學椅.pdf / 0.07048206608379641\n",
      "[折疊收納]懶人折疊桌.pdf / 0.07043558414736033\n",
      "DE-291-1 DE-293 工作桌.pdf / 0.0661661202042616\n",
      "Razer 雷蛇 BlackShark V2 X 黑鯊 電競耳機 3.5mm.pdf / 0.06538757821846387\n",
      "SADES DIABLO 暗黑鬥狼RGB REALTEK 電競耳麥 7.1 (USB) SA-916.pdf / 0.06144398923287889\n",
      "羅技 Logitech H340 USB耳機麥克風.pdf / 0.054369358103547226\n",
      "世界上最透明的故事（日本出版界話題作，只有紙本書可以體驗的感動）.pdf / 0.05298911756661198\n",
      "\n",
      "tfidf result:\n",
      "adidas RUNFALCON 3.0 跑鞋 慢跑鞋 運動鞋.pdf / 0.11078979036350566\n",
      "羅技 Logitech H340 USB耳機麥克風.pdf / 0.0\n",
      "世界上最透明的故事（日本出版界話題作，只有紙本書可以體驗的感動）.pdf / 0.0\n",
      "[折疊收納]懶人折疊桌.pdf / 0.0\n",
      "W202 人體工學椅.pdf / 0.0\n",
      "SADES DIABLO 暗黑鬥狼RGB REALTEK 電競耳麥 7.1 (USB) SA-916.pdf / 0.0\n",
      "Razer 雷蛇 BlackShark V2 X 黑鯊 電競耳機 3.5mm.pdf / 0.0\n",
      "DE-291-1 DE-293 工作桌.pdf / 0.0\n",
      "\n",
      "hybrid result:\n",
      "adidas RUNFALCON 3.0 跑鞋 慢跑鞋 運動鞋.pdf / 0.12323004411300145\n",
      "W202 人體工學椅.pdf / 0.028192826433518565\n",
      "[折疊收納]懶人折疊桌.pdf / 0.028174233658944132\n",
      "DE-291-1 DE-293 工作桌.pdf / 0.026466448081704643\n",
      "Razer 雷蛇 BlackShark V2 X 黑鯊 電競耳機 3.5mm.pdf / 0.02615503128738555\n",
      "SADES DIABLO 暗黑鬥狼RGB REALTEK 電競耳麥 7.1 (USB) SA-916.pdf / 0.024577595693151558\n",
      "羅技 Logitech H340 USB耳機麥克風.pdf / 0.021747743241418892\n",
      "世界上最透明的故事（日本出版界話題作，只有紙本書可以體驗的感動）.pdf / 0.021195647026644795\n"
     ]
    }
   ],
   "source": [
    "query = '慢跑鞋 1500塊以內'\n",
    "\n",
    "chromaResult, tfidfResult, hybridResult = chromaAndTFIDF.search(query=query, hybridSearch=True)\n",
    "\n",
    "print('chroma result:')\n",
    "for i in chromaResult:\n",
    "    print(i['file_name'] + ' / ' + str(i['score']))\n",
    "print()\n",
    "\n",
    "print('tfidf result:')\n",
    "for i in tfidfResult:\n",
    "    print(i['file_name'] + ' / ' + str(i['cosine_similarity']))\n",
    "print()\n",
    "\n",
    "print('hybrid result:')\n",
    "for i in hybridResult:\n",
    "    print(i[0] + ' / ' + str(i[1]))"
   ]
  },
  {
   "cell_type": "code",
   "execution_count": null,
   "metadata": {},
   "outputs": [],
   "source": []
  }
 ],
 "metadata": {
  "kernelspec": {
   "display_name": "Python 3",
   "language": "python",
   "name": "python3"
  },
  "language_info": {
   "codemirror_mode": {
    "name": "ipython",
    "version": 3
   },
   "file_extension": ".py",
   "mimetype": "text/x-python",
   "name": "python",
   "nbconvert_exporter": "python",
   "pygments_lexer": "ipython3",
   "version": "3.11.7"
  }
 },
 "nbformat": 4,
 "nbformat_minor": 2
}
