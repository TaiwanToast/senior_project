{
 "cells": [
  {
   "cell_type": "code",
   "execution_count": 1,
   "metadata": {},
   "outputs": [
    {
     "name": "stderr",
     "output_type": "stream",
     "text": [
      "d:\\Python3\\Lib\\site-packages\\tqdm\\auto.py:21: TqdmWarning: IProgress not found. Please update jupyter and ipywidgets. See https://ipywidgets.readthedocs.io/en/stable/user_install.html\n",
      "  from .autonotebook import tqdm as notebook_tqdm\n"
     ]
    }
   ],
   "source": [
    "from myChromaAndTFIDF2 import MyChromaAndTFIDF\n",
    "\n",
    "chromaAndTFIDF = MyChromaAndTFIDF()"
   ]
  },
  {
   "cell_type": "code",
   "execution_count": 2,
   "metadata": {},
   "outputs": [
    {
     "name": "stdout",
     "output_type": "stream",
     "text": [
      "Processing ..\\product infomation\\DE-291-1 DE-293 工作桌.pdf...\n"
     ]
    },
    {
     "name": "stderr",
     "output_type": "stream",
     "text": [
      "Tokenization: 100%|██████████| 1/1 [00:00<00:00, 998.64it/s]\n",
      "Inference: 100%|██████████| 1/1 [00:00<00:00,  5.76it/s]\n",
      "Tokenization: 100%|██████████| 1/1 [00:00<?, ?it/s]\n",
      "Inference: 100%|██████████| 1/1 [00:00<00:00,  4.34it/s]\n",
      "Add of existing embedding ID: DE-291-1 DE-293 工作桌.pdf_0\n",
      "Insert of existing embedding ID: DE-291-1 DE-293 工作桌.pdf_0\n",
      "Add of existing embedding ID: DE-291-1 DE-293 工作桌.pdf_1\n",
      "Insert of existing embedding ID: DE-291-1 DE-293 工作桌.pdf_1\n"
     ]
    },
    {
     "name": "stdout",
     "output_type": "stream",
     "text": [
      "Added DE-291-1 DE-293 工作桌.pdf\n",
      "Processing ..\\product infomation\\SADES DIABLO 暗黑鬥狼RGB REALTEK 電競耳麥 7.1 (USB) SA-916.pdf...\n"
     ]
    },
    {
     "name": "stderr",
     "output_type": "stream",
     "text": [
      "Tokenization: 100%|██████████| 1/1 [00:00<00:00, 998.64it/s]\n",
      "Inference: 100%|██████████| 1/1 [00:00<00:00,  8.19it/s]\n",
      "Tokenization: 100%|██████████| 1/1 [00:00<00:00, 495.37it/s]\n",
      "Inference: 100%|██████████| 1/1 [00:00<00:00,  2.11it/s]\n",
      "Add of existing embedding ID: SADES DIABLO 暗黑鬥狼RGB REALTEK 電競耳麥 7.1 (USB) SA-916.pdf_0\n",
      "Insert of existing embedding ID: SADES DIABLO 暗黑鬥狼RGB REALTEK 電競耳麥 7.1 (USB) SA-916.pdf_0\n",
      "Add of existing embedding ID: SADES DIABLO 暗黑鬥狼RGB REALTEK 電競耳麥 7.1 (USB) SA-916.pdf_1\n",
      "Insert of existing embedding ID: SADES DIABLO 暗黑鬥狼RGB REALTEK 電競耳麥 7.1 (USB) SA-916.pdf_1\n"
     ]
    },
    {
     "name": "stdout",
     "output_type": "stream",
     "text": [
      "Added SADES DIABLO 暗黑鬥狼RGB REALTEK 電競耳麥 7.1 (USB) SA-916.pdf\n",
      "Processing ..\\product infomation\\W202 人體工學椅.pdf...\n"
     ]
    },
    {
     "name": "stderr",
     "output_type": "stream",
     "text": [
      "Tokenization: 100%|██████████| 1/1 [00:00<00:00, 998.17it/s]\n",
      "Inference: 100%|██████████| 1/1 [00:00<00:00, 20.16it/s]\n",
      "Tokenization: 100%|██████████| 1/1 [00:00<00:00, 664.50it/s]\n",
      "Inference: 100%|██████████| 1/1 [00:00<00:00,  4.51it/s]\n",
      "Add of existing embedding ID: W202 人體工學椅.pdf_0\n",
      "Insert of existing embedding ID: W202 人體工學椅.pdf_0\n",
      "Add of existing embedding ID: W202 人體工學椅.pdf_1\n",
      "Insert of existing embedding ID: W202 人體工學椅.pdf_1\n"
     ]
    },
    {
     "name": "stdout",
     "output_type": "stream",
     "text": [
      "Added W202 人體工學椅.pdf\n",
      "Processing ..\\product infomation\\[折疊收納]懶人折疊桌.pdf...\n"
     ]
    },
    {
     "name": "stderr",
     "output_type": "stream",
     "text": [
      "Tokenization: 100%|██████████| 1/1 [00:00<?, ?it/s]\n",
      "Inference: 100%|██████████| 1/1 [00:00<00:00, 32.07it/s]\n",
      "Tokenization: 100%|██████████| 1/1 [00:00<?, ?it/s]\n",
      "Inference: 100%|██████████| 1/1 [00:00<00:00,  8.64it/s]\n",
      "Add of existing embedding ID: [折疊收納]懶人折疊桌.pdf_0\n",
      "Insert of existing embedding ID: [折疊收納]懶人折疊桌.pdf_0\n"
     ]
    },
    {
     "name": "stdout",
     "output_type": "stream",
     "text": [
      "Added [折疊收納]懶人折疊桌.pdf\n",
      "Processing ..\\product infomation\\世界上最透明的故事（日本出版界話題作，只有紙本書可以體驗的感動）.pdf...\n"
     ]
    },
    {
     "name": "stderr",
     "output_type": "stream",
     "text": [
      "Tokenization: 100%|██████████| 1/1 [00:00<00:00, 153.52it/s]\n",
      "Inference: 100%|██████████| 1/1 [00:00<00:00,  1.31it/s]\n",
      "Tokenization: 100%|██████████| 1/1 [00:00<00:00, 250.29it/s]\n",
      "Inference: 100%|██████████| 1/1 [00:20<00:00, 20.70s/it]\n"
     ]
    },
    {
     "name": "stdout",
     "output_type": "stream",
     "text": [
      "Added 世界上最透明的故事（日本出版界話題作，只有紙本書可以體驗的感動）.pdf\n",
      "Processing ..\\product infomation\\羅技 Logitech H340 USB耳機麥克風.pdf...\n"
     ]
    },
    {
     "name": "stderr",
     "output_type": "stream",
     "text": [
      "Tokenization: 100%|██████████| 1/1 [00:00<00:00, 488.45it/s]\n",
      "Inference: 100%|██████████| 1/1 [00:00<00:00,  8.18it/s]\n",
      "Tokenization: 100%|██████████| 1/1 [00:00<00:00, 1036.91it/s]\n",
      "Inference: 100%|██████████| 1/1 [00:00<00:00,  1.55it/s]\n",
      "Add of existing embedding ID: 羅技 Logitech H340 USB耳機麥克風.pdf_0\n",
      "Insert of existing embedding ID: 羅技 Logitech H340 USB耳機麥克風.pdf_0\n",
      "Add of existing embedding ID: 羅技 Logitech H340 USB耳機麥克風.pdf_1\n",
      "Insert of existing embedding ID: 羅技 Logitech H340 USB耳機麥克風.pdf_1\n"
     ]
    },
    {
     "name": "stdout",
     "output_type": "stream",
     "text": [
      "Added 羅技 Logitech H340 USB耳機麥克風.pdf\n"
     ]
    }
   ],
   "source": [
    "import os\n",
    "path = '..\\\\product infomation'\n",
    "files = [file for file in os.listdir(path) if file.endswith('.pdf')]\n",
    "\n",
    "for file in files:\n",
    "    chromaAndTFIDF.addPDF(os.path.join(path, file))"
   ]
  },
  {
   "cell_type": "code",
   "execution_count": 3,
   "metadata": {},
   "outputs": [
    {
     "name": "stderr",
     "output_type": "stream",
     "text": [
      "Tokenization: 100%|██████████| 1/1 [00:00<?, ?it/s]\n",
      "Inference: 100%|██████████| 1/1 [00:00<00:00, 64.46it/s]\n",
      "Tokenization: 100%|██████████| 1/1 [00:00<?, ?it/s]\n",
      "Inference: 100%|██████████| 1/1 [00:00<00:00, 86.13it/s]"
     ]
    },
    {
     "name": "stdout",
     "output_type": "stream",
     "text": [
      "tokenized query:  推理 小說\n",
      "chroma result:\n",
      "世界上最透明的故事（日本出版界話題作，只有紙本書可以體驗的感動）.pdf / 0.14689918109712044\n",
      "DE-291-1 DE-293 工作桌.pdf / 0.07183448398840939\n",
      "SADES DIABLO 暗黑鬥狼RGB REALTEK 電競耳麥 7.1 (USB) SA-916.pdf / 0.06785434930668828\n",
      "[折疊收納]懶人折疊桌.pdf / 0.06334593949736794\n",
      "W202 人體工學椅.pdf / 0.06050530943644959\n",
      "羅技 Logitech H340 USB耳機麥克風.pdf / 0.060396035834790814\n",
      "\n",
      "tfidf result:\n",
      "世界上最透明的故事（日本出版界話題作，只有紙本書可以體驗的感動）.pdf / 0.44134082769879823\n",
      "羅技 Logitech H340 USB耳機麥克風.pdf / 0.0\n",
      "[折疊收納]懶人折疊桌.pdf / 0.0\n",
      "W202 人體工學椅.pdf / 0.0\n",
      "SADES DIABLO 暗黑鬥狼RGB REALTEK 電競耳麥 7.1 (USB) SA-916.pdf / 0.0\n",
      "DE-291-1 DE-293 工作桌.pdf / 0.0\n",
      "\n",
      "hybrid result:\n",
      "世界上最透明的故事（日本出版界話題作，只有紙本書可以體驗的感動）.pdf / 0.32356416905812707\n",
      "DE-291-1 DE-293 工作桌.pdf / 0.028733793595363755\n",
      "SADES DIABLO 暗黑鬥狼RGB REALTEK 電競耳麥 7.1 (USB) SA-916.pdf / 0.027141739722675313\n",
      "[折疊收納]懶人折疊桌.pdf / 0.02533837579894718\n",
      "W202 人體工學椅.pdf / 0.024202123774579837\n",
      "羅技 Logitech H340 USB耳機麥克風.pdf / 0.024158414333916328\n"
     ]
    },
    {
     "name": "stderr",
     "output_type": "stream",
     "text": [
      "\n"
     ]
    }
   ],
   "source": [
    "query = '推理小說'\n",
    "\n",
    "chromaResult, tfidfResult, hybridResult = chromaAndTFIDF.search(query=query, hybridSearch=True)\n",
    "\n",
    "print('chroma result:')\n",
    "for i in chromaResult:\n",
    "    print(i['file_name'] + ' / ' + str(i['score']))\n",
    "print()\n",
    "\n",
    "print('tfidf result:')\n",
    "for i in tfidfResult:\n",
    "    print(i['file_name'] + ' / ' + str(i['cosine_similarity']))\n",
    "print()\n",
    "\n",
    "print('hybrid result:')\n",
    "for i in hybridResult:\n",
    "    print(i[0] + ' / ' + str(i[1]))"
   ]
  },
  {
   "cell_type": "code",
   "execution_count": 4,
   "metadata": {},
   "outputs": [
    {
     "name": "stdout",
     "output_type": "stream",
     "text": [
      "Deleted 世界上最透明的故事（日本出版界話題作，只有紙本書可以體驗的感動）.pdf\n"
     ]
    }
   ],
   "source": [
    "chromaAndTFIDF.delPDF('世界上最透明的故事（日本出版界話題作，只有紙本書可以體驗的感動）.pdf')"
   ]
  },
  {
   "cell_type": "code",
   "execution_count": 5,
   "metadata": {},
   "outputs": [
    {
     "name": "stderr",
     "output_type": "stream",
     "text": [
      "Tokenization: 100%|██████████| 1/1 [00:00<00:00, 998.88it/s]\n",
      "Inference: 100%|██████████| 1/1 [00:00<00:00, 22.39it/s]\n",
      "Tokenization: 100%|██████████| 1/1 [00:00<?, ?it/s]\n",
      "Inference: 100%|██████████| 1/1 [00:00<00:00, 22.22it/s]"
     ]
    },
    {
     "name": "stdout",
     "output_type": "stream",
     "text": [
      "tokenized query:  推理 小說\n",
      "chroma result:\n",
      "DE-291-1 DE-293 工作桌.pdf / 0.07183448398840939\n",
      "SADES DIABLO 暗黑鬥狼RGB REALTEK 電競耳麥 7.1 (USB) SA-916.pdf / 0.06785434930668828\n",
      "[折疊收納]懶人折疊桌.pdf / 0.06334593949736794\n",
      "W202 人體工學椅.pdf / 0.06050530943644959\n",
      "羅技 Logitech H340 USB耳機麥克風.pdf / 0.060396035834790814\n",
      "\n",
      "tfidf result:\n",
      "羅技 Logitech H340 USB耳機麥克風.pdf / 0.0\n",
      "[折疊收納]懶人折疊桌.pdf / 0.0\n",
      "W202 人體工學椅.pdf / 0.0\n",
      "SADES DIABLO 暗黑鬥狼RGB REALTEK 電競耳麥 7.1 (USB) SA-916.pdf / 0.0\n",
      "DE-291-1 DE-293 工作桌.pdf / 0.0\n",
      "\n",
      "hybrid result:\n",
      "DE-291-1 DE-293 工作桌.pdf / 0.028733793595363755\n",
      "SADES DIABLO 暗黑鬥狼RGB REALTEK 電競耳麥 7.1 (USB) SA-916.pdf / 0.027141739722675313\n",
      "[折疊收納]懶人折疊桌.pdf / 0.02533837579894718\n",
      "W202 人體工學椅.pdf / 0.024202123774579837\n",
      "羅技 Logitech H340 USB耳機麥克風.pdf / 0.024158414333916328\n"
     ]
    },
    {
     "name": "stderr",
     "output_type": "stream",
     "text": [
      "\n"
     ]
    }
   ],
   "source": [
    "query = '推理小說'\n",
    "\n",
    "chromaResult, tfidfResult, hybridResult = chromaAndTFIDF.search(query=query, hybridSearch=True)\n",
    "\n",
    "print('chroma result:')\n",
    "for i in chromaResult:\n",
    "    print(i['file_name'] + ' / ' + str(i['score']))\n",
    "print()\n",
    "\n",
    "print('tfidf result:')\n",
    "for i in tfidfResult:\n",
    "    print(i['file_name'] + ' / ' + str(i['cosine_similarity']))\n",
    "print()\n",
    "\n",
    "print('hybrid result:')\n",
    "for i in hybridResult:\n",
    "    print(i[0] + ' / ' + str(i[1]))"
   ]
  },
  {
   "cell_type": "code",
   "execution_count": null,
   "metadata": {},
   "outputs": [],
   "source": []
  }
 ],
 "metadata": {
  "kernelspec": {
   "display_name": "Python 3",
   "language": "python",
   "name": "python3"
  },
  "language_info": {
   "codemirror_mode": {
    "name": "ipython",
    "version": 3
   },
   "file_extension": ".py",
   "mimetype": "text/x-python",
   "name": "python",
   "nbconvert_exporter": "python",
   "pygments_lexer": "ipython3",
   "version": "3.11.7"
  }
 },
 "nbformat": 4,
 "nbformat_minor": 2
}
