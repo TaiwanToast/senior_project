{
 "cells": [
  {
   "cell_type": "code",
   "execution_count": 1,
   "metadata": {},
   "outputs": [
    {
     "name": "stderr",
     "output_type": "stream",
     "text": [
      "d:\\Python3\\Lib\\site-packages\\tqdm\\auto.py:21: TqdmWarning: IProgress not found. Please update jupyter and ipywidgets. See https://ipywidgets.readthedocs.io/en/stable/user_install.html\n",
      "  from .autonotebook import tqdm as notebook_tqdm\n"
     ]
    }
   ],
   "source": [
    "import os\n",
    "import pypdf\n",
    "import chromadb\n",
    "from chromadb.config import Settings\n",
    "from ckip_transformers.nlp import CkipWordSegmenter\n",
    "from sentence_transformers import SentenceTransformer\n",
    "\n",
    "# 初始化 ChromaDB\n",
    "client = chromadb.PersistentClient(path=\"./chroma_db\", settings=Settings(allow_reset=True))\n",
    "collection = client.get_or_create_collection(name=\"pdf_documents\")\n",
    "\n",
    "# 初始化 CKIP 分詞器與向量模型\n",
    "ws_driver = CkipWordSegmenter(device=0)\n",
    "embedding_model = SentenceTransformer('sentence-transformers/paraphrase-multilingual-MiniLM-L12-v2')\n",
    "\n",
    "# 📄 讀取 PDF 內容\n",
    "def extract_text(pdf_path):\n",
    "    text = \"\"\n",
    "    with open(pdf_path, 'rb') as file:\n",
    "        reader = pypdf.PdfReader(file)\n",
    "        for page in reader.pages:\n",
    "            text += page.extract_text() or \"\"\n",
    "    return text\n",
    "\n",
    "# ✂️ 使用 CKIP 分詞\n",
    "def ckip_tokenize(text):\n",
    "    ws = ws_driver([text])[0]\n",
    "    return \" \".join(ws)\n",
    "\n",
    "# 🔖 將文本分成 Chunk\n",
    "def split_into_chunks(text, chunk_size=300):\n",
    "    return [text[i:i+chunk_size] for i in range(0, len(text), chunk_size)]\n",
    "\n",
    "# ➕ 新增 PDF 到 ChromaDB\n",
    "def add_pdf_to_chroma(file_path):\n",
    "    file_name = os.path.basename(file_path)\n",
    "    text = extract_text(file_path)\n",
    "    \n",
    "    # 1️⃣ CKIP 分詞\n",
    "    tokenized_text = ckip_tokenize(text)\n",
    "    \n",
    "    # 2️⃣ Chunk 分段\n",
    "    chunks = split_into_chunks(tokenized_text, chunk_size=500)\n",
    "    \n",
    "    for idx, chunk in enumerate(chunks):\n",
    "        embedding = embedding_model.encode(chunk)\n",
    "        collection.add(\n",
    "            documents=[chunk],\n",
    "            metadatas=[{\"file_name\": file_name, \"chunk_id\": idx}],\n",
    "            ids=[f\"{file_name}_{idx}\"]\n",
    "        )\n",
    "    print(f\"✅ 已新增檔案: {file_name}\")\n",
    "\n",
    "# 🔍 進行檢索\n",
    "def search_pdf(query, top_n=3):\n",
    "    query_tokens = ckip_tokenize(query)\n",
    "    query_embedding = embedding_model.encode(query_tokens)\n",
    "    \n",
    "    results = collection.query(\n",
    "        query_embeddings=[query_embedding],\n",
    "        n_results=top_n\n",
    "    )\n",
    "    \n",
    "    # for doc, score, meta in zip(results['documents'][0], results['distances'][0], results['metadatas'][0]):\n",
    "    #     print(f\"檔案名稱: {meta['file_name']} | Chunk ID: {meta['chunk_id']} | 相似度: {1 - score:.4f}\")\n",
    "    #     print(f\"內容片段: {doc}\\n{'-'*50}\")\n",
    "    with open('a.txt', 'w', encoding='utf-8') as fp:\n",
    "        for doc, score, meta in zip(results['documents'][0], results['distances'][0], results['metadatas'][0]):\n",
    "            fp.write(f\"檔案名稱: {meta['file_name']} | Chunk ID: {meta['chunk_id']} | 相似度: {1 - score:.4f}\\n\")\n",
    "            fp.write(f\"內容片段: {doc}\\n{'-'*50}\\n\")\n",
    "\n",
    "# 🗑️ 刪除 PDF 檔案\n",
    "def remove_pdf_from_chroma(file_name):\n",
    "    # 刪除與檔案名稱相關的所有 Chunk\n",
    "    ids_to_delete = [doc['id'] for doc in collection.get(include=[\"metadatas\"])['metadatas'] if doc[\"file_name\"] == file_name]\n",
    "    collection.delete(ids=ids_to_delete)\n",
    "    client.persist()\n",
    "    print(f\"🗑️ 已刪除檔案: {file_name}\")"
   ]
  },
  {
   "cell_type": "code",
   "execution_count": 2,
   "metadata": {},
   "outputs": [
    {
     "name": "stderr",
     "output_type": "stream",
     "text": [
      "Tokenization: 100%|██████████| 1/1 [00:00<00:00, 919.40it/s]\n",
      "Inference: 100%|██████████| 1/1 [00:00<00:00,  5.09it/s]\n",
      "Insert of existing embedding ID: DE-291-1 DE-293 工作桌.pdf_0\n",
      "Add of existing embedding ID: DE-291-1 DE-293 工作桌.pdf_0\n",
      "Insert of existing embedding ID: DE-291-1 DE-293 工作桌.pdf_1\n",
      "Add of existing embedding ID: DE-291-1 DE-293 工作桌.pdf_1\n"
     ]
    },
    {
     "name": "stdout",
     "output_type": "stream",
     "text": [
      "✅ 已新增檔案: DE-291-1 DE-293 工作桌.pdf\n"
     ]
    },
    {
     "name": "stderr",
     "output_type": "stream",
     "text": [
      "Tokenization: 100%|██████████| 1/1 [00:00<00:00, 664.50it/s]\n",
      "Inference: 100%|██████████| 1/1 [00:00<00:00,  7.41it/s]\n",
      "Insert of existing embedding ID: SADES DIABLO 暗黑鬥狼RGB REALTEK 電競耳麥 7.1 (USB) SA-916.pdf_0\n",
      "Add of existing embedding ID: SADES DIABLO 暗黑鬥狼RGB REALTEK 電競耳麥 7.1 (USB) SA-916.pdf_0\n",
      "Insert of existing embedding ID: SADES DIABLO 暗黑鬥狼RGB REALTEK 電競耳麥 7.1 (USB) SA-916.pdf_1\n",
      "Add of existing embedding ID: SADES DIABLO 暗黑鬥狼RGB REALTEK 電競耳麥 7.1 (USB) SA-916.pdf_1\n"
     ]
    },
    {
     "name": "stdout",
     "output_type": "stream",
     "text": [
      "✅ 已新增檔案: SADES DIABLO 暗黑鬥狼RGB REALTEK 電競耳麥 7.1 (USB) SA-916.pdf\n"
     ]
    },
    {
     "name": "stderr",
     "output_type": "stream",
     "text": [
      "Tokenization: 100%|██████████| 1/1 [00:00<00:00, 397.34it/s]\n",
      "Inference: 100%|██████████| 1/1 [00:00<00:00, 19.56it/s]\n",
      "Insert of existing embedding ID: W202 人體工學椅.pdf_0\n",
      "Add of existing embedding ID: W202 人體工學椅.pdf_0\n",
      "Insert of existing embedding ID: W202 人體工學椅.pdf_1\n",
      "Add of existing embedding ID: W202 人體工學椅.pdf_1\n"
     ]
    },
    {
     "name": "stdout",
     "output_type": "stream",
     "text": [
      "✅ 已新增檔案: W202 人體工學椅.pdf\n"
     ]
    },
    {
     "name": "stderr",
     "output_type": "stream",
     "text": [
      "Tokenization: 100%|██████████| 1/1 [00:00<00:00, 998.88it/s]\n",
      "Inference: 100%|██████████| 1/1 [00:00<00:00, 29.64it/s]\n",
      "Insert of existing embedding ID: [折疊收納]懶人折疊桌.pdf_0\n",
      "Add of existing embedding ID: [折疊收納]懶人折疊桌.pdf_0\n"
     ]
    },
    {
     "name": "stdout",
     "output_type": "stream",
     "text": [
      "✅ 已新增檔案: [折疊收納]懶人折疊桌.pdf\n"
     ]
    },
    {
     "name": "stderr",
     "output_type": "stream",
     "text": [
      "Tokenization: 100%|██████████| 1/1 [00:00<00:00, 95.09it/s]\n",
      "Inference: 100%|██████████| 1/1 [00:00<00:00,  1.29it/s]\n",
      "Insert of existing embedding ID: 世界上最透明的故事（日本出版界話題作，只有紙本書可以體驗的感動）.pdf_0\n",
      "Add of existing embedding ID: 世界上最透明的故事（日本出版界話題作，只有紙本書可以體驗的感動）.pdf_0\n",
      "Insert of existing embedding ID: 世界上最透明的故事（日本出版界話題作，只有紙本書可以體驗的感動）.pdf_1\n",
      "Add of existing embedding ID: 世界上最透明的故事（日本出版界話題作，只有紙本書可以體驗的感動）.pdf_1\n",
      "Insert of existing embedding ID: 世界上最透明的故事（日本出版界話題作，只有紙本書可以體驗的感動）.pdf_2\n",
      "Add of existing embedding ID: 世界上最透明的故事（日本出版界話題作，只有紙本書可以體驗的感動）.pdf_2\n",
      "Insert of existing embedding ID: 世界上最透明的故事（日本出版界話題作，只有紙本書可以體驗的感動）.pdf_3\n",
      "Add of existing embedding ID: 世界上最透明的故事（日本出版界話題作，只有紙本書可以體驗的感動）.pdf_3\n",
      "Insert of existing embedding ID: 世界上最透明的故事（日本出版界話題作，只有紙本書可以體驗的感動）.pdf_4\n",
      "Add of existing embedding ID: 世界上最透明的故事（日本出版界話題作，只有紙本書可以體驗的感動）.pdf_4\n",
      "Insert of existing embedding ID: 世界上最透明的故事（日本出版界話題作，只有紙本書可以體驗的感動）.pdf_5\n",
      "Add of existing embedding ID: 世界上最透明的故事（日本出版界話題作，只有紙本書可以體驗的感動）.pdf_5\n",
      "Insert of existing embedding ID: 世界上最透明的故事（日本出版界話題作，只有紙本書可以體驗的感動）.pdf_6\n",
      "Add of existing embedding ID: 世界上最透明的故事（日本出版界話題作，只有紙本書可以體驗的感動）.pdf_6\n",
      "Insert of existing embedding ID: 世界上最透明的故事（日本出版界話題作，只有紙本書可以體驗的感動）.pdf_7\n",
      "Add of existing embedding ID: 世界上最透明的故事（日本出版界話題作，只有紙本書可以體驗的感動）.pdf_7\n",
      "Insert of existing embedding ID: 世界上最透明的故事（日本出版界話題作，只有紙本書可以體驗的感動）.pdf_8\n",
      "Add of existing embedding ID: 世界上最透明的故事（日本出版界話題作，只有紙本書可以體驗的感動）.pdf_8\n",
      "Insert of existing embedding ID: 世界上最透明的故事（日本出版界話題作，只有紙本書可以體驗的感動）.pdf_9\n",
      "Add of existing embedding ID: 世界上最透明的故事（日本出版界話題作，只有紙本書可以體驗的感動）.pdf_9\n",
      "Insert of existing embedding ID: 世界上最透明的故事（日本出版界話題作，只有紙本書可以體驗的感動）.pdf_10\n",
      "Add of existing embedding ID: 世界上最透明的故事（日本出版界話題作，只有紙本書可以體驗的感動）.pdf_10\n",
      "Insert of existing embedding ID: 世界上最透明的故事（日本出版界話題作，只有紙本書可以體驗的感動）.pdf_11\n",
      "Add of existing embedding ID: 世界上最透明的故事（日本出版界話題作，只有紙本書可以體驗的感動）.pdf_11\n",
      "Insert of existing embedding ID: 世界上最透明的故事（日本出版界話題作，只有紙本書可以體驗的感動）.pdf_12\n",
      "Add of existing embedding ID: 世界上最透明的故事（日本出版界話題作，只有紙本書可以體驗的感動）.pdf_12\n",
      "Insert of existing embedding ID: 世界上最透明的故事（日本出版界話題作，只有紙本書可以體驗的感動）.pdf_13\n",
      "Add of existing embedding ID: 世界上最透明的故事（日本出版界話題作，只有紙本書可以體驗的感動）.pdf_13\n"
     ]
    },
    {
     "name": "stdout",
     "output_type": "stream",
     "text": [
      "✅ 已新增檔案: 世界上最透明的故事（日本出版界話題作，只有紙本書可以體驗的感動）.pdf\n"
     ]
    },
    {
     "name": "stderr",
     "output_type": "stream",
     "text": [
      "Tokenization: 100%|██████████| 1/1 [00:00<00:00, 333.20it/s]\n",
      "Inference: 100%|██████████| 1/1 [00:00<00:00,  8.09it/s]\n",
      "Insert of existing embedding ID: 羅技 Logitech H340 USB耳機麥克風.pdf_0\n",
      "Add of existing embedding ID: 羅技 Logitech H340 USB耳機麥克風.pdf_0\n",
      "Insert of existing embedding ID: 羅技 Logitech H340 USB耳機麥克風.pdf_1\n",
      "Add of existing embedding ID: 羅技 Logitech H340 USB耳機麥克風.pdf_1\n"
     ]
    },
    {
     "name": "stdout",
     "output_type": "stream",
     "text": [
      "✅ 已新增檔案: 羅技 Logitech H340 USB耳機麥克風.pdf\n"
     ]
    }
   ],
   "source": [
    "pdf_directory = \"..\\\\product infomation\"\n",
    "pdf_files = [f for f in os.listdir(pdf_directory) if f.endswith('.pdf')]\n",
    "\n",
    "for pdf_file in pdf_files:\n",
    "    add_pdf_to_chroma(os.path.join(pdf_directory, pdf_file))"
   ]
  },
  {
   "cell_type": "code",
   "execution_count": 3,
   "metadata": {},
   "outputs": [],
   "source": [
    "# search_pdf(\"推理小說\")"
   ]
  },
  {
   "cell_type": "code",
   "execution_count": 6,
   "metadata": {},
   "outputs": [
    {
     "name": "stderr",
     "output_type": "stream",
     "text": [
      "Tokenization: 100%|██████████| 1/1 [00:00<00:00, 989.22it/s]\n",
      "Inference: 100%|██████████| 1/1 [00:00<00:00, 21.26it/s]\n"
     ]
    }
   ],
   "source": [
    "search_pdf(\"耳機麥克風\", top_n=5)"
   ]
  },
  {
   "cell_type": "code",
   "execution_count": null,
   "metadata": {},
   "outputs": [],
   "source": []
  }
 ],
 "metadata": {
  "kernelspec": {
   "display_name": "Python 3",
   "language": "python",
   "name": "python3"
  },
  "language_info": {
   "codemirror_mode": {
    "name": "ipython",
    "version": 3
   },
   "file_extension": ".py",
   "mimetype": "text/x-python",
   "name": "python",
   "nbconvert_exporter": "python",
   "pygments_lexer": "ipython3",
   "version": "3.11.7"
  }
 },
 "nbformat": 4,
 "nbformat_minor": 2
}
