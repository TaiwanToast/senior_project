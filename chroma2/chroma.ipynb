{
 "cells": [
  {
   "cell_type": "code",
   "execution_count": 28,
   "metadata": {},
   "outputs": [],
   "source": [
    "import os\n",
    "import chromadb\n",
    "import pypdf\n",
    "import numpy as np\n",
    "from langchain.text_splitter import RecursiveCharacterTextSplitter\n",
    "from sentence_transformers import SentenceTransformer\n"
   ]
  },
  {
   "cell_type": "code",
   "execution_count": null,
   "metadata": {},
   "outputs": [],
   "source": [
    "# 初始化 ChromaDB\n",
    "chroma_client = chromadb.PersistentClient(path=\"./chroma_db\")\n",
    "collection = chroma_client.get_or_create_collection(name=\"pdf_documents\")\n",
    "\n",
    "# 選擇適合中文的語意檢索模型\n",
    "model = SentenceTransformer(\"sentence-transformers/paraphrase-multilingual-MiniLM-L12-v2\")"
   ]
  },
  {
   "cell_type": "code",
   "execution_count": null,
   "metadata": {},
   "outputs": [],
   "source": [
    "def extract_text_from_pdf(pdf_path):\n",
    "    \"\"\" 從 PDF 提取文字內容 \"\"\"\n",
    "    text = \"\"\n",
    "    with open(pdf_path, \"rb\") as file:\n",
    "        reader = pypdf.PdfReader(file)\n",
    "        for page in reader.pages:\n",
    "            text += page.extract_text() + \"\\n\"\n",
    "    return text"
   ]
  },
  {
   "cell_type": "code",
   "execution_count": null,
   "metadata": {},
   "outputs": [],
   "source": [
    "def split_text(text, chunk_size=500, chunk_overlap=50):\n",
    "    \"\"\" 切分文本為小段落 \"\"\"\n",
    "    splitter = RecursiveCharacterTextSplitter(chunk_size=chunk_size, chunk_overlap=chunk_overlap)\n",
    "    return splitter.split_text(text)"
   ]
  },
  {
   "cell_type": "code",
   "execution_count": null,
   "metadata": {},
   "outputs": [],
   "source": [
    "def text_to_vector(text):\n",
    "    \"\"\" 將文本轉換為向量 \"\"\"\n",
    "    return model.encode(text).tolist()"
   ]
  },
  {
   "cell_type": "code",
   "execution_count": null,
   "metadata": {},
   "outputs": [],
   "source": [
    "def store_vectors_in_chroma(text_chunks, file_name):\n",
    "    \"\"\" 儲存文本向量到 ChromaDB，並包含文件名稱 \"\"\"\n",
    "    for idx, chunk in enumerate(text_chunks):\n",
    "        collection.add(\n",
    "            ids=[f\"{file_name}_{idx}\"],\n",
    "            embeddings=[text_to_vector(chunk)],\n",
    "            metadatas=[{\"text\": chunk, \"file_name\": file_name}]\n",
    "        )"
   ]
  },
  {
   "cell_type": "code",
   "execution_count": null,
   "metadata": {},
   "outputs": [],
   "source": [
    "def process_pdfs(pdf_folder):\n",
    "    \"\"\" 處理指定資料夾內的所有 PDF，並存入向量資料庫 \"\"\"\n",
    "    for file in os.listdir(pdf_folder):\n",
    "        if file.endswith(\".pdf\"):\n",
    "            pdf_path = os.path.join(pdf_folder, file)\n",
    "            print(f\"處理文件: {file}\")\n",
    "            pdf_text = extract_text_from_pdf(pdf_path)\n",
    "            text_chunks = split_text(pdf_text)\n",
    "            store_vectors_in_chroma(text_chunks, file)"
   ]
  },
  {
   "cell_type": "code",
   "execution_count": null,
   "metadata": {},
   "outputs": [],
   "source": [
    "def search_chroma(query, top_k=3):\n",
    "    \"\"\" 使用 ChromaDB 查詢相似文本，並回傳對應的 PDF 文件名稱 \"\"\"\n",
    "    query_vector = text_to_vector(query)\n",
    "    results = collection.query(query_embeddings=[query_vector], n_results=top_k)\n",
    "    \n",
    "    matched_texts = [r[\"text\"] for r in results[\"metadatas\"][0]]\n",
    "    file_names = [r[\"file_name\"] for r in results[\"metadatas\"][0]]\n",
    "    \n",
    "    return list(zip(file_names, matched_texts))"
   ]
  },
  {
   "cell_type": "code",
   "execution_count": null,
   "metadata": {},
   "outputs": [
    {
     "name": "stdout",
     "output_type": "stream",
     "text": [
      "處理文件: DE-291-1 DE-293 工作桌.pdf\n"
     ]
    },
    {
     "name": "stderr",
     "output_type": "stream",
     "text": [
      "Insert of existing embedding ID: DE-291-1 DE-293 工作桌.pdf_0\n",
      "Add of existing embedding ID: DE-291-1 DE-293 工作桌.pdf_0\n",
      "Insert of existing embedding ID: SADES DIABLO 暗黑鬥狼RGB REALTEK 電競耳麥 7.1 (USB) SA-916.pdf_0\n",
      "Add of existing embedding ID: SADES DIABLO 暗黑鬥狼RGB REALTEK 電競耳麥 7.1 (USB) SA-916.pdf_0\n"
     ]
    },
    {
     "name": "stdout",
     "output_type": "stream",
     "text": [
      "處理文件: SADES DIABLO 暗黑鬥狼RGB REALTEK 電競耳麥 7.1 (USB) SA-916.pdf\n"
     ]
    },
    {
     "name": "stderr",
     "output_type": "stream",
     "text": [
      "Insert of existing embedding ID: SADES DIABLO 暗黑鬥狼RGB REALTEK 電競耳麥 7.1 (USB) SA-916.pdf_1\n",
      "Add of existing embedding ID: SADES DIABLO 暗黑鬥狼RGB REALTEK 電競耳麥 7.1 (USB) SA-916.pdf_1\n",
      "Insert of existing embedding ID: W202 人體工學椅.pdf_0\n",
      "Add of existing embedding ID: W202 人體工學椅.pdf_0\n",
      "Insert of existing embedding ID: [折疊收納]懶人折疊桌.pdf_0\n",
      "Add of existing embedding ID: [折疊收納]懶人折疊桌.pdf_0\n"
     ]
    },
    {
     "name": "stdout",
     "output_type": "stream",
     "text": [
      "處理文件: W202 人體工學椅.pdf\n",
      "處理文件: [折疊收納]懶人折疊桌.pdf\n",
      "處理文件: 羅技 Logitech H340 USB耳機麥克風.pdf\n"
     ]
    },
    {
     "name": "stderr",
     "output_type": "stream",
     "text": [
      "Insert of existing embedding ID: 羅技 Logitech H340 USB耳機麥克風.pdf_0\n",
      "Add of existing embedding ID: 羅技 Logitech H340 USB耳機麥克風.pdf_0\n",
      "Insert of existing embedding ID: 羅技 Logitech H340 USB耳機麥克風.pdf_1\n",
      "Add of existing embedding ID: 羅技 Logitech H340 USB耳機麥克風.pdf_1\n"
     ]
    }
   ],
   "source": [
    "# 🔹 處理多個 PDF 文件\n",
    "process_pdfs(\"D:\\.vscode\\專題\\product infomation\")  # 你的 PDF 資料夾路徑"
   ]
  },
  {
   "cell_type": "code",
   "execution_count": null,
   "metadata": {},
   "outputs": [
    {
     "name": "stdout",
     "output_type": "stream",
     "text": [
      "來自文件: [折疊收納]懶人折疊桌.pdf\n",
      "相關段落 1: 商品名稱[折疊收納]懶人折疊桌 店家名稱吉來小舖\n",
      "商品售價95 店家電話未提供\n",
      "店家地址未提供\n",
      "商品描述\n",
      "商品資料表\n",
      "產品名稱：懶人折疊桌\n",
      "產品顏色：木紋\n",
      "展開尺寸：50x30x23cm\n",
      "折疊尺寸：50x30x5cm\n",
      "產品重量：約1290克\n",
      "產品材質：密度板+鋼管+塑料\n",
      "產品用途：折疊桌\n",
      "組裝需求：無\n",
      "使用方法：展開即可使用\n",
      "產品產地：中國\n",
      "產品貨源：原廠公司貨\n",
      "保存方法：本產品請避光陰涼處存放。\n",
      "產品內容：懶人折疊桌x1\n",
      "\n",
      "來自文件: W202 人體工學椅.pdf\n",
      "相關段落 2: 商品名稱W202 人體工學椅 店家名稱Xpanse旗艦店\n",
      "商品售價1,460 店家電話未提供\n",
      "店家地址未提供\n",
      "商品描述\n",
      "商品資料表\n",
      "耐重粗鐵管腳+強化塑料框架 結構穩實乘坐安全可靠\n",
      "椅背採優選透氣網布，韌性高易拉伸不易斯裂\n",
      "高密度定型棉坐墊，柔軟舒適久坐\n",
      "當空間較小時或需搬動時可以瞬間收納，不佔空間\n",
      "㇐體式折合桌椅輕便重量只有8KG,收納移動簡單便利 \n",
      "已投保1000萬-產品責任險~讓您安心使用多㇐分保障\n",
      "有實體店面，購買有保障\n",
      "【規格】\n",
      "材質：網布，泡棉，PP塑料，鋼管\n",
      "收合尺寸：寬62CM*高100CM*厚度25CM(詳細尺寸如圖所示 手量尺寸正負2CM)\n",
      "展開尺寸：(詳細尺寸如圖所示 手量尺寸正負2CM)\n",
      "商品重量：8KG(單張) \n",
      "組裝：【免組裝】，圖片為組裝後之成品。\n",
      "\n",
      "來自文件: 羅技 Logitech H340 USB耳機麥克風.pdf\n",
      "相關段落 3: 商品名稱羅技 Logitech H340 USB耳機麥克風 店家名稱筑蒂資訊有限公司\n",
      "商品售價945 店家電話04-22216131\n",
      "店家地址台灣省台中市中山路49巷11-2號\n",
      "商品描述\n",
      "商品資料表\n",
      "H340 USB Computer Headset\n",
      "UBS隨插即用\n",
      "H340 USB 耳機麥克風具有簡易隨插即用 USB-A \n",
      "連線功能，是完美的日常工作耳機麥克風。隔噪麥克風可減少背景噪音，為 VOIP 和 通話提供清晰的數位音訊。\n",
      "隔噪麥克風\n",
      "右側的麥克風可調整位置以獲得更好的收音效果，並隔離背景雜音。麥克風桿不使用時可以將其完全折入頭帶中。\n",
      "可調整頭帶\n",
      "配備旋轉安裝式泡棉耳墊的輕盈頭帶，讓您⾧時間使用也能享有舒適的音訊聆聽感受。\n",
      "USB-A 連線\n",
      "USB 提供簡單的隨插即用操作。只需將 USB-A 接頭插入您的電腦，就能開始進行交談、聆聽音樂或遊玩遊戲。\n",
      "尺寸\n",
      "高度: 160 公釐\n",
      "寬度: 175 公釐\n",
      "深度: 60 公釐+B5\n",
      "重量: 0.1 公斤\n",
      "連接線⾧度: 1.8 公尺\n",
      "技術規格+B5\n",
      "麥克風類型: 雙向\n",
      "輸入阻抗: 22 歐姆\n",
      "耳機靈敏度: 115 dB +/-3 dB\n",
      "\n",
      "來自文件: SADES DIABLO 暗黑鬥狼RGB REALTEK 電競耳麥 7.1 (USB) SA-916.pdf\n",
      "相關段落 4: 商品名稱SADES DIABLO 暗黑鬥狼RGB REALTEK 電競耳麥 7.1 (USB) SA-916店家名稱筑蒂資訊有限公司\n",
      "商品售價2,390 店家電話04-22216131\n",
      "店家地址台灣省台中市中山路49巷11-2號\n",
      "商品描述\n",
      "商品資料表\n",
      "<<黑暗中閃耀的不只是我的利爪 還有你即將流下的眼淚>> \n",
      "• 全球首發Realtek瑞昱電競耳機音效系統 \n",
      "• 電競音效功能：擴闊音場/強化通話/高頻恢復/自動音量調整 \n",
      "• 反射式炫光RGB呼吸燈 \n",
      "• 金屬伸縮軟管全向式降噪麥克風 \n",
      "• 轉盤式快速音量控制 \n",
      "• 超厚透氣美容級蛋白質耳罩 \n",
      "**拍下發票(需達指定金額以上)與耳機序號私訊粉絲團  \n",
      "即送Jonsbo喬思伯時尚鋁合金耳機架1個(紅/黑/銀3選1)(價值790)送完為止  \n",
      "**贈品不在活動範圍內**   \n",
      "**以上原廠活動是針對消費者 經銷商及特殊SI方案者不在範圍內 賽德斯官方粉絲團擁有最終決策權**\n",
      "產品型號： SA-916\n",
      "揚聲器直徑： 高傳真釹磁40mm單體\n",
      "頻率範圍： 20-20.000Hz\n",
      "靈敏度： 116dB + / - 3 dB at 1 kHz\n",
      "\n",
      "來自文件: DE-291-1 DE-293 工作桌.pdf\n",
      "相關段落 5: 商品名稱DE-291-1 DE-293 工作桌 店家名稱家昀國際暢貨中心\n",
      "商品售價1,299 店家電話04-25651960\n",
      "店家地址台中市大雅區龍善二街22號\n",
      "商品描述\n",
      "商品資料表\n",
      "商品型號：I-R-DE291-1胡桃色/I-R-DE293胡桃搭黑色\n",
      "商品尺寸：W120×D60×H121.5CM\n",
      "商品顏色：胡桃木色/胡桃搭黑色\n",
      "商品材質：厚1.5cm塑合板貼美耐皿+2*2cm烤漆鐵管\n",
      "組裝方式：需要自行組裝\n",
      "商品特色：\n",
      "✓加大桌面120公分寬60公分深.比市面120x48cm縮小版,作業更順手 .\n",
      "✓書桌搭配書櫃的貼心設計  \n",
      "✓簡約俐落設計，時尚具質感  \n",
      "✓可當書桌、辦公桌、電腦桌\n",
      "✓美耐皿板，防水、防刮、耐磨，好整理,非市售貼紙/貼PVC不耐刮,易吸水膨脹,發霉.\n",
      "◆配送說明：商品皆配送至同平面1樓\n",
      "◆組裝方式：需DIY組裝，請按照說明書上定期檢查及維護。\n",
      "\n"
     ]
    }
   ],
   "source": [
    "# 🔹 測試查詢\n",
    "query = \"辦公桌\"\n",
    "search_results = search_chroma(query, 5)\n",
    "for i, (file_name, result) in enumerate(search_results):\n",
    "    print(f\"來自文件: {file_name}\\n相關段落 {i+1}: {result}\\n\")"
   ]
  },
  {
   "cell_type": "code",
   "execution_count": null,
   "metadata": {},
   "outputs": [],
   "source": [
    "with open('a.txt', 'w', encoding='utf-8') as f:\n",
    "    for i, (file_name, result) in enumerate(search_results):\n",
    "        f.write(f\"來自文件: {file_name}\\n相關段落 {i+1}: {result}\\n\\n\")"
   ]
  },
  {
   "cell_type": "code",
   "execution_count": null,
   "metadata": {},
   "outputs": [],
   "source": []
  }
 ],
 "metadata": {
  "kernelspec": {
   "display_name": "Python 3",
   "language": "python",
   "name": "python3"
  },
  "language_info": {
   "codemirror_mode": {
    "name": "ipython",
    "version": 3
   },
   "file_extension": ".py",
   "mimetype": "text/x-python",
   "name": "python",
   "nbconvert_exporter": "python",
   "pygments_lexer": "ipython3",
   "version": "3.11.7"
  }
 },
 "nbformat": 4,
 "nbformat_minor": 2
}
