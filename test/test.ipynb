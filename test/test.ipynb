{
 "cells": [
  {
   "cell_type": "code",
   "execution_count": 1,
   "metadata": {},
   "outputs": [
    {
     "name": "stderr",
     "output_type": "stream",
     "text": [
      "d:\\Python3\\Lib\\site-packages\\tqdm\\auto.py:21: TqdmWarning: IProgress not found. Please update jupyter and ipywidgets. See https://ipywidgets.readthedocs.io/en/stable/user_install.html\n",
      "  from .autonotebook import tqdm as notebook_tqdm\n"
     ]
    },
    {
     "name": "stdout",
     "output_type": "stream",
     "text": [
      "MyChromaAndTFIDF initialized\n"
     ]
    }
   ],
   "source": [
    "from myChromaAndTFIDF_copy import MyChromaAndTFIDF\n",
    "\n",
    "chromaAndTFIDF = MyChromaAndTFIDF()"
   ]
  },
  {
   "cell_type": "code",
   "execution_count": 2,
   "metadata": {},
   "outputs": [],
   "source": [
    "# csv_file_path = '..\\\\product infomation\\\\products.csv'\n",
    "# chromaAndTFIDF.addFile(csv_file_path)"
   ]
  },
  {
   "cell_type": "code",
   "execution_count": 3,
   "metadata": {},
   "outputs": [
    {
     "name": "stderr",
     "output_type": "stream",
     "text": [
      "Tokenization: 100%|██████████| 1/1 [00:00<?, ?it/s]\n",
      "Inference: 100%|██████████| 1/1 [00:00<00:00,  7.62it/s]\n",
      "Tokenization: 100%|██████████| 1/1 [00:00<?, ?it/s]\n",
      "Inference: 100%|██████████| 1/1 [00:00<00:00, 84.57it/s]\n"
     ]
    }
   ],
   "source": [
    "chromaAndTFIDF.search(query='慢跑鞋', hybridSearch=True, use_json_file_storage=True)"
   ]
  },
  {
   "cell_type": "code",
   "execution_count": 4,
   "metadata": {},
   "outputs": [
    {
     "name": "stderr",
     "output_type": "stream",
     "text": [
      "Tokenization: 100%|██████████| 1/1 [00:00<?, ?it/s]\n",
      "Inference: 100%|██████████| 1/1 [00:00<00:00, 73.33it/s]\n",
      "Tokenization: 100%|██████████| 1/1 [00:00<?, ?it/s]\n",
      "Inference: 100%|██████████| 1/1 [00:00<00:00, 83.19it/s]\n"
     ]
    }
   ],
   "source": [
    "chromaResult, tfidfResult, hybridResult = chromaAndTFIDF.search(query='慢跑鞋', hybridSearch=True)"
   ]
  },
  {
   "cell_type": "code",
   "execution_count": 5,
   "metadata": {},
   "outputs": [
    {
     "name": "stdout",
     "output_type": "stream",
     "text": [
      "hybrid result:\n",
      "adidas RUNFALCON 3.0 跑鞋 慢跑鞋 運動鞋 / 0.11757960424642834\n",
      "W202 人體工學椅 / 0.02533989383954909\n",
      "[折疊收納]懶人折疊桌 / 0.02371149136456928\n",
      "SADES DIABLO 暗黑鬥狼RGB REALTEK 電競耳麥 7.1 (USB) SA-916 / 0.022783986521250313\n",
      "Razer 雷蛇 BlackShark V2 X 黑鯊 電競耳機 3.5mm / 0.022573151791139\n",
      "DE-291-1 DE-293 工作桌 / 0.021616837029397817\n",
      "羅技 Logitech H340 USB耳機麥克風 / 0.021503814009138186\n",
      "世界上最透明的故事（日本出版界話題作，只有紙本書可以體驗的感動） / 0.01863774685691492\n"
     ]
    }
   ],
   "source": [
    "print('hybrid result:')\n",
    "for i in hybridResult:\n",
    "    print(i[0] + ' / ' + str(i[1]))"
   ]
  },
  {
   "cell_type": "code",
   "execution_count": 7,
   "metadata": {},
   "outputs": [
    {
     "name": "stderr",
     "output_type": "stream",
     "text": [
      "Tokenization: 100%|██████████| 1/1 [00:00<?, ?it/s]\n",
      "Inference: 100%|██████████| 1/1 [00:00<00:00, 21.59it/s]\n",
      "Tokenization: 100%|██████████| 1/1 [00:00<00:00, 998.88it/s]\n",
      "Inference: 100%|██████████| 1/1 [00:00<00:00, 21.87it/s]\n"
     ]
    }
   ],
   "source": [
    "query = '慢跑鞋'\n",
    "\n",
    "chromaAndTFIDF.search(query=query, hybridSearch=True, use_json_file_storage=True)"
   ]
  },
  {
   "cell_type": "code",
   "execution_count": null,
   "metadata": {},
   "outputs": [],
   "source": []
  }
 ],
 "metadata": {
  "kernelspec": {
   "display_name": "Python 3",
   "language": "python",
   "name": "python3"
  },
  "language_info": {
   "codemirror_mode": {
    "name": "ipython",
    "version": 3
   },
   "file_extension": ".py",
   "mimetype": "text/x-python",
   "name": "python",
   "nbconvert_exporter": "python",
   "pygments_lexer": "ipython3",
   "version": "3.11.7"
  }
 },
 "nbformat": 4,
 "nbformat_minor": 2
}
