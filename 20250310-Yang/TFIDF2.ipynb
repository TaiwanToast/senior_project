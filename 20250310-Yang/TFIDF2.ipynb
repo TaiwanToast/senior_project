{
 "cells": [
  {
   "cell_type": "code",
   "execution_count": 1,
   "metadata": {},
   "outputs": [
    {
     "name": "stderr",
     "output_type": "stream",
     "text": [
      "d:\\Python3\\Lib\\site-packages\\tqdm\\auto.py:21: TqdmWarning: IProgress not found. Please update jupyter and ipywidgets. See https://ipywidgets.readthedocs.io/en/stable/user_install.html\n",
      "  from .autonotebook import tqdm as notebook_tqdm\n"
     ]
    }
   ],
   "source": [
    "import os\n",
    "import pypdf\n",
    "from ckip_transformers.nlp import CkipWordSegmenter\n",
    "from sklearn.feature_extraction.text import TfidfVectorizer\n",
    "from sklearn.metrics.pairwise import cosine_similarity"
   ]
  },
  {
   "cell_type": "code",
   "execution_count": 2,
   "metadata": {},
   "outputs": [],
   "source": [
    "ws_driver = CkipWordSegmenter(device=0)"
   ]
  },
  {
   "cell_type": "code",
   "execution_count": 3,
   "metadata": {},
   "outputs": [],
   "source": [
    "def extract_text_from_pdf(pdf_path):\n",
    "    text = \"\"\n",
    "    with open(pdf_path, 'rb') as file:\n",
    "        reader = pypdf.PdfReader(file)\n",
    "        for page in reader.pages:\n",
    "            text += page.extract_text() or \"\"\n",
    "    return text"
   ]
  },
  {
   "cell_type": "code",
   "execution_count": 4,
   "metadata": {},
   "outputs": [],
   "source": [
    "# 進行 CKIP 斷詞\n",
    "def ckip_tokenize(text):\n",
    "    ws = ws_driver([text])[0]\n",
    "    return \" \".join(ws)"
   ]
  },
  {
   "cell_type": "code",
   "execution_count": 5,
   "metadata": {},
   "outputs": [
    {
     "name": "stderr",
     "output_type": "stream",
     "text": [
      "Tokenization: 100%|██████████| 1/1 [00:00<00:00, 999.36it/s]\n",
      "Inference:   0%|          | 0/1 [00:00<?, ?it/s]"
     ]
    },
    {
     "name": "stderr",
     "output_type": "stream",
     "text": [
      "Inference: 100%|██████████| 1/1 [00:00<00:00,  4.47it/s]\n",
      "Tokenization: 100%|██████████| 1/1 [00:00<00:00, 994.85it/s]\n",
      "Inference: 100%|██████████| 1/1 [00:00<00:00,  6.98it/s]\n",
      "Tokenization: 100%|██████████| 1/1 [00:00<00:00, 965.76it/s]\n",
      "Inference: 100%|██████████| 1/1 [00:00<00:00, 20.54it/s]\n",
      "Tokenization: 100%|██████████| 1/1 [00:00<?, ?it/s]\n",
      "Inference: 100%|██████████| 1/1 [00:00<00:00, 31.04it/s]\n",
      "Tokenization: 100%|██████████| 1/1 [00:00<00:00, 216.45it/s]\n",
      "Inference: 100%|██████████| 1/1 [00:00<00:00,  1.29it/s]\n",
      "Tokenization: 100%|██████████| 1/1 [00:00<00:00, 893.17it/s]\n",
      "Inference: 100%|██████████| 1/1 [00:00<00:00,  8.21it/s]\n"
     ]
    }
   ],
   "source": [
    "pdf_directory = \"..\\\\product infomation\"\n",
    "pdf_files = [f for f in os.listdir(pdf_directory) if f.endswith('.pdf')]\n",
    "\n",
    "documents = []\n",
    "file_names = []\n",
    "\n",
    "for pdf_file in pdf_files:\n",
    "    path = os.path.join(pdf_directory, pdf_file)\n",
    "    text = extract_text_from_pdf(path)\n",
    "    tokenized_text = ckip_tokenize(text)\n",
    "    documents.append(tokenized_text)\n",
    "    file_names.append(pdf_file)"
   ]
  },
  {
   "cell_type": "code",
   "execution_count": 6,
   "metadata": {},
   "outputs": [],
   "source": [
    "vectorizer = TfidfVectorizer()\n",
    "tfidf_matrix = vectorizer.fit_transform(documents)"
   ]
  },
  {
   "cell_type": "code",
   "execution_count": 7,
   "metadata": {},
   "outputs": [],
   "source": [
    "# 搜尋並檢索\n",
    "def search_documents(query, top_n=5):\n",
    "    # 查詢語句也使用 CKIP 斷詞\n",
    "    query_tokens = ckip_tokenize(query)\n",
    "    query_vec = vectorizer.transform([query_tokens])\n",
    "    \n",
    "    # 計算餘弦相似度\n",
    "    cosine_sim = cosine_similarity(query_vec, tfidf_matrix).flatten()\n",
    "    \n",
    "    # 排序並取得前 N 筆\n",
    "    top_indices = cosine_sim.argsort()[-top_n:][::-1]\n",
    "    results = []\n",
    "    for idx in top_indices:\n",
    "        results.append({\n",
    "            \"file_name\": file_names[idx],\n",
    "            \"similarity\": cosine_sim[idx]\n",
    "        })\n",
    "    return results"
   ]
  },
  {
   "cell_type": "code",
   "execution_count": 8,
   "metadata": {},
   "outputs": [
    {
     "name": "stderr",
     "output_type": "stream",
     "text": [
      "Tokenization: 100%|██████████| 1/1 [00:00<?, ?it/s]\n",
      "Inference: 100%|██████████| 1/1 [00:00<00:00, 66.20it/s]\n"
     ]
    }
   ],
   "source": [
    "query = \"耳麥\"\n",
    "results = search_documents(query)"
   ]
  },
  {
   "cell_type": "code",
   "execution_count": null,
   "metadata": {},
   "outputs": [
    {
     "name": "stdout",
     "output_type": "stream",
     "text": [
      "\n",
      "檢索結果:\n",
      "檔名: SADES DIABLO 暗黑鬥狼RGB REALTEK 電競耳麥 7.1 (USB) SA-916.pdf, 相似度: 0.0673\n",
      "檔名: 羅技 Logitech H340 USB耳機麥克風.pdf, 相似度: 0.0000\n",
      "檔名: 世界上最透明的故事（日本出版界話題作，只有紙本書可以體驗的感動）.pdf, 相似度: 0.0000\n",
      "檔名: [折疊收納]懶人折疊桌.pdf, 相似度: 0.0000\n",
      "檔名: W202 人體工學椅.pdf, 相似度: 0.0000\n"
     ]
    }
   ],
   "source": [
    "print(\"\\n檢索結果:\")\n",
    "for res in results:\n",
    "    print(f\"檔名: {res['file_name']}, 相似度: {res['similarity']:.4f}\")"
   ]
  },
  {
   "cell_type": "code",
   "execution_count": 11,
   "metadata": {},
   "outputs": [
    {
     "name": "stderr",
     "output_type": "stream",
     "text": [
      "Tokenization: 100%|██████████| 1/1 [00:00<?, ?it/s]\n",
      "Inference: 100%|██████████| 1/1 [00:00<00:00, 21.94it/s]"
     ]
    },
    {
     "name": "stdout",
     "output_type": "stream",
     "text": [
      "\n",
      "檢索結果:\n",
      "檔名: DE-291-1 DE-293 工作桌.pdf, 相似度: 0.0864\n",
      "檔名: 羅技 Logitech H340 USB耳機麥克風.pdf, 相似度: 0.0000\n",
      "檔名: 世界上最透明的故事（日本出版界話題作，只有紙本書可以體驗的感動）.pdf, 相似度: 0.0000\n",
      "檔名: [折疊收納]懶人折疊桌.pdf, 相似度: 0.0000\n",
      "檔名: W202 人體工學椅.pdf, 相似度: 0.0000\n"
     ]
    },
    {
     "name": "stderr",
     "output_type": "stream",
     "text": [
      "\n"
     ]
    }
   ],
   "source": [
    "query = \"辦公桌\"\n",
    "results = search_documents(query)\n",
    "\n",
    "print(\"\\n檢索結果:\")\n",
    "for res in results:\n",
    "    print(f\"檔名: {res['file_name']}, 相似度: {res['similarity']:.4f}\")"
   ]
  },
  {
   "cell_type": "code",
   "execution_count": null,
   "metadata": {},
   "outputs": [],
   "source": []
  }
 ],
 "metadata": {
  "kernelspec": {
   "display_name": "Python 3",
   "language": "python",
   "name": "python3"
  },
  "language_info": {
   "codemirror_mode": {
    "name": "ipython",
    "version": 3
   },
   "file_extension": ".py",
   "mimetype": "text/x-python",
   "name": "python",
   "nbconvert_exporter": "python",
   "pygments_lexer": "ipython3",
   "version": "3.11.7"
  }
 },
 "nbformat": 4,
 "nbformat_minor": 2
}
